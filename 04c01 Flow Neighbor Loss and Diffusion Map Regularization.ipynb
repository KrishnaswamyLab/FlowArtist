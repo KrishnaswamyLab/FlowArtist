{
 "cells": [
  {
   "cell_type": "code",
   "execution_count": 1,
   "id": "50e305fc",
   "metadata": {},
   "outputs": [
    {
     "name": "stdout",
     "output_type": "stream",
     "text": [
      "Using device cuda\n"
     ]
    }
   ],
   "source": [
    "# default_exp \n",
    "from nbdev.showdoc import *\n",
    "import numpy as np\n",
    "import matplotlib.pyplot as plt\n",
    "import torch\n",
    "import FRED\n",
    "from FRED.trainers import *\n",
    "if torch.__version__[:4] == '1.13': # If using pytorch with MPS, use Apple silicon GPU acceleration\n",
    "    device = torch.device(\"cuda\" if torch.cuda.is_available() else 'mps' if torch.has_mps else \"cpu\")\n",
    "else:\n",
    "    device = torch.device(\"cuda\" if torch.cuda.is_available() else \"cpu\")\n",
    "print(\"Using device\", device)\n",
    "%load_ext autoreload\n",
    "%autoreload 2"
   ]
  },
  {
   "cell_type": "markdown",
   "id": "dc673275",
   "metadata": {},
   "source": [
    "# 04c01 Trainer: Flow Neighbor Loss and Diffusion Map Regularization\n",
    "> A copy of FRED, tailored with particular loss functions"
   ]
  },
  {
   "cell_type": "code",
   "execution_count": null,
   "id": "41fc6a71",
   "metadata": {},
   "outputs": [],
   "source": [
    "class FlowNeighborDiffMap(Trainer):\n",
    "    def __init__(self, dataloader, device = device):\n",
    "        self.vizfiz = [\n",
    "            save_embedding_visualization,\n",
    "            visualize_points\n",
    "        ]\n",
    "        self.loss_weights = {\n",
    "            \"reconstruction\": 1,\n",
    "            \"diffusion map regularization\": 1,\n",
    "            \"flow neighbor loss\": 1e-4,\n",
    "            \"smoothness\": 0,\n",
    "        }\n",
    "        self.FE = ManifoldFlowEmbedder(\n",
    "            embedding_dimension=2,\n",
    "            embedder_shape=[3, 4, 8, 4, 2],\n",
    "            device=device,\n",
    "            sigma=0.5,\n",
    "            flow_strength=0.5,\n",
    "            smoothness_grid=True,\n",
    "        )\n",
    "        self.dataloader = dataloader\n",
    "        self.title = \"Vanilla MFE\"\n",
    "        self.epochs_between_visualization = 10\n",
    "        self.num_epochs = 100\n",
    "        self.timestamp = datetime.datetime.now().isoformat()\n",
    "        os.mkdir(f\"visualizations/{self.timestamp}\")\n",
    "        self.optim = torch.optim.Adam(self.FE.parameters())\n",
    "        self.scheduler = None\n",
    "        # for plotting\n",
    "        self.labels = dataloader.dataset.labels\n",
    "        self.X = dataloader.dataset.X\n",
    "        "
   ]
  }
 ],
 "metadata": {
  "kernelspec": {
   "display_name": "Python 3 (ipykernel)",
   "language": "python",
   "name": "python3"
  },
  "language_info": {
   "codemirror_mode": {
    "name": "ipython",
    "version": 3
   },
   "file_extension": ".py",
   "mimetype": "text/x-python",
   "name": "python",
   "nbconvert_exporter": "python",
   "pygments_lexer": "ipython3",
   "version": "3.9.13"
  }
 },
 "nbformat": 4,
 "nbformat_minor": 5
}
