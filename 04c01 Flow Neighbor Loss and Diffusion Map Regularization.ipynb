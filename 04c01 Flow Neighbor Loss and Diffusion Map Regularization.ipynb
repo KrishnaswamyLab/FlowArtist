{
 "cells": [
  {
   "cell_type": "code",
   "execution_count": null,
   "id": "50e305fc",
   "metadata": {},
   "outputs": [
    {
     "name": "stdout",
     "output_type": "stream",
     "text": [
      "Using device mps\n",
      "The autoreload extension is already loaded. To reload it, use:\n",
      "  %reload_ext autoreload\n"
     ]
    }
   ],
   "source": [
    "# default_exp trainers\n",
    "from nbdev.showdoc import *\n",
    "import numpy as np\n",
    "import matplotlib.pyplot as plt\n",
    "import torch\n",
    "import FRED\n",
    "from FRED.trainers import *\n",
    "from FRED.trainers import Trainer\n",
    "if torch.__version__[:4] == '1.13': # If using pytorch with MPS, use Apple silicon GPU acceleration\n",
    "    device = torch.device(\"cuda\" if torch.cuda.is_available() else 'mps' if torch.has_mps else \"cpu\")\n",
    "else:\n",
    "    device = torch.device(\"cuda\" if torch.cuda.is_available() else \"cpu\")\n",
    "print(\"Using device\", device)\n",
    "%load_ext autoreload\n",
    "%autoreload 2"
   ]
  },
  {
   "cell_type": "markdown",
   "id": "2c83c04a",
   "metadata": {},
   "source": [
    "# 04c01 Trainer: Flow Neighbor Loss and Diffusion Map Regularization\n",
    "> A copy of FRED, tailored with particular loss functions"
   ]
  },
  {
   "cell_type": "code",
   "execution_count": null,
   "id": "40eec025",
   "metadata": {},
   "outputs": [],
   "source": [
    "# initialize model parameters and layers\n",
    "from FRED.embed import ManifoldFlowEmbedder\n",
    "from FRED.trainers import save_embedding_visualization, visualize_points\n",
    "title = \"Flow Neighbor Loss + Diffusion Map Reg\"\n",
    "MFE = ManifoldFlowEmbedder(\n",
    "            embedding_dimension=2,\n",
    "            embedder_shape=[3, 4, 8, 4, 2],\n",
    "            device=device,\n",
    "            sigma=0.5,\n",
    "            flow_strength=0.5,\n",
    "            smoothness_grid=True,\n",
    "        )\n",
    "loss_weights = {\n",
    "            \"reconstruction\": 1,\n",
    "            \"diffusion map regularization\": 1,\n",
    "            \"flow neighbor loss\": 1e-3,\n",
    "            \"smoothness\": 0,\n",
    "        }\n",
    "visualization_functions = [\n",
    "    save_embedding_visualization,\n",
    "    visualize_points\n",
    "]\n",
    "FREDtrainer = Trainer(FE = MFE, loss_weights=loss_weights, visualization_functions = visualization_functions, device=device, title = title)"
   ]
  },
  {
   "cell_type": "markdown",
   "id": "c827be65",
   "metadata": {},
   "source": [
    "# Testing on the Circle"
   ]
  },
  {
   "cell_type": "code",
   "execution_count": null,
   "id": "939ad7f4",
   "metadata": {},
   "outputs": [
    {
     "name": "stdout",
     "output_type": "stream",
     "text": [
      "Set sigma =  0.015164213\n"
     ]
    },
    {
     "data": {
      "image/png": "[encoded data removed]",
      "text/plain": [
       "<Figure size 432x288 with 1 Axes>"
      ]
     },
     "metadata": {
      "needs_background": "light"
     },
     "output_type": "display_data"
    }
   ],
   "source": [
    "from FRED.datasets import directed_circle\n",
    "from FRED.data_processing import dataloader_from_ndarray\n",
    "X, flow, labels = directed_circle(num_nodes=2000)\n",
    "# build dataset\n",
    "dataloader = dataloader_from_ndarray(X,flow,labels)"
   ]
  },
  {
   "cell_type": "code",
   "execution_count": null,
   "id": "b56bfb3f",
   "metadata": {},
   "outputs": [
    {
     "data": {
      "application/vnd.jupyter.widget-view+json": {
       "model_id": "c13a430bdc734353875d816725985ef6",
       "version_major": 2,
       "version_minor": 0
      },
      "text/plain": [
       "  0%|          | 0/1000 [00:00<?, ?it/s]"
      ]
     },
     "metadata": {},
     "output_type": "display_data"
    },
    {
     "name": "stdout",
     "output_type": "stream",
     "text": [
      "X is on mps:0\n"
     ]
    },
    {
     "ename": "NotImplementedError",
     "evalue": "The operator 'aten::index.Tensor_out' is not current implemented for the MPS device. If you want this op to be added in priority during the prototype phase of this feature, please comment on https://github.com/pytorch/pytorch/issues/77764. As a temporary fix, you can set the environment variable `PYTORCH_ENABLE_MPS_FALLBACK=1` to use the CPU as a fallback for this op. WARNING: this will be slower than running natively on MPS.",
     "output_type": "error",
     "traceback": [
      "\u001b[0;31m---------------------------------------------------------------------------\u001b[0m",
      "\u001b[0;31mNotImplementedError\u001b[0m                       Traceback (most recent call last)",
      "\u001b[1;32m/Users/adjourner/Projects/FRED/04c01 Flow Neighbor Loss and Diffusion Map Regularization.ipynb Cell 6\u001b[0m in \u001b[0;36m<cell line: 1>\u001b[0;34m()\u001b[0m\n\u001b[0;32m----> <a href='vscode-notebook-cell:/Users/adjourner/Projects/FRED/04c01%20Flow%20Neighbor%20Loss%20and%20Diffusion%20Map%20Regularization.ipynb#ch0000006?line=0'>1</a>\u001b[0m FREDtrainer\u001b[39m.\u001b[39;49mfit(dataloader, n_epochs \u001b[39m=\u001b[39;49m \u001b[39m1000\u001b[39;49m)\n",
      "File \u001b[0;32m~/Projects/FRED/FRED/trainers.py:58\u001b[0m, in \u001b[0;36mTrainer.fit\u001b[0;34m(self, dataloader, n_epochs)\u001b[0m\n\u001b[1;32m     56\u001b[0m \u001b[39mprint\u001b[39m(\u001b[39m\"\u001b[39m\u001b[39mX is on\u001b[39m\u001b[39m\"\u001b[39m,data[\u001b[39m'\u001b[39m\u001b[39mX\u001b[39m\u001b[39m'\u001b[39m]\u001b[39m.\u001b[39mdevice)\n\u001b[1;32m     57\u001b[0m data[\u001b[39m'\u001b[39m\u001b[39mprecomputed distances\u001b[39m\u001b[39m'\u001b[39m] \u001b[39m=\u001b[39m data[\u001b[39m'\u001b[39m\u001b[39mprecomputed distances\u001b[39m\u001b[39m'\u001b[39m]\u001b[39m.\u001b[39mto(\u001b[39mself\u001b[39m\u001b[39m.\u001b[39mdevice)\n\u001b[0;32m---> 58\u001b[0m losses \u001b[39m=\u001b[39m \u001b[39mself\u001b[39;49m\u001b[39m.\u001b[39;49mFE(data, \u001b[39mself\u001b[39;49m\u001b[39m.\u001b[39;49mloss_weights)\n\u001b[1;32m     59\u001b[0m cost \u001b[39m=\u001b[39m \u001b[39mself\u001b[39m\u001b[39m.\u001b[39mweight_losses(losses)\n\u001b[1;32m     60\u001b[0m \u001b[39m# backpropogate and update model\u001b[39;00m\n",
      "File \u001b[0;32m~/miniforge3/envs/pyg_from_source/lib/python3.9/site-packages/torch/nn/modules/module.py:1131\u001b[0m, in \u001b[0;36mModule._call_impl\u001b[0;34m(self, *input, **kwargs)\u001b[0m\n\u001b[1;32m   1127\u001b[0m \u001b[39m# If we don't have any hooks, we want to skip the rest of the logic in\u001b[39;00m\n\u001b[1;32m   1128\u001b[0m \u001b[39m# this function, and just call forward.\u001b[39;00m\n\u001b[1;32m   1129\u001b[0m \u001b[39mif\u001b[39;00m \u001b[39mnot\u001b[39;00m (\u001b[39mself\u001b[39m\u001b[39m.\u001b[39m_backward_hooks \u001b[39mor\u001b[39;00m \u001b[39mself\u001b[39m\u001b[39m.\u001b[39m_forward_hooks \u001b[39mor\u001b[39;00m \u001b[39mself\u001b[39m\u001b[39m.\u001b[39m_forward_pre_hooks \u001b[39mor\u001b[39;00m _global_backward_hooks\n\u001b[1;32m   1130\u001b[0m         \u001b[39mor\u001b[39;00m _global_forward_hooks \u001b[39mor\u001b[39;00m _global_forward_pre_hooks):\n\u001b[0;32m-> 1131\u001b[0m     \u001b[39mreturn\u001b[39;00m forward_call(\u001b[39m*\u001b[39;49m\u001b[39minput\u001b[39;49m, \u001b[39m*\u001b[39;49m\u001b[39m*\u001b[39;49mkwargs)\n\u001b[1;32m   1132\u001b[0m \u001b[39m# Do not call functions when jit is used\u001b[39;00m\n\u001b[1;32m   1133\u001b[0m full_backward_hooks, non_full_backward_hooks \u001b[39m=\u001b[39m [], []\n",
      "File \u001b[0;32m~/Projects/FRED/FRED/embed.py:76\u001b[0m, in \u001b[0;36mManifoldFlowEmbedder.forward\u001b[0;34m(self, data, loss_weights)\u001b[0m\n\u001b[1;32m     74\u001b[0m \u001b[39mself\u001b[39m\u001b[39m.\u001b[39membedded_points \u001b[39m=\u001b[39m \u001b[39mself\u001b[39m\u001b[39m.\u001b[39membedder(data[\u001b[39m\"\u001b[39m\u001b[39mX\u001b[39m\u001b[39m\"\u001b[39m])\n\u001b[1;32m     75\u001b[0m \u001b[39mself\u001b[39m\u001b[39m.\u001b[39membedded_flows \u001b[39m=\u001b[39m \u001b[39mself\u001b[39m\u001b[39m.\u001b[39mflowArtist(\u001b[39mself\u001b[39m\u001b[39m.\u001b[39membedded_points)\n\u001b[0;32m---> 76\u001b[0m losses \u001b[39m=\u001b[39m \u001b[39mself\u001b[39;49m\u001b[39m.\u001b[39;49mloss(data, loss_weights)\n\u001b[1;32m     77\u001b[0m \u001b[39mreturn\u001b[39;00m losses\n",
      "File \u001b[0;32m~/Projects/FRED/FRED/embed.py:54\u001b[0m, in \u001b[0;36mManifoldFlowEmbedder.loss\u001b[0;34m(self, data, loss_weights)\u001b[0m\n\u001b[1;32m     52\u001b[0m \u001b[39m# Compute flow neighbor loss\u001b[39;00m\n\u001b[1;32m     53\u001b[0m \u001b[39mif\u001b[39;00m loss_weights[\u001b[39m\"\u001b[39m\u001b[39mflow neighbor loss\u001b[39m\u001b[39m\"\u001b[39m] \u001b[39m!=\u001b[39m \u001b[39m0\u001b[39m:\n\u001b[0;32m---> 54\u001b[0m     neighbor_loss \u001b[39m=\u001b[39m flow_neighbor_loss(\n\u001b[1;32m     55\u001b[0m         data[\u001b[39m\"\u001b[39;49m\u001b[39mneighbors\u001b[39;49m\u001b[39m\"\u001b[39;49m],\n\u001b[1;32m     56\u001b[0m         \u001b[39mself\u001b[39;49m\u001b[39m.\u001b[39;49membedded_points,\n\u001b[1;32m     57\u001b[0m         \u001b[39mself\u001b[39;49m\u001b[39m.\u001b[39;49membedded_flows,\n\u001b[1;32m     58\u001b[0m     )\n\u001b[1;32m     59\u001b[0m     losses[\u001b[39m\"\u001b[39m\u001b[39mflow neighbor loss\u001b[39m\u001b[39m\"\u001b[39m] \u001b[39m=\u001b[39m neighbor_loss\n\u001b[1;32m     61\u001b[0m \u001b[39m# Compute smoothness regularization\u001b[39;00m\n",
      "File \u001b[0;32m~/Projects/FRED/FRED/embed.py:202\u001b[0m, in \u001b[0;36mflow_neighbor_loss\u001b[0;34m(neighbors, embedded_points, embedded_flows)\u001b[0m\n\u001b[1;32m    200\u001b[0m \u001b[39mdef\u001b[39;00m \u001b[39mflow_neighbor_loss\u001b[39m(neighbors, embedded_points, embedded_flows):\n\u001b[1;32m    201\u001b[0m   row, col \u001b[39m=\u001b[39m neighbors\n\u001b[0;32m--> 202\u001b[0m   directions \u001b[39m=\u001b[39m embedded_points[col,:] \u001b[39m-\u001b[39m embedded_points[row,:]\n\u001b[1;32m    203\u001b[0m   flows \u001b[39m=\u001b[39m embedded_flows[row,:]\n\u001b[1;32m    204\u001b[0m   loss \u001b[39m=\u001b[39m torch\u001b[39m.\u001b[39mnorm(directions \u001b[39m-\u001b[39m flows)\u001b[39m*\u001b[39m\u001b[39m*\u001b[39m\u001b[39m2\u001b[39m\n",
      "\u001b[0;31mNotImplementedError\u001b[0m: The operator 'aten::index.Tensor_out' is not current implemented for the MPS device. If you want this op to be added in priority during the prototype phase of this feature, please comment on https://github.com/pytorch/pytorch/issues/77764. As a temporary fix, you can set the environment variable `PYTORCH_ENABLE_MPS_FALLBACK=1` to use the CPU as a fallback for this op. WARNING: this will be slower than running natively on MPS."
     ]
    }
   ],
   "source": [
    "FREDtrainer.fit(dataloader, n_epochs = 1000)"
   ]
  },
  {
   "cell_type": "code",
   "execution_count": null,
   "id": "3ba3087a",
   "metadata": {},
   "outputs": [],
   "source": [
    "d = {\n",
    "    \"X\":torch.rand(40,40)\n",
    "}"
   ]
  },
  {
   "cell_type": "code",
   "execution_count": null,
   "id": "552585ce",
   "metadata": {},
   "outputs": [
    {
     "ename": "AttributeError",
     "evalue": "'dict' object has no attribute 'to'",
     "output_type": "error",
     "traceback": [
      "\u001b[0;31m---------------------------------------------------------------------------\u001b[0m",
      "\u001b[0;31mAttributeError\u001b[0m                            Traceback (most recent call last)",
      "Input \u001b[0;32mIn [26]\u001b[0m, in \u001b[0;36m<cell line: 1>\u001b[0;34m()\u001b[0m\n\u001b[0;32m----> 1\u001b[0m \u001b[43md\u001b[49m\u001b[38;5;241;43m.\u001b[39;49m\u001b[43mto\u001b[49m(device)\n",
      "\u001b[0;31mAttributeError\u001b[0m: 'dict' object has no attribute 'to'"
     ]
    }
   ],
   "source": []
  },
  {
   "cell_type": "code",
   "execution_count": null,
   "id": "b81fd4bd",
   "metadata": {},
   "outputs": [],
   "source": []
  }
 ],
 "metadata": {
  "kernelspec": {
   "display_name": "Python 3.9.13 ('pyg_from_source')",
   "language": "python",
   "name": "python3"
  }
 },
 "nbformat": 4,
 "nbformat_minor": 5
}
