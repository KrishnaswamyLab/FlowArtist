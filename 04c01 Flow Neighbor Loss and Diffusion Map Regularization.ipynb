{
 "cells": [
  {
   "cell_type": "code",
   "execution_count": null,
   "id": "50e305fc",
   "metadata": {},
   "outputs": [
    {
     "name": "stdout",
     "output_type": "stream",
     "text": [
      "Using device cuda\n",
      "The autoreload extension is already loaded. To reload it, use:\n",
      "  %reload_ext autoreload\n"
     ]
    }
   ],
   "source": [
    "# default_exp \n",
    "from nbdev.showdoc import *\n",
    "import numpy as np\n",
    "import matplotlib.pyplot as plt\n",
    "import torch\n",
    "import FRED\n",
    "from FRED.trainers import *\n",
    "from FRED.trainers import Trainer\n",
    "if torch.__version__[:4] == '1.13': # If using pytorch with MPS, use Apple silicon GPU acceleration\n",
    "    device = torch.device(\"cuda\" if torch.cuda.is_available() else 'mps' if torch.has_mps else \"cpu\")\n",
    "else:\n",
    "    device = torch.device(\"cuda\" if torch.cuda.is_available() else \"cpu\")\n",
    "print(\"Using device\", device)\n",
    "%load_ext autoreload\n",
    "%autoreload 2"
   ]
  },
  {
   "cell_type": "markdown",
   "id": "2c83c04a",
   "metadata": {},
   "source": [
    "# 04c01 Trainer: Flow Neighbor Loss and Diffusion Map Regularization\n",
    "> A copy of FRED, tailored with particular loss functions"
   ]
  },
  {
   "cell_type": "code",
   "execution_count": 14,
   "id": "40eec025",
   "metadata": {},
   "outputs": [],
   "source": [
    "# export\n",
    "from FRED.embed import ManifoldFlowEmbedder\n",
    "import datetime\n",
    "import os\n",
    "class FlowNeighborDiffMap(Trainer):\n",
    "    def __init__(self, dataloader, device = device):\n",
    "        self.vizfiz = [\n",
    "            save_embedding_visualization,\n",
    "        ]\n",
    "        self.loss_weights = {\n",
    "            \"reconstruction\": 1,\n",
    "            \"diffusion map regularization\": 1,\n",
    "            \"flow neighbor loss\": 1e-3,\n",
    "            \"smoothness\": 0,\n",
    "        }\n",
    "        self.FE = ManifoldFlowEmbedder(\n",
    "            embedding_dimension=2,\n",
    "            embedder_shape=[3, 4, 8, 4, 2],\n",
    "            device=device,\n",
    "            sigma=0.5,\n",
    "            flow_strength=0.5,\n",
    "            smoothness_grid=True,\n",
    "        )\n",
    "        self.dataloader = dataloader\n",
    "        self.title = \"Flow Neighbor + Diff Map\"\n",
    "        self.epochs_between_visualization = 10\n",
    "        self.num_epochs = 1000\n",
    "        self.timestamp = datetime.datetime.now().isoformat()\n",
    "        os.mkdir(f\"visualizations/{self.timestamp}\")\n",
    "        self.optim = torch.optim.Adam(self.FE.parameters())\n",
    "        self.scheduler = None\n",
    "        # for plotting\n",
    "        self.labels = dataloader.dataset.labels\n",
    "        self.X = dataloader.dataset.X"
   ]
  },
  {
   "cell_type": "markdown",
   "id": "c827be65",
   "metadata": {},
   "source": [
    "# Testing on the Circle"
   ]
  },
  {
   "cell_type": "code",
   "execution_count": 10,
   "id": "939ad7f4",
   "metadata": {},
   "outputs": [
    {
     "name": "stdout",
     "output_type": "stream",
     "text": [
      "Set sigma =  0.015469238\n"
     ]
    },
    {
     "data": {
      "image/png": "[encoded data removed]",
      "text/plain": [
       "<Figure size 432x288 with 1 Axes>"
      ]
     },
     "metadata": {
      "needs_background": "light"
     },
     "output_type": "display_data"
    }
   ],
   "source": [
    "from FRED.datasets import directed_circle\n",
    "from FRED.data_processing import dataloader_from_ndarray\n",
    "X, flow, labels = directed_circle(num_nodes=2000)\n",
    "# build dataset\n",
    "dataloader = dataloader_from_ndarray(X,flow,labels)"
   ]
  },
  {
   "cell_type": "code",
   "execution_count": 15,
   "id": "1904c34c",
   "metadata": {},
   "outputs": [],
   "source": [
    "FET = FlowNeighborDiffMap(dataloader)"
   ]
  },
  {
   "cell_type": "code",
   "execution_count": 16,
   "id": "b56bfb3f",
   "metadata": {},
   "outputs": [
    {
     "ename": "TypeError",
     "evalue": "fit() got an unexpected keyword argument 'n_epochs'",
     "output_type": "error",
     "traceback": [
      "\u001b[0;31m---------------------------------------------------------------------------\u001b[0m",
      "\u001b[0;31mTypeError\u001b[0m                                 Traceback (most recent call last)",
      "Input \u001b[0;32mIn [16]\u001b[0m, in \u001b[0;36m<cell line: 1>\u001b[0;34m()\u001b[0m\n\u001b[0;32m----> 1\u001b[0m \u001b[43mFET\u001b[49m\u001b[38;5;241;43m.\u001b[39;49m\u001b[43mfit\u001b[49m\u001b[43m(\u001b[49m\u001b[43mn_epochs\u001b[49m\u001b[43m \u001b[49m\u001b[38;5;241;43m=\u001b[39;49m\u001b[43m \u001b[49m\u001b[38;5;241;43m1000\u001b[39;49m\u001b[43m)\u001b[49m\n",
      "\u001b[0;31mTypeError\u001b[0m: fit() got an unexpected keyword argument 'n_epochs'"
     ]
    }
   ],
   "source": [
    "FET.fit(n_epochs = 1000)"
   ]
  },
  {
   "cell_type": "code",
   "execution_count": null,
   "id": "3ba3087a",
   "metadata": {},
   "outputs": [],
   "source": []
  }
 ],
 "metadata": {
  "kernelspec": {
   "display_name": "Python 3 (ipykernel)",
   "language": "python",
   "name": "python3"
  },
  "language_info": {
   "codemirror_mode": {
    "name": "ipython",
    "version": 3
   },
   "file_extension": ".py",
   "mimetype": "text/x-python",
   "name": "python",
   "nbconvert_exporter": "python",
   "pygments_lexer": "ipython3",
   "version": "3.9.13"
  }
 },
 "nbformat": 4,
 "nbformat_minor": 5
}
