{
 "cells": [
  {
   "cell_type": "code",
   "execution_count": null,
   "metadata": {},
   "outputs": [
    {
     "name": "stdout",
     "output_type": "stream",
     "text": [
      "Using device mps\n"
     ]
    }
   ],
   "source": [
    "# default_exp \n",
    "from nbdev.showdoc import *\n",
    "import numpy as np\n",
    "import matplotlib.pyplot as plt\n",
    "import torch\n",
    "import FRED\n",
    "from FRED.embed import *\n",
    "if torch.__version__[:4] == '1.13': # If using pytorch with MPS, use Apple silicon GPU acceleration\n",
    "    device = torch.device(\"cuda\" if torch.cuda.is_available() else 'mps' if torch.has_mps else \"cpu\")\n",
    "else:\n",
    "    device = torch.device(\"cuda\" if torch.cuda.is_available() else \"cpu\")\n",
    "print(\"Using device\", device)\n",
    "%load_ext autoreload\n",
    "%autoreload 2"
   ]
  },
  {
   "cell_type": "markdown",
   "metadata": {},
   "source": [
    "# 03e Flow Prediction Network"
   ]
  },
  {
   "cell_type": "code",
   "execution_count": null,
   "metadata": {},
   "outputs": [],
   "source": [
    "# export\n",
    "import torch\n",
    "from torch.utils.data import Dataset\n",
    "import matplotlib.pyplot as plt\n",
    "import numpy as np\n",
    "import torch.nn.functional as F\n",
    "from tqdm.notebook import trange, tqdm\n",
    "from FRED.data_processing import flashlight_affinity_matrix, diffusion_map_from_affinities, flow_neighbors\n",
    "class FlowPredictionDataset(Dataset):\n",
    "    \"\"\"\n",
    "    Dataset object to be used with FRED for pointcloud and velocity input data.\n",
    "    Takes np.arrays for X (points) and velocities (velocity vectors per point).\n",
    "    For each item retrieved, returns a neighborhood around that point (based on local euclidean neighbors) containing local affinities\n",
    "\n",
    "    \"\"\"\n",
    "    def __init__(self, \n",
    "                X, \n",
    "                velocities, \n",
    "                labels, \n",
    "                sigma=\"automatic\", \n",
    "                ts = (1,2,4,8),\n",
    "                prior_embedding = \"diffusion map\", \n",
    "                t_dmap = 1, \n",
    "                dmap_coords_to_use = 2,):\n",
    "        # Step 0: Convert data into tensors\n",
    "        self.X = torch.tensor(X).float()\n",
    "        self.velocities = torch.tensor(velocities).float()\n",
    "        self.labels = labels\n",
    "        self.n_nodes = self.X.shape[0]\n",
    "        self.eps = 1e-3\n",
    "        # Step 1. Build graph on input data, using flashlight kernel\n",
    "        print(\"finding diffusion operator\")\n",
    "        self.A = flashlight_affinity_matrix(self.X, self.velocities, sigma = sigma)\n",
    "        self.A[self.A < self.eps] = 0\n",
    "        # visualize affinity matrix\n",
    "        plt.imshow(self.A.numpy())\n",
    "        # Construct diffusion matrix as row normalized adjacency matrix\n",
    "        self.P_graph = F.normalize(self.A, p=1, dim=1)\n",
    "        # threshold values less than epsilon to zero\n",
    "        # We convert P_graph into sparse format to efficiently power\n",
    "        self.P_graph = self.P_graph.to_sparse().coalesce()\n",
    "        # Compute powers of P (really fast, because it's sparse : ) \n",
    "        self.P_graph_ts = [self.P_graph]\n",
    "        print(\"Powering diffusion operator\")\n",
    "        for t in tqdm(ts[1:]):\n",
    "            # TODO Can make more efficient by using prior powers\n",
    "            powered_matrix = torch.linalg.matrix_power(self.P_graph_ts[0], t).coalesce()\n",
    "            dense_powered = powered_matrix.to_dense()\n",
    "            dense_powered[dense_powered < self.eps] = 0\n",
    "            sparse_powered = dense_powered.to_sparse()\n",
    "            self.P_graph_ts.append(sparse_powered)\n",
    "            # TODO: Could proactively prune probs below eps threshold here.\n",
    "\n",
    "\n",
    "        # Step 2. Take a diffusion map of the data\n",
    "        # These will become our 'precomputed distances' which we use to regularize the embedding\n",
    "        if prior_embedding == \"diffusion map\":\n",
    "            print(\"computing diffusion distances\")\n",
    "            P_dense = self.P_graph.clone().to_dense()\n",
    "            P_graph_symmetrized = P_dense + P_dense.T\n",
    "            diff_map = diffusion_map_from_affinities(\n",
    "                # TODO: May need to convert back to dense form.\n",
    "                P_graph_symmetrized, t=t_dmap, plot_evals=False \n",
    "            )\n",
    "            self.diff_coords = diff_map[:, :dmap_coords_to_use]\n",
    "            self.diff_coords = self.diff_coords.real\n",
    "            self.diff_coords = torch.tensor(self.diff_coords.copy()).float()\n",
    "            self.precomputed_distances = torch.cdist(self.diff_coords, self.diff_coords)\n",
    "            # scale distances between 0 and 1\n",
    "            self.precomputed_distances = 2 * (\n",
    "                self.precomputed_distances / torch.max(self.precomputed_distances)\n",
    "            )\n",
    "            self.precomputed_distances = (\n",
    "                self.precomputed_distances.detach()\n",
    "            )  # no need to have gradients from this operation\n",
    "        \n",
    "        # Step 3. Decompose the affinity matrix into a list of indices [i,j], which we use to form batches\n",
    "        # To prevent this from making the batch have size n x n, we use the *nonzero* indices of the \n",
    "        # sparse powered diffusion matrices.\n",
    "        # But each powered diffusion matrix will have different nonzero values. Hence, we want the union of all relationships which\n",
    "        # at some level of diffusion, are nonzero\n",
    "        # print(\"sparse Pts are\",self.P_graph_ts)\n",
    "        all_P_values = self.P_graph_ts[0]\n",
    "        for i in range(1,len(ts)):\n",
    "            # print(i)\n",
    "            all_P_values += all_P_values + self.P_graph_ts[i]\n",
    "            all_P_values = all_P_values.coalesce()\n",
    "        self.diffusion_indices = all_P_values.indices() \n",
    "        # returns matrix whose columns are indices\n",
    "        # tensor([[0, 1, 1],\n",
    "        #         [2, 0, 2]])\n",
    "        # convert to matrix whose rows are indices\n",
    "        self.diffusion_indices = self.diffusion_indices.transpose(0,1)\n",
    "    def __len__(self):\n",
    "        return len(self.diffusion_indices)\n",
    "    def __getitem__(self, idx):\n",
    "        # idx specifies the ith tuple of points in the diffusion indices.\n",
    "        happy_couple = self.diffusion_indices[idx]\n",
    "        # print(\"hc is\",happy_couple)\n",
    "        # Construct diffusion probabilities into a list of tensors\n",
    "        probs = torch.zeros(len(self.P_graph_ts))\n",
    "        for i, Pt in enumerate(self.P_graph_ts):\n",
    "            probs[i] = Pt[happy_couple[0]][happy_couple[1]]\n",
    "        # print(\"got Pt probs just fine\")\n",
    "        # print(\"first sum worked\")\n",
    "        # Fetch points from X\n",
    "        points = self.X[happy_couple]\n",
    "        # print(\"got points just fine\")\n",
    "        # Embed these into a dictionary for easy cross reference\n",
    "        return_dict = {\n",
    "            \"probs\":probs,\n",
    "            \"distance\":self.precomputed_distances[happy_couple[0]][happy_couple[1]],\n",
    "            \"points\":points,\n",
    "        }\n",
    "        return return_dict"
   ]
  },
  {
   "cell_type": "markdown",
   "metadata": {},
   "source": [
    "## Testing the new dataset class"
   ]
  },
  {
   "cell_type": "code",
   "execution_count": null,
   "metadata": {},
   "outputs": [],
   "source": [
    "from FRED.datasets import directed_spiral\n",
    "X, flows, labels = directed_spiral(num_nodes=1000)"
   ]
  },
  {
   "cell_type": "code",
   "execution_count": null,
   "metadata": {},
   "outputs": [
    {
     "name": "stdout",
     "output_type": "stream",
     "text": [
      "finding diffusion operator\n",
      "Set sigma =  0.20019817\n",
      "Powering diffusion operator\n"
     ]
    },
    {
     "data": {
      "application/vnd.jupyter.widget-view+json": {
       "model_id": "a9ce58f3491e4038809614e55238504f",
       "version_major": 2,
       "version_minor": 0
      },
      "text/plain": [
       "  0%|          | 0/3 [00:00<?, ?it/s]"
      ]
     },
     "metadata": {},
     "output_type": "display_data"
    },
    {
     "name": "stdout",
     "output_type": "stream",
     "text": [
      "computing diffusion distances\n"
     ]
    },
    {
     "data": {
      "image/png": "[encoded data removed]",
      "text/plain": [
       "<Figure size 432x288 with 1 Axes>"
      ]
     },
     "metadata": {
      "needs_background": "light"
     },
     "output_type": "display_data"
    }
   ],
   "source": [
    "ds = FlowPredictionDataset(X, flows, labels)"
   ]
  },
  {
   "cell_type": "code",
   "execution_count": null,
   "metadata": {},
   "outputs": [],
   "source": [
    "from torch.utils.data import DataLoader\n",
    "dataloader = DataLoader(ds, batch_size=512, num_workers=0)"
   ]
  },
  {
   "cell_type": "code",
   "execution_count": null,
   "metadata": {},
   "outputs": [
    {
     "data": {
      "application/vnd.jupyter.widget-view+json": {
       "model_id": "bb03f6244a5a4e3b93b6f111ae05b52b",
       "version_major": 2,
       "version_minor": 0
      },
      "text/plain": [
       "  0%|          | 0/187 [00:00<?, ?it/s]"
      ]
     },
     "metadata": {},
     "output_type": "display_data"
    }
   ],
   "source": [
    "for d in tqdm(dataloader):\n",
    "    # print(d)\n",
    "    pass"
   ]
  },
  {
   "cell_type": "code",
   "execution_count": null,
   "metadata": {},
   "outputs": [
    {
     "data": {
      "text/plain": [
       "132491"
      ]
     },
     "execution_count": null,
     "metadata": {},
     "output_type": "execute_result"
    }
   ],
   "source": [
    "len(ds)"
   ]
  },
  {
   "cell_type": "code",
   "execution_count": null,
   "metadata": {},
   "outputs": [],
   "source": []
  },
  {
   "cell_type": "markdown",
   "metadata": {},
   "source": [
    "# The Network"
   ]
  },
  {
   "cell_type": "code",
   "execution_count": null,
   "metadata": {},
   "outputs": [],
   "source": [
    "# export\n",
    "import torch\n",
    "import torch.nn as nn\n",
    "\n",
    "class ManifoldFlowEmbedder(torch.nn.Module):\n",
    "    def __init__(\n",
    "        self,\n",
    "        embedding_dimension=2,\n",
    "        ts = [1,2,4,8],\n",
    "        embedder_shape=[3, 4, 8, 4, 2],\n",
    "        device=torch.device(\"cuda\" if torch.cuda.is_available() else \"cpu\"),\n",
    "        sigma=0.5,\n",
    "        flow_strength=0.5,\n",
    "        smoothness_grid=True,\n",
    "    ):\n",
    "        super().__init__()\n",
    "        self.device = device\n",
    "        self.embedding_dimension = embedding_dimension\n",
    "        # embedding parameters\n",
    "        self.sigma = sigma\n",
    "        self.flow_strength = flow_strength\n",
    "        self.smoothness_grid = smoothness_grid\n",
    "        self.ts = ts\n",
    "        # Initialize autoencoder and flow artist\n",
    "\n",
    "        self.embedder, self.decoder = auto_encoder(embedder_shape, device=self.device)\n",
    "        self.flowArtist = flow_artist(dim=self.embedding_dimension, device=self.device)\n",
    "        # # training ops\n",
    "        # self.KLD = nn.KLDivLoss(reduction=\"batchmean\", log_target=False)\n",
    "        self.MSE = nn.MSELoss()\n",
    "        # self.KLD = homemade_KLD # when running on mac\n",
    "        self.epsilon = 1e-6  # set zeros to eps\n",
    "\n",
    "    def diffusion_flow_loss(self):\n",
    "        # Predict flow probabilities to points based on a local diffusion matrix, constructed out of the batch\n",
    "        # We use the embedded points and our FlowArtist to predict diffusion probabilities\n",
    "        # Steps:\n",
    "        # 1. Build diffusion matrix (using automatic kernel selection with flashlight kernel)\n",
    "        A = flashlight_affinity_matrix(self.embedded_points, self.embedded_flows, sigma=\"automatic\", k = 10)\n",
    "        P = F.normalize(A, p=1, dim=1)\n",
    "        # 2. Power diffusion matrix\n",
    "        self.Pts = [torch.linalg.matrix_power(P,t) for t in self.ts]\n",
    "        # 3. Take \n",
    "\n",
    "        return loss\n",
    "\n",
    "    def forward(self, data, loss_weights):\n",
    "        # Extract data from batch\n",
    "        # By default, point positions are batched two at a time. \n",
    "        # We need to flatten along the second dimension\n",
    "        X = data[\"points\"].flatten(start_dim=1, end_dim=1)\n",
    "        self.embedded_points = self.embedder(X)\n",
    "        self.embedded_flows = self.flowArtist(self.embedded_points)\n",
    "        \n",
    "        self.embedded_flows = self.flowArtist(self.embedded_points)\n",
    "        losses = self.loss(data, loss_weights)\n",
    "        return losses"
   ]
  },
  {
   "cell_type": "code",
   "execution_count": null,
   "metadata": {},
   "outputs": [
    {
     "data": {
      "text/plain": [
       "tensor([[[-8.7701,  2.5721,  0.0000],\n",
       "         [-9.1631,  1.4145,  0.0000]],\n",
       "\n",
       "        [[-8.7701,  2.5721,  0.0000],\n",
       "         [-9.2229,  1.1776,  0.0000]],\n",
       "\n",
       "        [[-8.7701,  2.5721,  0.0000],\n",
       "         [-9.2772,  0.9355,  0.0000]],\n",
       "\n",
       "        ...,\n",
       "\n",
       "        [[-9.3938,  0.2575,  0.0000],\n",
       "         [-9.3979,  0.2269,  0.0000]],\n",
       "\n",
       "        [[-9.3938,  0.2575,  0.0000],\n",
       "         [-9.4027,  0.1899,  0.0000]],\n",
       "\n",
       "        [[-9.3979,  0.2269,  0.0000],\n",
       "         [-9.4027,  0.1899,  0.0000]]])"
      ]
     },
     "execution_count": null,
     "metadata": {},
     "output_type": "execute_result"
    }
   ],
   "source": [
    "dps = d[\"points\"]\n",
    "dps"
   ]
  },
  {
   "cell_type": "code",
   "execution_count": null,
   "metadata": {},
   "outputs": [
    {
     "data": {
      "text/plain": [
       "tensor([[-8.7701,  2.5721,  0.0000],\n",
       "        [-9.1631,  1.4145,  0.0000],\n",
       "        [-8.7701,  2.5721,  0.0000],\n",
       "        ...,\n",
       "        [-9.4027,  0.1899,  0.0000],\n",
       "        [-9.3979,  0.2269,  0.0000],\n",
       "        [-9.4027,  0.1899,  0.0000]])"
      ]
     },
     "execution_count": null,
     "metadata": {},
     "output_type": "execute_result"
    }
   ],
   "source": [
    "dps.flatten(start_dim=0,end_dim=1)"
   ]
  },
  {
   "cell_type": "code",
   "execution_count": null,
   "metadata": {},
   "outputs": [],
   "source": []
  }
 ],
 "metadata": {
  "kernelspec": {
   "display_name": "Python 3.9.13 ('pyg_from_source')",
   "language": "python",
   "name": "python3"
  }
 },
 "nbformat": 4,
 "nbformat_minor": 2
}
