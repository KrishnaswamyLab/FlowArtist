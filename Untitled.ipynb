{
 "cells": [
  {
   "cell_type": "code",
   "execution_count": null,
   "id": "8081d0a3-0291-44eb-a249-350e596ac4d4",
   "metadata": {},
   "outputs": [],
   "source": []
  }
 ],
 "metadata": {
  "kernelspec": {
   "display_name": "FREDkernel_jupyter",
   "language": "python",
   "name": "fredkernel_jupyter"
  }
 },
 "nbformat": 4,
 "nbformat_minor": 5
}
