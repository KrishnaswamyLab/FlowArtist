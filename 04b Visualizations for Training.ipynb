{
 "cells": [
  {
   "cell_type": "code",
   "execution_count": null,
   "metadata": {},
   "outputs": [],
   "source": [
    "# default_exp trainers\n",
    "from nbdev.showdoc import *\n",
    "import numpy as np\n",
    "import matplotlib.pyplot as plt\n",
    "import torch\n",
    "import FRED\n",
    "if torch.__version__[:4] == '1.13': # If using pytorch with MPS, use Apple silicon GPU acceleration\n",
    "    device = torch.device(\"cuda\" if torch.cuda.is_available() else 'mps' if torch.has_mps else \"cpu\")\n",
    "else:\n",
    "    device = torch.device(\"cuda\" if torch.cuda.is_available() else \"cpu\")\n",
    "print(\"Using device\", device)\n",
    "%load_ext autoreload\n",
    "%autoreload 2"
   ]
  },
  {
   "cell_type": "markdown",
   "metadata": {},
   "source": [
    "# 04b Visualizations for Training\n",
    "> Simple functions to visualize progress during network training."
   ]
  },
  {
   "cell_type": "markdown",
   "metadata": {},
   "source": [
    "This notebook will house barebones code to visualize the losses and embedded points of FRED concurrently with training, as well as tools for saving and creating GIFs from the embedding trainings.\n",
    "\n",
    "A general philosophy here is to avoid printing ad naseum as much as possible, by compressing the form of information served to the most appropriate condensed form for efficient summarization.\n",
    "\n",
    "We'll start with the meat and bones of the flow embedder: visualizing the embedded points, with a grid to visualize flow arrows."
   ]
  },
  {
   "cell_type": "code",
   "execution_count": null,
   "metadata": {},
   "outputs": [],
   "source": [
    "# export\n",
    "import torch\n",
    "from FRED.embed import compute_grid\n",
    "\n",
    "device = torch.device(\"cuda\" if torch.cuda.is_available() else \"cpu\")\n",
    "\n",
    "\n",
    "def visualize_points(\n",
    "    embedded_points,\n",
    "    flow_artist,\n",
    "    labels=None,\n",
    "    device=device,\n",
    "    title=\"FRED's Embedding\",\n",
    "    save=False,\n",
    "    **kwargs,\n",
    "):\n",
    "    # computes grid around points\n",
    "    # TODO: This might create CUDA errors\n",
    "    grid = compute_grid(embedded_points.to(device)).to(device)\n",
    "    # controls the x and y axes of the plot\n",
    "    # linspace(min on axis, max on axis, spacing on plot -- large number = more field arrows)\n",
    "    uv = flow_artist(grid).detach().cpu()\n",
    "    u = uv[:, 0].cpu()\n",
    "    v = uv[:, 1].cpu()\n",
    "    x = grid.detach().cpu()[:, 0]\n",
    "    y = grid.detach().cpu()[:, 1]\n",
    "    # quiver\n",
    "    # \tplots a 2D field of arrows\n",
    "    # \tquiver([X, Y], U, V, [C], **kw);\n",
    "    # \tX, Y define the arrow locations, U, V define the arrow directions, and C optionally sets the color.\n",
    "    if labels is not None:\n",
    "        sc = plt.scatter(\n",
    "            embedded_points[:, 0].detach().cpu(),\n",
    "            embedded_points[:, 1].detach().cpu(),\n",
    "            c=labels,\n",
    "        )\n",
    "    # \t\t\tplt.legend()\n",
    "    else:\n",
    "        sc = plt.scatter(\n",
    "            embedded_points[:, 0].detach().cpu(), embedded_points[:, 1].detach().cpu()\n",
    "        )\n",
    "    plt.suptitle(\"Flow Embedding\")\n",
    "    plt.quiver(x, y, u, v)\n",
    "    # Display all open figures.\n",
    "    if save:\n",
    "        plt.savefig(f\"visualizations/{title}.jpg\")\n",
    "    else:\n",
    "        plt.show()\n",
    "    plt.close()\n"
   ]
  },
  {
   "cell_type": "code",
   "execution_count": null,
   "metadata": {},
   "outputs": [],
   "source": [
    "# export\n",
    "def save_embedding_visualization(\n",
    "    embedded_points,\n",
    "    flow_artist,\n",
    "    labels=None,\n",
    "    device=device,\n",
    "    title=\"FRED's Embedding\",\n",
    "    **kwargs\n",
    "):\n",
    "    visualize_points(\n",
    "        embedded_points=embedded_points,\n",
    "        flow_artist=flow_artist,\n",
    "        labels=labels,\n",
    "        device=device,\n",
    "        title=title,\n",
    "        save=True,\n",
    "    )"
   ]
  },
  {
   "cell_type": "code",
   "execution_count": null,
   "metadata": {},
   "outputs": [],
   "source": [
    "# export\n",
    "def collate_loss(\n",
    "    provided_losses,\n",
    "    weights,\n",
    "    prior_losses=None,\n",
    "    loss_type=\"total\",\n",
    "):\n",
    "    # diffusion_loss,reconstruction_loss, smoothness_loss\n",
    "    k = \"\"\n",
    "    if prior_losses is None:\n",
    "        # if there are no prior losses, initialize a new dictionary to store these\n",
    "        prior_losses = {}\n",
    "        for key in provided_losses.keys():\n",
    "            prior_losses[key] = []\n",
    "            # k = key\n",
    "        prior_losses[\"total\"] = []\n",
    "    for key in provided_losses.keys():\n",
    "        try:\n",
    "            prior_losses[key].append(provided_losses[key].detach().cpu().numpy() * weights[key])\n",
    "        except:\n",
    "            prior_losses[key].append(0)\n",
    "    return prior_losses\n"
   ]
  },
  {
   "cell_type": "code",
   "execution_count": null,
   "metadata": {},
   "outputs": [],
   "source": []
  }
 ],
 "metadata": {
  "kernelspec": {
   "display_name": "Python 3.9.13 ('pyg_from_source')",
   "language": "python",
   "name": "python3"
  }
 },
 "nbformat": 4,
 "nbformat_minor": 2
}
