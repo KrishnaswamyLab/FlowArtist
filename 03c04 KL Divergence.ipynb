{
 "cells": [
  {
   "cell_type": "markdown",
   "metadata": {},
   "source": [
    "# 03c04 KL Divergence"
   ]
  },
  {
   "cell_type": "code",
   "execution_count": null,
   "metadata": {},
   "outputs": [],
   "source": [
    "# default_exp embed\n",
    "# hide\n",
    "from nbdev.showdoc import *\n",
    "import numpy as np\n",
    "import matplotlib.pyplot as plt\n",
    "import torch\n",
    "import FRED\n",
    "device = torch.device(\"cuda\" if torch.cuda.is_available() else \"cpu\")\n",
    "%load_ext autoreload\n",
    "%autoreload 2"
   ]
  },
  {
   "cell_type": "markdown",
   "metadata": {},
   "source": []
  },
  {
   "cell_type": "code",
   "execution_count": null,
   "metadata": {},
   "outputs": [],
   "source": [
    "# export\n",
    "def kl_divergence_loss(P_embedding, P_graph):\n",
    "    P_embedding = torch.log(P_embedding)\n",
    "    if P_embedding.is_sparse:\n",
    "        P_embedding = P_embedding.to_dense()\n",
    "        P_graph = P_graph.to_dense()\n",
    "    loss = torch.nn.functional.kl_div(P_embedding, P_graph, reduction='batchmean')\n",
    "    # print(\"kld loss\",loss)\n",
    "    return loss"
   ]
  }
 ],
 "metadata": {
  "kernelspec": {
   "display_name": "Python 3.10.4 ('sumry-directed-graphs')",
   "language": "python",
   "name": "python3"
  }
 },
 "nbformat": 4,
 "nbformat_minor": 2
}
