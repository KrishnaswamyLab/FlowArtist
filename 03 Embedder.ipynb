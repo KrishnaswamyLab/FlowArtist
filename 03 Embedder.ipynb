{
 "cells": [
  {
   "cell_type": "code",
   "execution_count": null,
   "metadata": {},
   "outputs": [
    {
     "name": "stdout",
     "output_type": "stream",
     "text": [
      "Using device mps\n",
      "The autoreload extension is already loaded. To reload it, use:\n",
      "  %reload_ext autoreload\n"
     ]
    }
   ],
   "source": [
    "# default_exp embed\n",
    "from nbdev.showdoc import *\n",
    "import numpy as np\n",
    "import matplotlib.pyplot as plt\n",
    "import torch\n",
    "import FRED\n",
    "from FRED.embed import *\n",
    "if torch.__version__[:4] == '1.13': # If using pytorch with MPS, use Apple silicon GPU acceleration\n",
    "    device = torch.device(\"cuda\" if torch.cuda.is_available() else 'mps' if torch.has_mps else \"cpu\")\n",
    "else:\n",
    "    device = torch.device(\"cuda\" if torch.cuda.is_available() else \"cpu\")\n",
    "print(\"Using device\", device)\n",
    "%load_ext autoreload\n",
    "%autoreload 2"
   ]
  },
  {
   "cell_type": "markdown",
   "metadata": {},
   "source": [
    "# 03 Embedder\n",
    "> At the heart of FRED: the flow embedder. "
   ]
  },
  {
   "cell_type": "markdown",
   "metadata": {},
   "source": [
    "FRED's embedder is pretty simple. Given a directed graph along with the coordinates that gave rise to the nodes, FRED embeds it into a lower dimensional space with an autoencoder. FRED also draws a vector field on the embedding space, to endow the embedded points with a sense of flow -- recreating the flows over the directed graph from which they came. FRED is rewarded for drawing arrows such that the flows in the embedding space mimic the flows in the ambient space. And, to give the visualization desirable properties, he is given bonus points for drawing flows that are as smooth as possible - and also placing the points in such a way that they resemble the directed diffusion map. The result is an embedding of the points and velocities that \"respects the flow\" by incorporating flow information into the placement of points.\n",
    "\n",
    "This can also be done *without* the coordinates of the nodes -- e.g. when we have an abstract directed graph, unencumbered by physical coordinates. In this case, a GNN serves as the graph embedder that creates embedding coordinates from the input graph. This is implemented as a separate network."
   ]
  },
  {
   "cell_type": "markdown",
   "metadata": {},
   "source": [
    "# Manifold with Flow Embedder\n",
    "\n"
   ]
  },
  {
   "cell_type": "markdown",
   "metadata": {},
   "source": []
  }
 ],
 "metadata": {
  "kernelspec": {
   "display_name": "Python 3.9.13 ('pyg_from_source')",
   "language": "python",
   "name": "python3"
  }
 },
 "nbformat": 4,
 "nbformat_minor": 2
}
