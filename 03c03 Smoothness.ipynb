{
 "cells": [
  {
   "cell_type": "markdown",
   "metadata": {},
   "source": [
    "# 03c03 Smoothness"
   ]
  },
  {
   "cell_type": "code",
   "execution_count": null,
   "metadata": {},
   "outputs": [],
   "source": [
    "# default_exp embed\n",
    "# hide\n",
    "from nbdev.showdoc import *\n",
    "import numpy as np\n",
    "import matplotlib.pyplot as plt\n",
    "import torch\n",
    "import FRED\n",
    "device = torch.device(\"cuda\" if torch.cuda.is_available() else \"cpu\")\n",
    "%load_ext autoreload\n",
    "%autoreload 2"
   ]
  },
  {
   "cell_type": "markdown",
   "metadata": {},
   "source": [
    "We want our vector field to be as simple as possible. One means of achieving this is to regularize it by smoothness, to penalize it for changing the direction of the vectors too suddenly. Here, I'll code up a grid-based laplacian normalizer. It will take samples from a grid graph in the support of the points and flow, calculate the  laplacian of the grid, and compute the smoothness via\n",
    "$$ \\frac{v^T L v}{v^T v} $$"
   ]
  },
  {
   "cell_type": "code",
   "execution_count": null,
   "metadata": {},
   "outputs": [],
   "source": [
    "# export\n",
    "from FRED.data_processing import anisotropic_kernel\n",
    "def smoothness_of_vector_field(embedded_points, vector_field_function, device, use_grid = True, grid_width = 20):\n",
    "    if use_grid:\n",
    "        # find support of points\n",
    "        minx = (min(embedded_points[:,0])-1).detach()\n",
    "        maxx = (max(embedded_points[:,0])+1).detach()\n",
    "        miny = (min(embedded_points[:,1])-1).detach()\n",
    "        maxy = (max(embedded_points[:,1])+1).detach()\n",
    "        # form grid around points\n",
    "        x, y = torch.meshgrid(torch.linspace(minx,maxx,steps=grid_width),torch.linspace(miny,maxy,steps=grid_width))\n",
    "        xy_t = torch.concat([x[:,:,None],y[:,:,None]],dim=2).float()\n",
    "        xy_t = xy_t.reshape(grid_width**2,2).to(device)\n",
    "        points_to_test = xy_t\n",
    "    else:\n",
    "        points_to_test = embedded_points\n",
    "    # Compute distances between points\n",
    "    # TODO: Can compute A analytically for grid graph, don't need to run kernel\n",
    "    Dists = torch.cdist(points_to_test,points_to_test)\n",
    "    A = anisotropic_kernel(Dists)\n",
    "    # Get degree matrix and build graph laplacian\n",
    "    D = A.sum(axis=1)\n",
    "    L = torch.diag(D) - A\n",
    "    # compute vector field at each grid point\n",
    "    vecs = vector_field_function(points_to_test)\n",
    "    x_vecs = vecs[:,0]\n",
    "    y_vecs = vecs[:,1]\n",
    "    # compute smoothness of each x and y and add them # TODO: There are other ways this could be done\n",
    "    x_smoothness = (x_vecs.T @ L @ x_vecs) / torch.max(torch.linalg.norm(x_vecs)**2, torch.tensor(1e-5))\n",
    "    y_smoothness = (y_vecs.T @ L @ y_vecs) / torch.max(torch.linalg.norm(y_vecs)**2, torch.tensor(1e-5))\n",
    "    total_smoothness = x_smoothness + y_smoothness\n",
    "    return total_smoothness"
   ]
  }
 ],
 "metadata": {
  "kernelspec": {
   "display_name": "Python 3.6.6 64-bit (system)",
   "language": "python",
   "name": "python3"
  }
 },
 "nbformat": 4,
 "nbformat_minor": 2
}
