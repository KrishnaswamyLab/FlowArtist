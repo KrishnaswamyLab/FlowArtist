{
 "cells": [
  {
   "cell_type": "markdown",
   "metadata": {},
   "source": [
    "# The Flashlight Kernel"
   ]
  },
  {
   "cell_type": "code",
   "execution_count": null,
   "metadata": {},
   "outputs": [],
   "source": [
    "# default_exp data_processing\n",
    "\n",
    "!nbdev_build_lib"
   ]
  },
  {
   "cell_type": "markdown",
   "metadata": {},
   "source": [
    "FRED at its core is a diffusion-based model; It embeds directed graphs and high dimensional data into euclidean space with a vector field in terms of probabilities, rather than distances. The Flashlight Kernel is a basis of FRED as it translates points and vectors and points in euclidean space with a vector field into affinities between directed graph nodes.\n",
    "\n",
    "---"
   ]
  },
  {
   "cell_type": "markdown",
   "metadata": {},
   "source": [
    "## The Flashlight Kernel\n",
    "\n",
    "$$k(x_i,x_j) = \\exp\\left[\\frac{-\\left(||x_j - x_i||_2 + \\beta \\cdot \\left(||v_i||_2 - \\left\\langle v_i, \\frac{x_j - x_i}{||x_j - x_i||_2}\\right\\rangle \\right)\\right)}{\\sigma}\\right],$$\n",
    "\n",
    "where $k(x_i,x_j)$ is the affinity from $x_i$ to $x_j$, $v_i$ is the flow at $x_i$ (vector associated with data point in ambient space or vector at point $x_i$ in embedding space with a vector field), and $||\\cdot||_2$ is the regular two-norm. $\\beta$ and $\\sigma$ are tunable hyperparameters, which controls the emphasis or \"strength\" of flow relative to distance in the calculation of affinities between two points.\n",
    "\n",
    "---"
   ]
  },
  {
   "cell_type": "markdown",
   "metadata": {},
   "source": [
    "The Flashlight Kernel shows up in various parts of all iterations and implementations of FRED including but not limited to converting high dimensional input data (data clouds with vectors associated to each data points such as RNA Velocity data) into directed graphs with affinities, converting points in our embedding space (euclidean space with a vector field) into directed graphs with affinities, calculating near neighbors of data points in the ambient space, and more.\n",
    "\n",
    "The essence of the Flashlight Kernel is to retain asymmetric relationships between data points with directionality similar to that of directed graph nodes. It assigns affinities between two data points by considering both the distance between them and their associated vectors; Going with the flow is highly encouraged and going against or even perpendicular to the flow is discouraged and assigned affinity close to zero. As a result, diffusion or random walks probabilities from data point to data point is heavily dictated by the flow in the embedding space or vectors associated with data points in embient space.\n",
    "\n",
    "Note that affinities between data points can be (and almost always are) asymmetric i.e., $k(x_i, x_j) \\neq k(x_j, x_i)$ as the flow at $x_i$ may be pointing towards $x_j$, but the opposite may not be true. In fact, in single-cell data, this is rarely true as cells do not transition back and forth between two different states.\n",
    "\n",
    "---"
   ]
  },
  {
   "cell_type": "markdown",
   "metadata": {},
   "source": [
    "## The Algorithm\n",
    "\n",
    "$\\textbf{Affinitty_from_flow}$\n",
    "\n",
    "Input:\n",
    "- F: $n \\times d$ tensor with $n$ rows of points each with flow in $d$  column directions\n",
    "- D: $n \\times n \\times d$ tensor where dimension 1 represents directions to point i, dimension 2 represents direction from point j, and dimension 3 represents the displacement from point j to point i in each dimension of ($\\mathbb{R}^d$). Ex. directions_array\\[i\\]\\[j\\] is the vector from point $x_j$ to point $x_i$ i.e., $(x_j - x_i)$.\n",
    "- b: flow strength ($\\beta$)\n",
    "- s: bandwidth ($\\sigma$)\n",
    "\n",
    "Algorithm:\n",
    "1. Calculate length of direction vectors, $L$ ($n \\times n$).\n",
    "2. Calculate normalized directions tensor from $D$, $D_n$ (n \\times n \\times d).\n",
    "3. Compute dot product between normed directions and flows (Sum $d$ dimensions of $D_nF$ = $C_F$ (cost from flow)).\n",
    "4. Subtract $C_F$ from length of flows in $F$ ($F_F$, flow factor).\n",
    "5. Take absoluate value of $F_F$.\n",
    "6. Add $L$ and $s \\cdot F_F$ ($C_{wF}$, cost with flow)\n",
    "7. Exponentiate $C_{wF}^T$"
   ]
  },
  {
   "cell_type": "code",
   "execution_count": null,
   "metadata": {},
   "outputs": [],
   "source": [
    "# export\n",
    "\n",
    "def affinity_from_flow(flows, directions_array, flow_strength = 1, sigma=1):\n",
    "    \"\"\"Compute probabilities of transition in the given directions based on the flow. \n",
    "\n",
    "    Parameters\n",
    "    ----------\n",
    "    flow : torch tensor of shape n_points x n_dims\n",
    "        _description_\n",
    "    directions_array : torch tensor of shape n_directions x n_points x n_dims. Assumed to be normalized.\n",
    "        _description_\n",
    "    sigma : int, optional\n",
    "        kernel bandwidth, by default 1\n",
    "    returns (n_points)\n",
    "    \"\"\"\n",
    "    assert len(flow.shape) == 2 # flow should only have one dimension\n",
    "    assert len(directions_array.shape) > 1 and len(directions_array.shape) < 4\n",
    "    n_directions = directions_array.shape[0]\n",
    "    # Normalize directions\n",
    "    length_of_directions = torch.linalg.norm(directions_array,dim=-1)\n",
    "    normed_directions = F.normalize(directions_array,dim=-1)\n",
    "    # and normalize flow # TODO: Perhaps reconsider\n",
    "    # Calculate flow lengths, used to scale directions to flow\n",
    "    # flow_lengths = torch.linalg.norm(flow,dim=-1)\n",
    "    if len(directions_array) == 1: # convert to 2d array if necessary\n",
    "        directions_array = directions_array[:,None] \n",
    "    # scale directions to have same norm as flow\n",
    "    # scaled_directions = normed_directions * flow_lengths[:,None].repeat(directions_array.shape[0],1,directions_array.shape[2])\n",
    "    # compute dot products as matrix multiplication\n",
    "    dot_products = (normed_directions * flow).sum(-1)\n",
    "    # take distance between flow projected onto direction and the direction\n",
    "    distance_from_flow = (torch.linalg.norm(flow,dim=1)).repeat(n_directions,1) - dot_products\n",
    "    # take absolute value\n",
    "    distance_from_flow = torch.abs(distance_from_flow)\n",
    "    # print('shape of dff',distance_from_flow.shape)\n",
    "    # add to this the length of each direction\n",
    "    distance_from_flow = flow_strength*distance_from_flow + length_of_directions\n",
    "    # put the points on rows, directions in columns\n",
    "    distance_from_flow = distance_from_flow.T\n",
    "    # take kernel of distances\n",
    "    kernel =  torch.exp(-distance_from_flow/sigma)\n",
    "    \n",
    "    return kernel"
   ]
  },
  {
   "cell_type": "code",
   "execution_count": null,
   "metadata": {},
   "outputs": [],
   "source": [
    "# export\n",
    "\n",
    "def affinity_matrix_from_pointset_to_pointset(pointset1,pointset2,flows,n_neighbors=None,sigma=0.5, flow_strength=1):\n",
    "    \"\"\"Compute affinity matrix between the points of pointset1 and pointset2, using the provided flow.\n",
    "\n",
    "    Parameters\n",
    "    ----------\n",
    "    pointset1 : torch tensor, n1 x d\n",
    "        The first pointset, to calculate affinities *from*\n",
    "    pointset2 : torch tensor, n2 x d\n",
    "        The second pointset, to calculate affinities *to* (from pointset1)\n",
    "    flow : a function that, when called at a point, gives the flow at that point\n",
    "    n_neighbors : number of neighbors to include in affinity computations. All neighbors beyond it are given affinity zero\n",
    "    (currently not implemented)\n",
    "\n",
    "    Returns:\n",
    "    Affinity matrix: torch tensor of shape n1 x n2\n",
    "    \"\"\"\n",
    "    \n",
    "    # Calculate the directions from point i in pointset 1 to point j in pointset 2\n",
    "    n1 = pointset1.shape[0]\n",
    "    n2 = pointset2.shape[0]\n",
    "    P2 = pointset2[:,:,None].repeat(1,1,n1)\n",
    "    P1 = pointset1.T.repeat(n2,1,1)\n",
    "    P3 = (P2 - P1)\n",
    "    P3 = P3.transpose(1,2)\n",
    "    # dimension 1 represents directions to point i\n",
    "    # dimension 2 represents direction from point j\n",
    "    # dimension 3 represents direction in each dimension (R^n)\n",
    "    # compute affinities from flow and directions\n",
    "    affinities = affinity_from_flow(flows,P3,sigma=sigma,flow_strength=flow_strength)\n",
    "    \n",
    "    return affinities"
   ]
  }
 ],
 "metadata": {
  "kernelspec": {
   "display_name": "Python 3.10.4 ('sumry-directed-graphs')",
   "language": "python",
   "name": "python3"
  },
  "language_info": {
   "codemirror_mode": {
    "name": "ipython",
    "version": 3
   },
   "file_extension": ".py",
   "mimetype": "text/x-python",
   "name": "python",
   "nbconvert_exporter": "python",
   "pygments_lexer": "ipython3",
   "version": "3.9.13"
  }
 },
 "nbformat": 4,
 "nbformat_minor": 2
}
