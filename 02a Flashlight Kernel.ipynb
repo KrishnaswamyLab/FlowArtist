{
 "cells": [
  {
   "cell_type": "markdown",
   "metadata": {},
   "source": [
    "# The Flashlight Kernel"
   ]
  },
  {
   "cell_type": "code",
   "execution_count": 1,
   "metadata": {},
   "outputs": [],
   "source": [
    "def affinity_from_flow(flow, directions_array, flow_strength = 1, sigma=1):\n",
    "    \"\"\"Compute probabilities of transition in the given directions based on the flow. \n",
    "\n",
    "    Parameters\n",
    "    ----------\n",
    "    flow : torch tensor of shape n_points x n_dims\n",
    "        _description_\n",
    "    directions_array : torch tensor of shape n_directions x n_points x n_dims. Assumed to be normalized.\n",
    "        _description_\n",
    "    sigma : int, optional\n",
    "        kernel bandwidth, by default 1\n",
    "    returns (n_points)\n",
    "    \"\"\"\n",
    "    assert len(flow.shape) == 2 # flow should only have one dimension\n",
    "    assert len(directions_array.shape) > 1 and len(directions_array.shape) < 4\n",
    "    n_directions = directions_array.shape[0]\n",
    "    # Normalize directions\n",
    "    length_of_directions = torch.linalg.norm(directions_array,dim=-1)\n",
    "    normed_directions = F.normalize(directions_array,dim=-1)\n",
    "    # and normalize flow # TODO: Perhaps reconsider\n",
    "    # Calculate flow lengths, used to scale directions to flow\n",
    "    # flow_lengths = torch.linalg.norm(flow,dim=-1)\n",
    "    if len(directions_array) == 1: # convert to 2d array if necessary\n",
    "      directions_array = directions_array[:,None] \n",
    "    # scale directions to have same norm as flow\n",
    "    # scaled_directions = normed_directions * flow_lengths[:,None].repeat(directions_array.shape[0],1,directions_array.shape[2])\n",
    "    # compute dot products as matrix multiplication\n",
    "    dot_products = (normed_directions * flow).sum(-1)\n",
    "    # take distance between flow projected onto direction and the direction\n",
    "    distance_from_flow = (torch.linalg.norm(flow,dim=1)).repeat(n_directions,1) - dot_products\n",
    "    # take absolute value\n",
    "    distance_from_flow = torch.abs(distance_from_flow)\n",
    "    # print('shape of dff',distance_from_flow.shape)\n",
    "    # add to this the length of each direction\n",
    "    distance_from_flow = flow_strength*distance_from_flow + length_of_directions\n",
    "    # put the points on rows, directions in columns\n",
    "    distance_from_flow = distance_from_flow.T\n",
    "    # take kernel of distances\n",
    "    kernel =  torch.exp(-distance_from_flow/sigma)\n",
    "    \n",
    "    return kernel"
   ]
  },
  {
   "cell_type": "code",
   "execution_count": 2,
   "metadata": {},
   "outputs": [],
   "source": [
    "def affinity_matrix_from_pointset_to_pointset(pointset1, pointset2, flow,n_neighbors=None,sigma=0.5, flow_strength=1):\n",
    "    \"\"\"Compute affinity matrix between the points of pointset1 and pointset2, using the provided flow.\n",
    "\n",
    "    Parameters\n",
    "    ----------\n",
    "    pointset1 : torch tensor, n1 x d\n",
    "        The first pointset, to calculate affinities *from*\n",
    "    pointset2 : torch tensor, n2 x d\n",
    "        The second pointset, to calculate affinities *to* (from pointset1)\n",
    "    flow : a function that, when called at a point, gives the flow at that point\n",
    "    n_neighbors : number of neighbors to include in affinity computations. All neighbors beyond it are given affinity zero\n",
    "    (currently not implemented)\n",
    "\n",
    "    Returns:\n",
    "    Affinity matrix: torch tensor of shape n1 x n2\n",
    "    \"\"\"\n",
    "    \n",
    "    # Calculate the directions from point i in pointset 1 to point j in pointset 2\n",
    "    n1 = pointset1.shape[0]\n",
    "    n2 = pointset2.shape[0]\n",
    "    P2 = pointset2[:,:,None].repeat(1,1,n1)\n",
    "    P1 = pointset1.T.repeat(n2,1,1)\n",
    "    P3 = (P2 - P1)\n",
    "    P3 = P3.transpose(1,2)\n",
    "    # dimension 1 represents directions to point i\n",
    "    # dimension 2 represents direction from point j\n",
    "    # dimension 3 represents direction in each dimension (R^n)\n",
    "    # compute affinities from flow and directions\n",
    "    affinities = affinity_from_flow(flow,P3,sigma=sigma,flow_strength=flow_strength)\n",
    "    \n",
    "    return affinities"
   ]
  },
  {
   "cell_type": "code",
   "execution_count": null,
   "metadata": {},
   "outputs": [],
   "source": []
  }
 ],
 "metadata": {
  "kernelspec": {
   "display_name": "Python 3 (ipykernel)",
   "language": "python",
   "name": "python3"
  },
  "language_info": {
   "codemirror_mode": {
    "name": "ipython",
    "version": 3
   },
   "file_extension": ".py",
   "mimetype": "text/x-python",
   "name": "python",
   "nbconvert_exporter": "python",
   "pygments_lexer": "ipython3",
   "version": "3.9.13"
  },
  "vscode": {
   "interpreter": {
    "hash": "c6ea889a79d04ae11c3321f85d882527bc3513ce7270df83ac3996bcf1545016"
   }
  }
 },
 "nbformat": 4,
 "nbformat_minor": 2
}
