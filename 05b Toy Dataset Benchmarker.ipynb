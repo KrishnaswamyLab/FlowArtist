{
 "cells": [
  {
   "cell_type": "code",
   "execution_count": null,
   "metadata": {},
   "outputs": [
    {
     "name": "stdout",
     "output_type": "stream",
     "text": [
      "Using device mps\n"
     ]
    }
   ],
   "source": [
    "# default_exp \n",
    "from nbdev.showdoc import *\n",
    "import numpy as np\n",
    "import matplotlib.pyplot as plt\n",
    "import torch\n",
    "import FRED\n",
    "if torch.__version__[:4] == '1.13': # If using pytorch with MPS, use Apple silicon GPU acceleration\n",
    "    device = torch.device(\"cuda\" if torch.cuda.is_available() else 'mps' if torch.has_mps else \"cpu\")\n",
    "else:\n",
    "    device = torch.device(\"cuda\" if torch.cuda.is_available() else \"cpu\")\n",
    "print(\"Using device\", device)\n",
    "%load_ext autoreload\n",
    "%autoreload 2"
   ]
  },
  {
   "cell_type": "markdown",
   "metadata": {},
   "source": [
    "# 05b Toy Dataset Benchmarker\n",
    "> Run a given model on all of our toy datasets (optionally, do so many times), and produce training gifs and loss charts for each."
   ]
  },
  {
   "cell_type": "code",
   "execution_count": null,
   "metadata": {},
   "outputs": [
    {
     "name": "stdout",
     "output_type": "stream",
     "text": [
      "The snakeviz extension is already loaded. To reload it, use:\n",
      "  %reload_ext snakeviz\n"
     ]
    }
   ],
   "source": [
    "%load_ext snakeviz"
   ]
  },
  {
   "cell_type": "code",
   "execution_count": null,
   "metadata": {},
   "outputs": [
    {
     "name": "stdout",
     "output_type": "stream",
     "text": [
      "Program completed\n",
      "Program completed\n",
      "Program completed\n",
      "Program completed\n",
      "Program completed\n",
      "Program completed\n",
      "Program completed\n",
      "Program completed\n",
      "Program completed\n",
      "Program completed\n",
      " \n",
      "*** Profile stats marshalled to file '/var/folders/y5/4qfj8yjj1hb97n6q01_dg0km0000gn/T/tmpk6o8n7n7'.\n",
      "Embedding SnakeViz in this document...\n"
     ]
    },
    {
     "data": {
      "text/html": [
       "\n",
       "<iframe id='snakeviz-ae0b429a-0d2c-11ed-a61e-82dc8129ee94' frameborder=0 seamless width='100%' height='1000'></iframe>\n",
       "<script>document.getElementById(\"snakeviz-ae0b429a-0d2c-11ed-a61e-82dc8129ee94\").setAttribute(\"src\", \"http://\" + document.location.hostname + \":8080/snakeviz/%2Fvar%2Ffolders%2Fy5%2F4qfj8yjj1hb97n6q01_dg0km0000gn%2FT%2Ftmpk6o8n7n7\")</script>\n"
      ],
      "text/plain": [
       "<IPython.core.display.HTML object>"
      ]
     },
     "metadata": {},
     "output_type": "display_data"
    }
   ],
   "source": [
    "# Code to test visualization\n",
    "import random\n",
    "# Simple function to print messages \n",
    "def print_msg():\n",
    "    for i in range(10):\n",
    "        print(\"Program completed\")\n",
    "\n",
    "# Generate random data\n",
    "def generate():\n",
    "    data = [random.randint(0, 99) for p in range(0, 1000)]\n",
    "    return data\n",
    "\n",
    "# Function to search \n",
    "def search_function(data):\n",
    "    for i in data:\n",
    "        if i in [100,200,300,400,500]:\n",
    "            print(\"success\")\n",
    "\n",
    "def main():\n",
    "    data=generate()\n",
    "    search_function(data)\n",
    "    print_msg()\n",
    "\n",
    "\n",
    "\n",
    "%snakeviz main() "
   ]
  },
  {
   "cell_type": "code",
   "execution_count": null,
   "metadata": {},
   "outputs": [],
   "source": []
  }
 ],
 "metadata": {
  "kernelspec": {
   "display_name": "Python 3.9.13 ('pyg_from_source')",
   "language": "python",
   "name": "python3"
  }
 },
 "nbformat": 4,
 "nbformat_minor": 2
}
