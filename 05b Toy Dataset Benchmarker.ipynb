{
 "cells": [
  {
   "cell_type": "code",
   "execution_count": null,
   "metadata": {},
   "outputs": [
    {
     "name": "stdout",
     "output_type": "stream",
     "text": [
      "Using device mps\n"
     ]
    }
   ],
   "source": [
    "# default_exp \n",
    "from nbdev.showdoc import *\n",
    "import numpy as np\n",
    "import matplotlib.pyplot as plt\n",
    "import torch\n",
    "import FRED\n",
    "if torch.__version__[:4] == '1.13': # If using pytorch with MPS, use Apple silicon GPU acceleration\n",
    "    device = torch.device(\"cuda\" if torch.cuda.is_available() else 'mps' if torch.has_mps else \"cpu\")\n",
    "else:\n",
    "    device = torch.device(\"cuda\" if torch.cuda.is_available() else \"cpu\")\n",
    "print(\"Using device\", device)\n",
    "%load_ext autoreload\n",
    "%autoreload 2"
   ]
  },
  {
   "cell_type": "markdown",
   "metadata": {},
   "source": [
    "# 05b Toy Dataset Benchmarker\n",
    "> Run a given model on all of our toy datasets (optionally, do so many times), and produce training gifs and loss charts for each."
   ]
  },
  {
   "cell_type": "code",
   "execution_count": null,
   "metadata": {},
   "outputs": [
    {
     "name": "stdout",
     "output_type": "stream",
     "text": [
      "The snakeviz extension is already loaded. To reload it, use:\n",
      "  %reload_ext snakeviz\n"
     ]
    }
   ],
   "source": [
    "%load_ext snakeviz"
   ]
  },
  {
   "cell_type": "code",
   "execution_count": null,
   "metadata": {},
   "outputs": [
    {
     "name": "stdout",
     "output_type": "stream",
     "text": [
      "Program completed\n",
      "Program completed\n",
      "Program completed\n",
      "Program completed\n",
      "Program completed\n",
      "Program completed\n",
      "Program completed\n",
      "Program completed\n",
      "Program completed\n",
      "Program completed\n",
      " \n",
      "*** Profile stats marshalled to file 'program.prof'.\n"
     ]
    },
    {
     "name": "stdout",
     "output_type": "stream",
     "text": [
      "         5493 function calls in 0.001 seconds\n",
      "\n",
      "   Ordered by: internal time\n",
      "\n",
      "   ncalls  tottime  percall  cumtime  percall filename:lineno(function)\n",
      "        1    0.000    0.000    0.000    0.000 socket.py:543(send)\n",
      "     1000    0.000    0.000    0.001    0.000 random.py:290(randrange)\n",
      "     1000    0.000    0.000    0.000    0.000 random.py:237(_randbelow_with_getrandbits)\n",
      "     1000    0.000    0.000    0.001    0.000 random.py:334(randint)\n",
      "        1    0.000    0.000    0.001    0.001 1419858537.py:10(<listcomp>)\n",
      "        1    0.000    0.000    0.000    0.000 1419858537.py:14(search_function)\n",
      "     1307    0.000    0.000    0.000    0.000 {method 'getrandbits' of '_random.Random' objects}\n",
      "     1000    0.000    0.000    0.000    0.000 {method 'bit_length' of 'int' objects}\n",
      "       20    0.000    0.000    0.001    0.000 iostream.py:525(write)\n",
      "        1    0.000    0.000    0.001    0.001 {built-in method builtins.exec}\n",
      "       10    0.000    0.000    0.001    0.000 {built-in method builtins.print}\n",
      "       20    0.000    0.000    0.000    0.000 iostream.py:436(_is_master_process)\n",
      "        1    0.000    0.000    0.000    0.000 iostream.py:209(schedule)\n",
      "       20    0.000    0.000    0.000    0.000 iostream.py:455(_schedule_flush)\n",
      "        1    0.000    0.000    0.001    0.001 1419858537.py:4(print_msg)\n",
      "        1    0.000    0.000    0.000    0.000 threading.py:1133(is_alive)\n",
      "        1    0.000    0.000    0.001    0.001 <string>:1(<module>)\n",
      "       20    0.000    0.000    0.000    0.000 {method 'write' of '_io.StringIO' objects}\n",
      "       20    0.000    0.000    0.000    0.000 {method '__exit__' of '_thread.RLock' objects}\n",
      "        1    0.000    0.000    0.000    0.000 iostream.py:97(_event_pipe)\n",
      "       20    0.000    0.000    0.000    0.000 {built-in method builtins.len}\n",
      "       20    0.000    0.000    0.000    0.000 {built-in method posix.getpid}\n",
      "        1    0.000    0.000    0.001    0.001 1419858537.py:19(main)\n",
      "        1    0.000    0.000    0.001    0.001 1419858537.py:9(generate)\n",
      "       20    0.000    0.000    0.000    0.000 {built-in method builtins.isinstance}\n",
      "        1    0.000    0.000    0.000    0.000 threading.py:1066(_wait_for_tstate_lock)\n",
      "        1    0.000    0.000    0.000    0.000 {method 'acquire' of '_thread.lock' objects}\n",
      "        1    0.000    0.000    0.000    0.000 threading.py:536(is_set)\n",
      "        1    0.000    0.000    0.000    0.000 {method 'disable' of '_lsprof.Profiler' objects}\n",
      "        1    0.000    0.000    0.000    0.000 {method 'append' of 'collections.deque' objects}"
     ]
    }
   ],
   "source": [
    "# Code to test visualization\n",
    "import random\n",
    "# Simple function to print messages \n",
    "def print_msg():\n",
    "    for i in range(10):\n",
    "        print(\"Program completed\")\n",
    "\n",
    "# Generate random data\n",
    "def generate():\n",
    "    data = [random.randint(0, 99) for p in range(0, 1000)]\n",
    "    return data\n",
    "\n",
    "# Function to search \n",
    "def search_function(data):\n",
    "    for i in data:\n",
    "        if i in [100,200,300,400,500]:\n",
    "            print(\"success\")\n",
    "\n",
    "def main():\n",
    "    data=generate()\n",
    "    search_function(data)\n",
    "    print_msg()\n",
    "\n",
    "%prun -D program.prof main() "
   ]
  },
  {
   "cell_type": "code",
   "execution_count": null,
   "metadata": {},
   "outputs": [],
   "source": []
  }
 ],
 "metadata": {
  "kernelspec": {
   "display_name": "Python 3.9.13 ('pyg_from_source')",
   "language": "python",
   "name": "python3"
  }
 },
 "nbformat": 4,
 "nbformat_minor": 2
}
