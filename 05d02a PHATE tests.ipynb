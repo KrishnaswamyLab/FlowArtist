{
 "cells": [
  {
   "cell_type": "code",
   "execution_count": null,
   "id": "2993f79c-507f-4176-adbf-9bac9e3a2367",
   "metadata": {},
   "outputs": [
    {
     "name": "stdout",
     "output_type": "stream",
     "text": [
      "Using device cpu\n",
      "The autoreload extension is already loaded. To reload it, use:\n",
      "  %reload_ext autoreload\n"
     ]
    }
   ],
   "source": [
    "# default_exp testing_utils\n",
    "from nbdev.showdoc import *\n",
    "import numpy as np\n",
    "import matplotlib.pyplot as plt\n",
    "import torch\n",
    "import FRED\n",
    "if torch.__version__[:4] == '1.14': # If using pytorch with MPS, use Apple silicon GPU acceleration\n",
    "    device = torch.device(\"cuda\" if torch.cuda.is_available() else 'mps' if torch.has_mps else \"cpu\")\n",
    "else:\n",
    "    device = torch.device(\"cuda\" if torch.cuda.is_available() else \"cpu\")\n",
    "print(\"Using device\", device)\n",
    "%load_ext autoreload\n",
    "%autoreload 2"
   ]
  },
  {
   "cell_type": "markdown",
   "id": "487b27d9-0b33-4144-b6bd-50238ffc266d",
   "metadata": {},
   "source": [
    "# Comprehensive PHATE Comparisons on Single Cell Datasets"
   ]
  },
  {
   "cell_type": "markdown",
   "id": "41ceacff-409b-4075-951b-624aaad71169",
   "metadata": {},
   "source": [
    "Explanation: this notebook prepares a `papermill` powered test of the toy dataset benchmarker, using the noisy double helix as our protege.\n",
    "\n",
    "Here's what it does:\n",
    "1. Start with a dict of possible parameters, each contained in a list, like this:"
   ]
  },
  {
   "cell_type": "code",
   "execution_count": null,
   "id": "6fae9521-29c1-40c8-bbdd-d36b5c84ddeb",
   "metadata": {},
   "outputs": [],
   "source": [
    "import papermill as pm"
   ]
  },
  {
   "cell_type": "code",
   "execution_count": null,
   "id": "ffeea246-a50e-4d0f-9474-0543b3306b65",
   "metadata": {},
   "outputs": [],
   "source": [
    "parameters_dict = {\n",
    "    'notebook' : ['05d02 PHATE Comparison on sc.ipynb'], # the notebook we are inserting these parameters into\n",
    "    'dataset_name' : ['bone marrow', 'dentategyrus', 'pancreas']\n",
    "}"
   ]
  },
  {
   "cell_type": "markdown",
   "id": "fc8ad7fe-a13d-4a51-8177-5a2fca1f74e4",
   "metadata": {},
   "source": [
    "2. Use this function to create a JSON file with a dictionary for each possible combination of these parameters."
   ]
  },
  {
   "cell_type": "code",
   "execution_count": null,
   "id": "1ec24eae-4f0c-4db2-9f19-0c518351eeb6",
   "metadata": {},
   "outputs": [],
   "source": [
    "# export\n",
    "import json\n",
    "import os\n",
    "\n",
    "counter = 0\n",
    "def parameters_list_from_dict(parameters_dict, outfile):\n",
    "    ''' Given a dictionary whose values are each a list of possible values, creates a json file with one dictionary for every possible combination of values. '''\n",
    "    with open(outfile, 'a') as f:\n",
    "                f.write('{')\n",
    "    keys = list(parameters_dict.keys())\n",
    "    run_num = 0\n",
    "    def add_key_to_dict(little_dict, key_num):\n",
    "        if key_num == len(keys):\n",
    "            global counter\n",
    "            counter += 1\n",
    "            # write little dict to outfile\n",
    "            descriptor = f'run_{counter}'\n",
    "            little_dict['output_label'] = descriptor\n",
    "            with open(outfile, 'a') as f:\n",
    "                f.write(f'\\n\"{descriptor}\":')\n",
    "                json.dump(little_dict,f,indent=4)\n",
    "                f.write(',')\n",
    "        else:\n",
    "            current_key = keys[key_num]\n",
    "            for val in parameters_dict[current_key]:\n",
    "                little_dict[current_key] = val\n",
    "                add_key_to_dict(little_dict.copy(), key_num + 1)\n",
    "    little_dict = {}\n",
    "    add_key_to_dict(little_dict, 0)\n",
    "    # delete last trailing comma, as json doesn't like this\n",
    "    with open(outfile, 'rb+') as f:\n",
    "        f.seek(-1, os.SEEK_END)\n",
    "        f.truncate()\n",
    "    with open(outfile, 'a') as f:\n",
    "        f.write('}')\n",
    "    print(f\"Created {counter} test scenarios.\")\n",
    "            "
   ]
  },
  {
   "cell_type": "code",
   "execution_count": null,
   "id": "812b3b51-840b-4125-92aa-3d4a0edf1c41",
   "metadata": {},
   "outputs": [
    {
     "name": "stdout",
     "output_type": "stream",
     "text": [
      "Created 3 test scenarios.\n"
     ]
    }
   ],
   "source": [
    "parameters_list_from_dict(parameters_dict, 'phate_single_cell_tests.json')"
   ]
  },
  {
   "cell_type": "code",
   "execution_count": null,
   "id": "12ec33fd-deda-4287-9dcb-b969d87a1844",
   "metadata": {},
   "outputs": [],
   "source": []
  }
 ],
 "metadata": {
  "kernelspec": {
   "display_name": "FREDkernel",
   "language": "python",
   "name": "fredkernel"
  }
 },
 "nbformat": 4,
 "nbformat_minor": 5
}
