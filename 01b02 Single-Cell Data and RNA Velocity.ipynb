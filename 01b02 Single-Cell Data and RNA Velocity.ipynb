{
 "cells": [
  {
   "cell_type": "markdown",
   "metadata": {},
   "source": [
    "# RNA Velocity Data"
   ]
  },
  {
   "cell_type": "code",
   "execution_count": 1,
   "metadata": {},
   "outputs": [],
   "source": [
    "# default_exp datasets"
   ]
  },
  {
   "cell_type": "markdown",
   "metadata": {},
   "source": [
    "## Pancreas Dataset"
   ]
  },
  {
   "cell_type": "markdown",
   "metadata": {},
   "source": [
    "### Functions to Return RNA Velocity Dataset"
   ]
  },
  {
   "cell_type": "code",
   "execution_count": 2,
   "metadata": {},
   "outputs": [],
   "source": [
    "#export\n",
    "\n",
    "import scvelo as scv\n",
    "import numpy as np\n",
    "import torch\n",
    "import scipy\n",
    "\n",
    "def pancreas_rnavelo_load_data():\n",
    "    # load data\n",
    "    adata = scv.datasets.pancreas()\n",
    "    \n",
    "    #preprocess data and calculate rna velocity\n",
    "    scv.pp.filter_and_normalize(adata)\n",
    "    scv.pp.moments(adata)\n",
    "    scv.tl.velocity(adata, mode='stochastic')\n",
    "    \n",
    "    return adata\n",
    "        \n",
    "def add_labels_pancreas(clusters):\n",
    "    cluster_set = set(clusters)\n",
    "    d = {}\n",
    "    count = 0\n",
    "    for c in cluster_set:\n",
    "        d[c] = count\n",
    "        count +=1\n",
    "    labels = []\n",
    "    for i in range(len(clusters)):\n",
    "        labels.append(d[clusters[i]])\n",
    "        \n",
    "    return labels\n",
    "\n",
    "def pancreas_rnavelo():\n",
    "    # load preprocessed data\n",
    "    adata = pancreas_rnavelo_load_data()\n",
    "    \n",
    "    # set datapoints (X) and flows\n",
    "    X = torch.tensor(adata.X.todense())\n",
    "    flows = torch.tensor(adata.layers[\"velocity\"])\n",
    "    labels = add_labels_pancreas(adata.obs[\"clusters\"])\n",
    "        \n",
    "    return X, flows, labels\n",
    "\n",
    "def pancreas_rnavelo_50pcs():\n",
    "    adata = pancreas_rnavelo_load_data()\n",
    "    \n",
    "    # calculate velocity pca (50 dimensions) and display pca plot (2 dimensions)\n",
    "    scv.tl.velocity_graph(adata)\n",
    "    scv.pl.velocity_embedding_stream(adata, basis='pca')\n",
    "    \n",
    "    X = torch.tensor(adata.obsm[\"X_pca\"])\n",
    "    flows = torch.tensor(adata.obsm[\"velocity_pca\"])\n",
    "    labels = add_labels_pancreas(adata.obs[\"clusters\"])\n",
    "    \n",
    "    return X, flows, labels"
   ]
  },
  {
   "cell_type": "markdown",
   "metadata": {},
   "source": [
    "### Function Checks"
   ]
  },
  {
   "cell_type": "code",
   "execution_count": 3,
   "metadata": {},
   "outputs": [
    {
     "name": "stdout",
     "output_type": "stream",
     "text": [
      "Normalized count data: X, spliced, unspliced.\n",
      "Logarithmized X.\n",
      "computing neighbors\n"
     ]
    },
    {
     "name": "stderr",
     "output_type": "stream",
     "text": [
      "OMP: Info #277: omp_set_nested routine deprecated, please use omp_set_max_active_levels instead.\n"
     ]
    },
    {
     "name": "stdout",
     "output_type": "stream",
     "text": [
      "    finished (0:00:14) --> added \n",
      "    'distances' and 'connectivities', weighted adjacency matrices (adata.obsp)\n",
      "computing moments based on connectivities\n",
      "    finished (0:00:08) --> added \n",
      "    'Ms' and 'Mu', moments of un/spliced abundances (adata.layers)\n",
      "computing velocities\n",
      "    finished (0:00:23) --> added \n",
      "    'velocity', velocity vectors for each individual cell (adata.layers)\n"
     ]
    }
   ],
   "source": [
    "X, flows, labels = pancreas_rnavelo()"
   ]
  },
  {
   "cell_type": "code",
   "execution_count": null,
   "metadata": {},
   "outputs": [
    {
     "name": "stdout",
     "output_type": "stream",
     "text": [
      "Normalized count data: X, spliced, unspliced.\n",
      "Logarithmized X.\n",
      "computing neighbors\n",
      "    finished (0:00:01) --> added \n",
      "    'distances' and 'connectivities', weighted adjacency matrices (adata.obsp)\n",
      "computing moments based on connectivities\n",
      "    finished (0:00:08) --> added \n",
      "    'Ms' and 'Mu', moments of un/spliced abundances (adata.layers)\n",
      "computing velocities\n",
      "    finished (0:00:23) --> added \n",
      "    'velocity', velocity vectors for each individual cell (adata.layers)\n",
      "computing velocity graph (using 1/8 cores)\n"
     ]
    },
    {
     "data": {
      "application/vnd.jupyter.widget-view+json": {
       "model_id": "3f55e75d0d55494fa3007ee581e03c51",
       "version_major": 2,
       "version_minor": 0
      },
      "text/plain": [
       "  0%|          | 0/3696 [00:00<?, ?cells/s]"
      ]
     },
     "metadata": {},
     "output_type": "display_data"
    }
   ],
   "source": [
    "X2, flows2, labels2 = pancreas_rnavelo_50pcs()"
   ]
  },
  {
   "cell_type": "code",
   "execution_count": null,
   "metadata": {},
   "outputs": [],
   "source": [
    "print(X2.shape)\n",
    "print(flows2.shape)\n",
    "print(len(labels2))\n",
    "\n",
    "print(X2.shape)\n",
    "print(flows2.shape)\n",
    "print(len(labels2))"
   ]
  },
  {
   "cell_type": "code",
   "execution_count": null,
   "metadata": {},
   "outputs": [],
   "source": [
    "!nbdev_build_lib"
   ]
  },
  {
   "cell_type": "code",
   "execution_count": null,
   "metadata": {},
   "outputs": [],
   "source": []
  }
 ],
 "metadata": {
  "kernelspec": {
   "display_name": "Python 3 (ipykernel)",
   "language": "python",
   "name": "python3"
  },
  "language_info": {
   "codemirror_mode": {
    "name": "ipython",
    "version": 3
   },
   "file_extension": ".py",
   "mimetype": "text/x-python",
   "name": "python",
   "nbconvert_exporter": "python",
   "pygments_lexer": "ipython3",
   "version": "3.9.13"
  },
  "vscode": {
   "interpreter": {
    "hash": "c6ea889a79d04ae11c3321f85d882527bc3513ce7270df83ac3996bcf1545016"
   }
  }
 },
 "nbformat": 4,
 "nbformat_minor": 2
}
