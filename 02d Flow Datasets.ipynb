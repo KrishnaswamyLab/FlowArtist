{
 "cells": [
  {
   "cell_type": "code",
   "execution_count": null,
   "metadata": {},
   "outputs": [
    {
     "name": "stdout",
     "output_type": "stream",
     "text": [
      "Using device mps\n",
      "The autoreload extension is already loaded. To reload it, use:\n",
      "  %reload_ext autoreload\n"
     ]
    }
   ],
   "source": [
    "# default_exp data_processing\n",
    "from nbdev.showdoc import *\n",
    "import numpy as np\n",
    "import matplotlib.pyplot as plt\n",
    "import torch\n",
    "import FRED\n",
    "if torch.__version__[:4] == '1.13': # If using pytorch with MPS, use Apple silicon GPU acceleration\n",
    "    device = torch.device(\"cuda\" if torch.cuda.is_available() else 'mps' if torch.has_mps else \"cpu\")\n",
    "else:\n",
    "    device = torch.device(\"cuda\" if torch.cuda.is_available() else \"cpu\")\n",
    "print(\"Using device\", device)\n",
    "%load_ext autoreload\n",
    "%autoreload 2"
   ]
  },
  {
   "cell_type": "markdown",
   "metadata": {},
   "source": [
    "# 02d Flow Datasets\n",
    "> Here be the tailored datasets for FRED! In addition to storing points, we must store a graph, and intelligently sample from the graph so that batches preserve 'flow neighborhoods'"
   ]
  },
  {
   "cell_type": "markdown",
   "metadata": {},
   "source": [
    "As previously listed, this is our preprocessing pipeline.\n",
    "\n",
    "0. Turn data to torch tensors\n",
    "1. Build graph from data, using flashlight kernel\n",
    "\t1. Estimate best parameters for kernel selection\n",
    "2. Take diffusion map on data (or any ‘best guess embedding’) we want to penalize against. (Can be done on CPU or GPU). Would likely use established methods, like PHATE, tSNE, node2vec.\n",
    "\t1. Visualize embedding\n",
    "3. Find flow neighborhoods of data (possibly at multiple scales)\n",
    "4. **Break data into batches (both affinity matrix of batches and points in batches).**\n",
    "5. **Return `Dataloader` with minibatch `X` and subgraph `A` of each batch.**\n",
    "\n",
    "\n",
    "0-3 are handled by separate functions. This notebook calls upon these functions, and implements the machinery for 4 and 5"
   ]
  },
  {
   "cell_type": "markdown",
   "metadata": {},
   "source": [
    "# Two Types of Data\n",
    "FRED can operate on both directed graphs (assumed to be sampled from a manifold with flow, ala the \"Manifold with Flow\" hypothesis) and pointclouds with associated velocity vectors (like RNA velocity single cell data). Each type is processed differently, and requires a different dataset class."
   ]
  },
  {
   "cell_type": "code",
   "execution_count": null,
   "metadata": {},
   "outputs": [],
   "source": [
    "import torch\n",
    "from torch.utils.data import Dataset\n",
    "import matplotlib.pyplot as plt\n",
    "import numpy as np\n",
    "import torch.nn.functional as F\n",
    "from FRED.data_processing import flashlight_affinity_matrix, diffusion_map_from_affinities, flow_neighbors\n",
    "class ManifoldWithVectorField(Dataset):\n",
    "    \"\"\"\n",
    "    Dataset object to be used with FRED for pointcloud and velocity input data.\n",
    "    Takes np.arrays for X (points) and velocities (velocity vectors per point).\n",
    "    For each item retrieved, returns a neighborhood around that point (based on local euclidean neighbors) containing local affinities\n",
    "\n",
    "    \"\"\"\n",
    "    def __init__(self, X, velocities, sigma=\"automatic\", prior_embedding = \"diffusion map\", t_dmap = 1, dmap_coords_to_use = 2, n_neighbors = 5, minibatch_size = 100, nbhd_strategy = \"flow neighbors\"):\n",
    "        # Step 0: Convert data into tensors\n",
    "        self.X = torch.tensor(X)\n",
    "        self.velocities = torch.tensor(velocities)\n",
    "        self.n_neighbors = n_neighbors\n",
    "        self.n_nodes = self.X.shape[0]\n",
    "        self.minibatch_size = minibatch_size\n",
    "        # Step 1. Build graph on input data, using flashlight kernel\n",
    "        self.A = flashlight_affinity_matrix(self.X, self.velocities, sigma = sigma)\n",
    "        self.P_graph = F.normalize(self.A, p=1, dim=1)\n",
    "        # visualize affinity matrix\n",
    "        plt.imshow(self.A.numpy())\n",
    "        # Step 2. Take a diffusion map of the data\n",
    "        if prior_embedding == \"diffusion map\":\n",
    "            P_graph_symmetrized = self.P_graph + self.P_graph.T\n",
    "            diff_map = diffusion_map_from_affinities(\n",
    "                P_graph_symmetrized, t=t_dmap, plot_evals=False\n",
    "            )\n",
    "            self.diff_coords = diff_map[:, :dmap_coords_to_use]\n",
    "            self.diff_coords = self.diff_coords.real\n",
    "            self.diff_coords = torch.tensor(self.diff_coords.copy()).float().to(device)\n",
    "            self.precomputed_distances = torch.cdist(self.diff_coords, self.diff_coords)\n",
    "            # scale distances between 0 and 1\n",
    "            self.precomputed_distances = 2 * (\n",
    "                self.precomputed_distances / torch.max(self.precomputed_distances)\n",
    "            )\n",
    "            self.precomputed_distances = (\n",
    "                self.precomputed_distances.detach()\n",
    "            )  # no need to have gradients from this operation\n",
    "        # Step 3: This returns a sparse representation of the flow neighborhoods, in the form of two tensors: row, col. The numbers in row specify the index, and the adjacent entries in col are the neighbors of that index.\n",
    "        if nbhd_strategy == \"flow neighbors\":\n",
    "            self.neighborhoods = flow_neighbors(self.n_nodes, self.P_graph, self.n_neighbors)\n",
    "    def neighbors_from_point(self, idx):\n",
    "        # Returns list of idxs of neighbors of the given idx\n",
    "        row, col = self.neighborhoods\n",
    "        idxs = torch.squeeze(torch.nonzero(row == idx))\n",
    "        return col[idxs]\n",
    "    def __len__(self):\n",
    "        return len(self.X)\n",
    "    def __getitem__(self, idx):\n",
    "        nbhd_idxs = self.neighbors_from_point(idx)\n",
    "        random_idxs = torch.tensor(np.random.choice(np.arange(self.n_nodes), size=(self.minibatch_size))).long()\n",
    "        minibatch_idxs = torch.concat([nbhd_idxs, random_idxs])\n",
    "        # Compute miniature diffusion matrix\n",
    "        A_batch = self.A[minibatch_idxs][:,minibatch_idxs]\n",
    "        P_batch = F.normalize(A_batch, p=1, dim=1)\n",
    "        # Get actual points\n",
    "        X_batch = X[minibatch_idxs]\n",
    "        # Embed these into a dictionary for easy cross reference\n",
    "        return_dict = {\n",
    "            \"P\":P_batch,\n",
    "            \"X\":X_batch,\n",
    "            \"num flow neighbors\":self.n_neighbors\n",
    "        }\n",
    "        return return_dict"
   ]
  },
  {
   "cell_type": "markdown",
   "metadata": {},
   "source": [
    "## Testing"
   ]
  },
  {
   "cell_type": "code",
   "execution_count": null,
   "metadata": {},
   "outputs": [],
   "source": [
    "from FRED.datasets import directed_swiss_roll_delayed\n",
    "X, flow, labels = directed_swiss_roll_delayed(num_nodes=1000)"
   ]
  },
  {
   "cell_type": "code",
   "execution_count": null,
   "metadata": {},
   "outputs": [
    {
     "name": "stdout",
     "output_type": "stream",
     "text": [
      "Set sigma =  2.3770845419489475\n"
     ]
    },
    {
     "data": {
      "image/png": "[encoded data removed]",
      "text/plain": [
       "<Figure size 432x288 with 1 Axes>"
      ]
     },
     "metadata": {
      "needs_background": "light"
     },
     "output_type": "display_data"
    }
   ],
   "source": [
    "ds = ManifoldWithVectorField(X, flow)"
   ]
  },
  {
   "cell_type": "code",
   "execution_count": null,
   "metadata": {},
   "outputs": [
    {
     "ename": "AttributeError",
     "evalue": "'ManifoldWithVectorField' object has no attribute 'nu'",
     "output_type": "error",
     "traceback": [
      "\u001b[0;31m---------------------------------------------------------------------------\u001b[0m",
      "\u001b[0;31mAttributeError\u001b[0m                            Traceback (most recent call last)",
      "\u001b[1;32m/Users/adjourner/Projects/FRED/02d Flow Datasets.ipynb Cell 9\u001b[0m in \u001b[0;36m<cell line: 1>\u001b[0;34m()\u001b[0m\n\u001b[0;32m----> <a href='vscode-notebook-cell:/Users/adjourner/Projects/FRED/02d%20Flow%20Datasets.ipynb#ch0000025?line=0'>1</a>\u001b[0m \u001b[39mfor\u001b[39;00m data \u001b[39min\u001b[39;00m ds:\n\u001b[1;32m      <a href='vscode-notebook-cell:/Users/adjourner/Projects/FRED/02d%20Flow%20Datasets.ipynb#ch0000025?line=1'>2</a>\u001b[0m     \u001b[39mprint\u001b[39m(data)\n",
      "\u001b[1;32m/Users/adjourner/Projects/FRED/02d Flow Datasets.ipynb Cell 9\u001b[0m in \u001b[0;36mManifoldWithVectorField.__getitem__\u001b[0;34m(self, idx)\u001b[0m\n\u001b[1;32m     <a href='vscode-notebook-cell:/Users/adjourner/Projects/FRED/02d%20Flow%20Datasets.ipynb#ch0000025?line=60'>61</a>\u001b[0m X_batch \u001b[39m=\u001b[39m X[minibatch_idxs]\n\u001b[1;32m     <a href='vscode-notebook-cell:/Users/adjourner/Projects/FRED/02d%20Flow%20Datasets.ipynb#ch0000025?line=61'>62</a>\u001b[0m \u001b[39m# Embed these into a dictionary for easy cross reference\u001b[39;00m\n\u001b[1;32m     <a href='vscode-notebook-cell:/Users/adjourner/Projects/FRED/02d%20Flow%20Datasets.ipynb#ch0000025?line=62'>63</a>\u001b[0m return_dict \u001b[39m=\u001b[39m {\n\u001b[1;32m     <a href='vscode-notebook-cell:/Users/adjourner/Projects/FRED/02d%20Flow%20Datasets.ipynb#ch0000025?line=63'>64</a>\u001b[0m     \u001b[39m\"\u001b[39m\u001b[39mP\u001b[39m\u001b[39m\"\u001b[39m:P_batch,\n\u001b[1;32m     <a href='vscode-notebook-cell:/Users/adjourner/Projects/FRED/02d%20Flow%20Datasets.ipynb#ch0000025?line=64'>65</a>\u001b[0m     \u001b[39m\"\u001b[39m\u001b[39mX\u001b[39m\u001b[39m\"\u001b[39m:X_batch,\n\u001b[0;32m---> <a href='vscode-notebook-cell:/Users/adjourner/Projects/FRED/02d%20Flow%20Datasets.ipynb#ch0000025?line=65'>66</a>\u001b[0m     \u001b[39m\"\u001b[39m\u001b[39mnum flow neighbors\u001b[39m\u001b[39m\"\u001b[39m:\u001b[39mself\u001b[39;49m\u001b[39m.\u001b[39;49mnu\n\u001b[1;32m     <a href='vscode-notebook-cell:/Users/adjourner/Projects/FRED/02d%20Flow%20Datasets.ipynb#ch0000025?line=66'>67</a>\u001b[0m }\n\u001b[1;32m     <a href='vscode-notebook-cell:/Users/adjourner/Projects/FRED/02d%20Flow%20Datasets.ipynb#ch0000025?line=67'>68</a>\u001b[0m \u001b[39mreturn\u001b[39;00m return_dict\n",
      "\u001b[0;31mAttributeError\u001b[0m: 'ManifoldWithVectorField' object has no attribute 'nu'"
     ]
    }
   ],
   "source": [
    "for data in ds:\n",
    "    print(data)"
   ]
  },
  {
   "cell_type": "code",
   "execution_count": null,
   "metadata": {},
   "outputs": [],
   "source": []
  }
 ],
 "metadata": {
  "kernelspec": {
   "display_name": "Python 3.9.13 ('pyg_from_source')",
   "language": "python",
   "name": "python3"
  }
 },
 "nbformat": 4,
 "nbformat_minor": 2
}
