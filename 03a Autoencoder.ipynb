{
 "cells": [
  {
   "cell_type": "markdown",
   "metadata": {},
   "source": [
    "# Autoencoder"
   ]
  },
  {
   "cell_type": "markdown",
   "metadata": {},
   "source": []
  },
  {
   "cell_type": "code",
   "execution_count": null,
   "metadata": {},
   "outputs": [],
   "source": [
    "# default_exp embed\n",
    "\n",
    "!nbdev_build_lib"
   ]
  },
  {
   "cell_type": "markdown",
   "metadata": {},
   "source": [
    "## Create Autoencoder Function"
   ]
  },
  {
   "cell_type": "code",
   "execution_count": 2,
   "metadata": {},
   "outputs": [],
   "source": [
    "# export\n",
    "\n",
    "import torch\n",
    "import torch.nn as nn\n",
    "from collections import OrderedDict\n",
    "\n",
    "def auto_encoder(enc_shape, device = torch.device('cpu')):\n",
    "    \n",
    "    # Function to create tailored encoder\n",
    "    \n",
    "    # todo, maybe? create autoencoder only given input and output dimensions\n",
    "    \"\"\"\n",
    "    if input_dim > output_dim:\n",
    "        raise Exception(\"Output dimension is greater than input dimension. Why embed? Mu.\")\n",
    "    \"\"\"\n",
    "    \n",
    "    enc = nn.Sequential()\n",
    "    \n",
    "    d_len = len(enc_shape)*2\n",
    "    d = OrderedDict()\n",
    "    d[str(0)] = nn.Linear(enc_shape[0], enc_shape[1])\n",
    "    for i in range(1,d_len-3):\n",
    "        if i%2 == 1:\n",
    "            d[str(i)] = nn.LeakyReLU()\n",
    "        else:\n",
    "            d[str(i)] = nn.Linear(enc_shape[int(i/2)], enc_shape[int(i/2)+1])\n",
    "    \n",
    "    # create MLP\n",
    "    enc = nn.Sequential(d).to(device) # d is an OrderedDictionary\n",
    "         \n",
    "    # decoder start\n",
    "    \n",
    "    enc_shape.reverse()\n",
    "    dec_shape = enc_shape\n",
    "    dec = nn.Sequential()\n",
    "\n",
    "    d_len = len(dec_shape)*2\n",
    "    d = OrderedDict()\n",
    "    d[str(0)] = nn.Linear(dec_shape[0], dec_shape[1])\n",
    "    for i in range(1,d_len-3):\n",
    "        if i%2 == 1:\n",
    "            d[str(i)] = nn.LeakyReLU()\n",
    "        else:\n",
    "            d[str(i)] = nn.Linear(dec_shape[int(i/2)], dec_shape[int(i/2)+1])\n",
    "    \n",
    "    # create MLP\n",
    "    dec = nn.Sequential(d).to(device) # d is an OrderedDictionary\n",
    "        \n",
    "    return enc, dec"
   ]
  },
  {
   "cell_type": "markdown",
   "metadata": {},
   "source": [
    "### Example of Creating Autoencoder"
   ]
  },
  {
   "cell_type": "code",
   "execution_count": 3,
   "metadata": {},
   "outputs": [],
   "source": [
    "encoder, decoder = auto_encoder(enc_shape = [3, 4, 8, 8, 4, 2])"
   ]
  },
  {
   "cell_type": "code",
   "execution_count": 4,
   "metadata": {},
   "outputs": [
    {
     "data": {
      "text/plain": [
       "Sequential(\n",
       "  (0): Linear(in_features=3, out_features=4, bias=True)\n",
       "  (1): LeakyReLU(negative_slope=0.01)\n",
       "  (2): Linear(in_features=4, out_features=8, bias=True)\n",
       "  (3): LeakyReLU(negative_slope=0.01)\n",
       "  (4): Linear(in_features=8, out_features=8, bias=True)\n",
       "  (5): LeakyReLU(negative_slope=0.01)\n",
       "  (6): Linear(in_features=8, out_features=4, bias=True)\n",
       "  (7): LeakyReLU(negative_slope=0.01)\n",
       "  (8): Linear(in_features=4, out_features=2, bias=True)\n",
       ")"
      ]
     },
     "execution_count": 4,
     "metadata": {},
     "output_type": "execute_result"
    }
   ],
   "source": [
    "encoder"
   ]
  },
  {
   "cell_type": "code",
   "execution_count": 5,
   "metadata": {},
   "outputs": [
    {
     "data": {
      "text/plain": [
       "Sequential(\n",
       "  (0): Linear(in_features=2, out_features=4, bias=True)\n",
       "  (1): LeakyReLU(negative_slope=0.01)\n",
       "  (2): Linear(in_features=4, out_features=8, bias=True)\n",
       "  (3): LeakyReLU(negative_slope=0.01)\n",
       "  (4): Linear(in_features=8, out_features=8, bias=True)\n",
       "  (5): LeakyReLU(negative_slope=0.01)\n",
       "  (6): Linear(in_features=8, out_features=4, bias=True)\n",
       "  (7): LeakyReLU(negative_slope=0.01)\n",
       "  (8): Linear(in_features=4, out_features=3, bias=True)\n",
       ")"
      ]
     },
     "execution_count": 5,
     "metadata": {},
     "output_type": "execute_result"
    }
   ],
   "source": [
    "decoder"
   ]
  },
  {
   "cell_type": "code",
   "execution_count": null,
   "metadata": {},
   "outputs": [],
   "source": []
  }
 ],
 "metadata": {
  "kernelspec": {
   "display_name": "Python 3 (ipykernel)",
   "language": "python",
   "name": "python3"
  },
  "language_info": {
   "codemirror_mode": {
    "name": "ipython",
    "version": 3
   },
   "file_extension": ".py",
   "mimetype": "text/x-python",
   "name": "python",
   "nbconvert_exporter": "python",
   "pygments_lexer": "ipython3",
   "version": "3.9.13"
  }
 },
 "nbformat": 4,
 "nbformat_minor": 2
}
