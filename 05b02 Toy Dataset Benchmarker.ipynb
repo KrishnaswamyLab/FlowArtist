{
 "cells": [
  {
   "cell_type": "code",
   "execution_count": null,
   "id": "3ecf4262-1715-43ae-a7c3-2c36ff734b9f",
   "metadata": {},
   "outputs": [
    {
     "name": "stdout",
     "output_type": "stream",
     "text": [
      "Using device cuda\n",
      "The autoreload extension is already loaded. To reload it, use:\n",
      "  %reload_ext autoreload\n"
     ]
    }
   ],
   "source": [
    "# default_exp testing_utils\n",
    "from nbdev.showdoc import *\n",
    "import numpy as np\n",
    "import matplotlib.pyplot as plt\n",
    "import torch\n",
    "import FRED\n",
    "if torch.__version__[:4] == '1.14': # If using pytorch with MPS, use Apple silicon GPU acceleration\n",
    "    device = torch.device(\"cuda\" if torch.cuda.is_available() else 'mps' if torch.has_mps else \"cpu\")\n",
    "else:\n",
    "    device = torch.device(\"cuda\" if torch.cuda.is_available() else \"cpu\")\n",
    "print(\"Using device\", device)\n",
    "%load_ext autoreload\n",
    "%autoreload 2"
   ]
  },
  {
   "cell_type": "markdown",
   "id": "d0dfc1fb-0ca5-464d-9473-fd93e685986a",
   "metadata": {},
   "source": [
    "# Comprehensive Toy Dataset Benchmarks on FRED"
   ]
  },
  {
   "cell_type": "markdown",
   "id": "fbaaeb0e-4e06-4aea-8d83-f46276d89242",
   "metadata": {},
   "source": [
    "Explanation: this notebook prepares a `papermill` powered test of the toy dataset benchmarker, using the noisy double helix as our protege.\n",
    "\n",
    "Here's what it does:\n",
    "1. Start with a dict of possible parameters, each contained in a list, like this:"
   ]
  },
  {
   "cell_type": "code",
   "execution_count": null,
   "id": "c71dc8a8",
   "metadata": {},
   "outputs": [],
   "source": [
    "name_of_test = \"IGNOMIOUS_MU\""
   ]
  },
  {
   "cell_type": "code",
   "execution_count": null,
   "id": "728847c6-2328-4fab-b432-ffc495fe03d7",
   "metadata": {},
   "outputs": [],
   "source": [
    "import papermill as pm"
   ]
  },
  {
   "cell_type": "code",
   "execution_count": null,
   "id": "178875ee-005d-4311-9501-b5e85410d5de",
   "metadata": {},
   "outputs": [],
   "source": [
    "parameters_dict = {\n",
    "    'notebook' : ['05b Toy Dataset Benchmarker.ipynb'], # the notebook we are inserting these parameters into\n",
    "    'dataset_name' : ['noisy double helix','double helix', 'branch', 'circle', 'spiral', 'swiss roll'],\n",
    "    'sigma' : ['automatic'],\n",
    "    'flow_strength' : [5],\n",
    "    'smoothness_weight' : [0],\n",
    "    'flow_neighbor_loss_weight' : [10],\n",
    "    \"contrastive_flow_loss_weight\" : [0,20],\n",
    "    'diffdist_weight' : [10],\n",
    "    'num_neighbors' : [5],\n",
    "    \"diffusion_map_dimension\": [3],\n",
    "    \"run_number\" : [1,2,3]\n",
    "}"
   ]
  },
  {
   "cell_type": "markdown",
   "id": "8f2aa32a-72da-4866-a320-daf90654cb1c",
   "metadata": {},
   "source": [
    "2. Use this function to create a JSON file with a dictionary for each possible combination of these parameters."
   ]
  },
  {
   "cell_type": "code",
   "execution_count": null,
   "id": "3be095a3-3abd-4c14-a51b-2970455054b2",
   "metadata": {},
   "outputs": [
    {
     "name": "stdout",
     "output_type": "stream",
     "text": [
      "Created 36 test scenarios.\n"
     ]
    }
   ],
   "source": [
    "from FRED.testing_utils import parameters_list_from_dict\n",
    "parameters_list_from_dict(parameters_dict, f'{name_of_test}.txt', filetype='dsq')"
   ]
  },
  {
   "cell_type": "markdown",
   "id": "58c7b9ac-5113-4db3-8619-cfe4273d28e3",
   "metadata": {},
   "source": [
    "3. Run the `nb_batch_run.py` python file, with the above json file specified as an argument. "
   ]
  },
  {
   "cell_type": "code",
   "execution_count": null,
   "id": "7cfae12f-bb75-47fe-9862-c33288adbc16",
   "metadata": {},
   "outputs": [
    {
     "name": "stdout",
     "output_type": "stream",
     "text": [
      "^C\n"
     ]
    }
   ],
   "source": [
    "!python run_nb_batch.py --config_file noisy_double_helix_benchmark.json --run_mode parallel"
   ]
  },
  {
   "cell_type": "code",
   "execution_count": null,
   "id": "399f3ff5-24e4-4bae-bc51-cc064e221a61",
   "metadata": {},
   "outputs": [],
   "source": []
  }
 ],
 "metadata": {
  "kernelspec": {
   "display_name": "Python 3 (ipykernel)",
   "language": "python",
   "name": "python3"
  }
 },
 "nbformat": 4,
 "nbformat_minor": 5
}
