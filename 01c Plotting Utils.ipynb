{
 "cells": [
  {
   "cell_type": "markdown",
   "metadata": {},
   "source": [
    "# 01c Plotting Utils\n",
    "> Handy functions for visualizing our datasets, complete with the vector fields we assign to them. Mostly builds off of matplotlib, with nicer syntax for using `.quiver`."
   ]
  },
  {
   "cell_type": "code",
   "execution_count": null,
   "metadata": {},
   "outputs": [
    {
     "name": "stdout",
     "output_type": "stream",
     "text": [
      "The autoreload extension is already loaded. To reload it, use:\n",
      "  %reload_ext autoreload\n"
     ]
    }
   ],
   "source": [
    "# default_exp datasets\n",
    "# hide\n",
    "from nbdev.showdoc import *\n",
    "import numpy as np\n",
    "import matplotlib.pyplot as plt\n",
    "import torch\n",
    "import FlowNet\n",
    "device = torch.device(\"cuda\" if torch.cuda.is_available() else \"cpu\")\n",
    "%load_ext autoreload\n",
    "%autoreload 2"
   ]
  },
  {
   "cell_type": "markdown",
   "metadata": {},
   "source": [
    "# Pointset Plotting"
   ]
  },
  {
   "cell_type": "markdown",
   "metadata": {},
   "source": [
    "Functions to visualize pointsets and manifolds with flow."
   ]
  },
  {
   "cell_type": "code",
   "execution_count": null,
   "metadata": {},
   "outputs": [],
   "source": [
    "# export\n",
    "import matplotlib.pyplot as plt\n",
    "\n",
    "\n",
    "def plot_directed_2d(X, flows, labels, mask_prob=0.5, cmap=\"viridis\"):\n",
    "    num_nodes = X.shape[0]\n",
    "    fig = plt.figure()\n",
    "    ax = fig.add_subplot()\n",
    "    ax.scatter(X[:, 0], X[:, 1], marker=\".\", c=labels, cmap=cmap)\n",
    "    mask = np.random.rand(num_nodes) > mask_prob\n",
    "    ax.quiver(X[mask, 0], X[mask, 1], flows[mask, 0], flows[mask, 1], alpha=0.1)\n",
    "    ax.set_aspect(\"equal\")\n",
    "    plt.show()\n"
   ]
  },
  {
   "cell_type": "code",
   "execution_count": null,
   "metadata": {},
   "outputs": [],
   "source": [
    "# export\n",
    "def plot_origin_3d(ax, xlim, ylim, zlim):\n",
    "    ax.plot(xlim, [0, 0], [0, 0], color=\"k\", alpha=0.5)\n",
    "    ax.plot([0, 0], ylim, [0, 0], color=\"k\", alpha=0.5)\n",
    "    ax.plot([0, 0], [0, 0], zlim, color=\"k\", alpha=0.5)\n",
    "\n",
    "\n",
    "def plot_directed_3d(X, flow, labels, mask_prob=0.5, cmap=\"viridis\", origin=False):\n",
    "    num_nodes = X.shape[0]\n",
    "    mask = np.random.rand(num_nodes) > mask_prob\n",
    "    fig = plt.figure()\n",
    "    ax = fig.add_subplot(projection=\"3d\")\n",
    "    if origin:\n",
    "        plot_origin_3d(\n",
    "            ax,\n",
    "            xlim=[X[:, 0].min(), X[:, 0].max()],\n",
    "            ylim=[X[:, 1].min(), X[:, 1].max()],\n",
    "            zlim=[X[:, 2].min(), X[:, 2].max()],\n",
    "        )\n",
    "    ax.scatter(X[:, 0], X[:, 1], X[:, 2], marker=\".\", c=labels, cmap=cmap)\n",
    "    ax.quiver(\n",
    "        X[mask, 0],\n",
    "        X[mask, 1],\n",
    "        X[mask, 2],\n",
    "        flow[mask, 0],\n",
    "        flow[mask, 1],\n",
    "        flow[mask, 2],\n",
    "        alpha=0.1,\n",
    "        length=0.5,\n",
    "    )\n",
    "    plt.show()\n"
   ]
  },
  {
   "cell_type": "markdown",
   "metadata": {},
   "source": [
    "For general 3d manifolds (like diffusion maps), this `plot_3d` function is handy."
   ]
  },
  {
   "cell_type": "code",
   "execution_count": null,
   "metadata": {},
   "outputs": [],
   "source": [
    "# export\n",
    "# For plotting 2D and 3D graphs\n",
    "import plotly.express as px\n",
    "import pandas as pd\n",
    "import numpy as np\n",
    "import matplotlib.pyplot as plt\n",
    "\n",
    "\n",
    "def plot_3d(\n",
    "    X,\n",
    "    distribution=None,\n",
    "    title=\"\",\n",
    "    lim=None,\n",
    "    use_plotly=False,\n",
    "    colorbar=False,\n",
    "    cmap=\"viridis\",\n",
    "):\n",
    "    if distribution is None:\n",
    "        distribution = np.zeros(len(X))\n",
    "    if lim is None:\n",
    "        lim = np.max(np.linalg.norm(X, axis=1))\n",
    "    if use_plotly:\n",
    "        d = {\"x\": X[:, 0], \"y\": X[:, 1], \"z\": X[:, 2], \"colors\": distribution}\n",
    "        df = pd.DataFrame(data=d)\n",
    "        fig = px.scatter_3d(\n",
    "            df,\n",
    "            x=\"x\",\n",
    "            y=\"y\",\n",
    "            z=\"z\",\n",
    "            color=\"colors\",\n",
    "            title=title,\n",
    "            range_x=[-lim, lim],\n",
    "            range_y=[-lim, lim],\n",
    "            range_z=[-lim, lim],\n",
    "        )\n",
    "        fig.show()\n",
    "    else:\n",
    "        fig = plt.figure(figsize=(10, 10))\n",
    "        ax = fig.add_subplot(111, projection=\"3d\")\n",
    "        ax.axes.set_xlim3d(left=-lim, right=lim)\n",
    "        ax.axes.set_ylim3d(bottom=-lim, top=lim)\n",
    "        ax.axes.set_zlim3d(bottom=-lim, top=lim)\n",
    "        im = ax.scatter(X[:, 0], X[:, 1], X[:, 2], c=distribution, cmap=cmap)\n",
    "        ax.set_title(title)\n",
    "        if colorbar:\n",
    "            fig.colorbar(im, ax=ax)\n",
    "        plt.show()\n"
   ]
  },
  {
   "cell_type": "markdown",
   "metadata": {},
   "source": [
    "# Graph Plotting\n",
    "\n",
    "Functions to visualize (small) graphs, directed and undirected."
   ]
  },
  {
   "cell_type": "code",
   "execution_count": null,
   "metadata": {},
   "outputs": [],
   "source": [
    "# export\n",
    "import matplotlib.pyplot as plt\n",
    "import networkx as nx\n",
    "from torch_geometric.utils import to_networkx\n",
    "\n",
    "\n",
    "def visualize_graph(data):\n",
    "    G = to_networkx(data, to_undirected=False)\n",
    "    nx.draw_networkx(\n",
    "        G, pos=nx.spring_layout(G, seed=42), arrowsize=20, node_color=\"#adade0\"\n",
    "    )\n",
    "    plt.show()\n"
   ]
  },
  {
   "cell_type": "code",
   "execution_count": null,
   "metadata": {},
   "outputs": [],
   "source": [
    "# export\n",
    "import torch\n",
    "import matplotlib.pyplot as plt\n",
    "from torch_geometric.utils import to_dense_adj\n",
    "\n",
    "\n",
    "def visualize_heatmap(edge_index, order_ind=None):\n",
    "    dense_adj = to_dense_adj(edge_index)[0]\n",
    "    if order_ind is not None:\n",
    "        dense_adj = dense_adj[order_ind, :][:, order_ind]\n",
    "    plt.imshow(dense_adj, cmap=\"copper\")\n",
    "    plt.show()\n"
   ]
  },
  {
   "cell_type": "code",
   "execution_count": null,
   "metadata": {},
   "outputs": [],
   "source": []
  }
 ],
 "metadata": {
  "kernelspec": {
   "display_name": "Python 3 (ipykernel)",
   "language": "python",
   "name": "python3"
  }
 },
 "nbformat": 4,
 "nbformat_minor": 2
}
