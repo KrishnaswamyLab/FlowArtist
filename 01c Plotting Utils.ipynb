{
 "cells": [
  {
   "cell_type": "markdown",
   "metadata": {},
   "source": [
    "# 01c Plotting Utils\n",
    "> Handy functions for visualizing our datasets, complete with the vector fields we assign to them. Mostly builds off of matplotlib, with nicer syntax for using `.quiver`."
   ]
  },
  {
   "cell_type": "code",
   "execution_count": null,
   "metadata": {},
   "outputs": [
    {
     "name": "stdout",
     "output_type": "stream",
     "text": [
      "The autoreload extension is already loaded. To reload it, use:\n",
      "  %reload_ext autoreload\n"
     ]
    }
   ],
   "source": [
    "# default_exp datasets\n",
    "# hide\n",
    "from nbdev.showdoc import *\n",
    "import numpy as np\n",
    "import matplotlib.pyplot as plt\n",
    "%load_ext autoreload\n",
    "%autoreload 2"
   ]
  },
  {
   "cell_type": "markdown",
   "metadata": {},
   "source": [
    "# Pointset Plotting"
   ]
  },
  {
   "cell_type": "markdown",
   "metadata": {},
   "source": [
    "Functions to visualize pointsets and manifolds with flow."
   ]
  },
  {
   "cell_type": "code",
   "execution_count": null,
   "metadata": {},
   "outputs": [],
   "source": [
    "# export\n",
    "import matplotlib.pyplot as plt\n",
    "\n",
    "\n",
    "def plot_directed_2d(X, flows, labels=None, mask_prob=0.5, cmap=\"viridis\", ax=None):\n",
    "    num_nodes = X.shape[0]\n",
    "    alpha_points, alpha_arrows = (0.1, 1) if labels is None else (1, 0.1)\n",
    "    if ax is None:\n",
    "        fig = plt.figure()\n",
    "        ax = fig.add_subplot()\n",
    "    ax.scatter(X[:, 0], X[:, 1], marker=\".\", c=labels, cmap=cmap, alpha=alpha_points)\n",
    "    mask = np.random.rand(num_nodes) > mask_prob\n",
    "    ax.quiver(X[mask, 0], X[mask, 1], flows[mask, 0], flows[mask, 1], alpha=alpha_arrows)\n",
    "    ax.set_aspect(\"equal\")\n",
    "    if ax is None:\n",
    "        plt.show()\n"
   ]
  },
  {
   "cell_type": "code",
   "execution_count": null,
   "metadata": {},
   "outputs": [],
   "source": [
    "# export\n",
    "def plot_origin_3d(ax, xlim, ylim, zlim):\n",
    "    ax.plot(xlim, [0, 0], [0, 0], color=\"k\", alpha=0.5)\n",
    "    ax.plot([0, 0], ylim, [0, 0], color=\"k\", alpha=0.5)\n",
    "    ax.plot([0, 0], [0, 0], zlim, color=\"k\", alpha=0.5)\n",
    "\n",
    "\n",
    "def plot_directed_3d(X, flow, labels=None, mask_prob=0.5, cmap=\"viridis\", origin=False, ax=None):\n",
    "    num_nodes = X.shape[0]\n",
    "    alpha_points, alpha_arrows = (0.1, 1) if labels is None else (1, 0.1)\n",
    "    mask = np.random.rand(num_nodes) > mask_prob\n",
    "    if ax is None:\n",
    "        fig = plt.figure()\n",
    "        ax = fig.add_subplot(projection=\"3d\")\n",
    "    if origin:\n",
    "        plot_origin_3d(\n",
    "            ax,\n",
    "            xlim=[X[:, 0].min(), X[:, 0].max()],\n",
    "            ylim=[X[:, 1].min(), X[:, 1].max()],\n",
    "            zlim=[X[:, 2].min(), X[:, 2].max()],\n",
    "        )\n",
    "    ax.scatter(X[:, 0], X[:, 1], X[:, 2], marker=\".\", c=labels, cmap=cmap, alpha=alpha_points)\n",
    "    ax.quiver(\n",
    "        X[mask, 0],\n",
    "        X[mask, 1],\n",
    "        X[mask, 2],\n",
    "        flow[mask, 0],\n",
    "        flow[mask, 1],\n",
    "        flow[mask, 2],\n",
    "        alpha=alpha_arrows,\n",
    "        length=0.5,\n",
    "    )\n",
    "    if ax is None:\n",
    "        plt.show()\n"
   ]
  },
  {
   "cell_type": "markdown",
   "metadata": {},
   "source": [
    "For general 3d manifolds (like diffusion maps), this `plot_3d` function is handy."
   ]
  },
  {
   "cell_type": "code",
   "execution_count": null,
   "metadata": {},
   "outputs": [],
   "source": [
    "# export\n",
    "# For plotting 2D and 3D graphs\n",
    "import plotly.express as px\n",
    "import pandas as pd\n",
    "import numpy as np\n",
    "import matplotlib.pyplot as plt\n",
    "\n",
    "\n",
    "def plot_3d(\n",
    "    X,\n",
    "    distribution=None,\n",
    "    title=\"\",\n",
    "    lim=None,\n",
    "    use_plotly=False,\n",
    "    colorbar=False,\n",
    "    cmap=\"viridis\",\n",
    "):\n",
    "    if distribution is None:\n",
    "        distribution = np.zeros(len(X))\n",
    "    if lim is None:\n",
    "        lim = np.max(np.linalg.norm(X, axis=1))\n",
    "    if use_plotly:\n",
    "        d = {\"x\": X[:, 0], \"y\": X[:, 1], \"z\": X[:, 2], \"colors\": distribution}\n",
    "        df = pd.DataFrame(data=d)\n",
    "        fig = px.scatter_3d(\n",
    "            df,\n",
    "            x=\"x\",\n",
    "            y=\"y\",\n",
    "            z=\"z\",\n",
    "            color=\"colors\",\n",
    "            title=title,\n",
    "            range_x=[-lim, lim],\n",
    "            range_y=[-lim, lim],\n",
    "            range_z=[-lim, lim],\n",
    "        )\n",
    "        fig.show()\n",
    "    else:\n",
    "        fig = plt.figure(figsize=(10, 10))\n",
    "        ax = fig.add_subplot(111, projection=\"3d\")\n",
    "        ax.axes.set_xlim3d(left=-lim, right=lim)\n",
    "        ax.axes.set_ylim3d(bottom=-lim, top=lim)\n",
    "        ax.axes.set_zlim3d(bottom=-lim, top=lim)\n",
    "        im = ax.scatter(X[:, 0], X[:, 1], X[:, 2], c=distribution, cmap=cmap)\n",
    "        ax.set_title(title)\n",
    "        if colorbar:\n",
    "            fig.colorbar(im, ax=ax)\n",
    "        plt.show()\n"
   ]
  },
  {
   "cell_type": "markdown",
   "metadata": {},
   "source": [
    "# Graph Plotting\n",
    "\n",
    "Functions to visualize (small) graphs, directed and undirected."
   ]
  },
  {
   "cell_type": "code",
   "execution_count": null,
   "metadata": {},
   "outputs": [],
   "source": [
    "# export graph_datasets\n",
    "import matplotlib.pyplot as plt\n",
    "import networkx as nx\n",
    "from torch_geometric.utils import to_networkx\n",
    "\n",
    "\n",
    "def visualize_graph(data, is_networkx=False, to_undirected=False, ax=None):\n",
    "    G = data if is_networkx else to_networkx(data, to_undirected=to_undirected)\n",
    "    pos = nx.spring_layout(G, seed=42)\n",
    "    if ax is None:\n",
    "        nx.draw_networkx(\n",
    "            G, pos=pos, arrowsize=20, node_color=\"#adade0\"\n",
    "        )\n",
    "        plt.show()\n",
    "    else:\n",
    "        nx.draw_networkx(\n",
    "            G, pos=pos, arrowsize=20, node_color=\"#adade0\", ax=ax\n",
    "        )\n"
   ]
  },
  {
   "cell_type": "code",
   "execution_count": null,
   "metadata": {},
   "outputs": [],
   "source": [
    "# export graph_datasets\n",
    "import torch\n",
    "import matplotlib.pyplot as plt\n",
    "from torch_geometric.utils import to_dense_adj\n",
    "\n",
    "\n",
    "def visualize_heatmap(edge_index, order_ind=None, cmap = \"copper\", ax=None):\n",
    "    dense_adj = to_dense_adj(edge_index)[0]\n",
    "    if order_ind is not None:\n",
    "        dense_adj = dense_adj[order_ind, :][:, order_ind]\n",
    "    if ax is not None:\n",
    "        ax.imshow(dense_adj, cmap=cmap)\n",
    "    else:\n",
    "        plt.imshow(dense_adj, cmap=cmap)\n",
    "        plt.show()\n"
   ]
  },
  {
   "cell_type": "markdown",
   "metadata": {},
   "source": [
    "We also make a version of `visualize_heatmap` that doesn't rely on torch geometric."
   ]
  },
  {
   "cell_type": "code",
   "execution_count": null,
   "metadata": {},
   "outputs": [],
   "source": [
    "# export\n",
    "def visualize_edge_index(edge_index, order_ind=None, cmap = \"copper\", ax=None):\n",
    "    num_nodes = edge_index.max() + 1\n",
    "    row, col = edge_index\n",
    "    dense_adj = np.zeros((num_nodes, num_nodes))\n",
    "    for r, c in zip(row, col):\n",
    "        dense_adj[r,c] = 1\n",
    "    if order_ind is not None:\n",
    "        dense_adj = dense_adj[order_ind, :][:, order_ind]\n",
    "    if ax is not None:\n",
    "        ax.imshow(dense_adj, cmap=cmap)\n",
    "    else:\n",
    "        plt.imshow(dense_adj, cmap=cmap)\n",
    "        plt.show()"
   ]
  },
  {
   "cell_type": "markdown",
   "metadata": {},
   "source": [
    "## Galary display\n",
    "\n",
    "The following function takes a list of data generating functions and plot all of them to display a galary of datasets."
   ]
  },
  {
   "cell_type": "code",
   "execution_count": null,
   "metadata": {},
   "outputs": [],
   "source": [
    "# export\n",
    "import matplotlib.pyplot as plt\n",
    "\n",
    "def display_galary(vizset, ncol=4):\n",
    "    nviz = len(vizset)\n",
    "    nrow = int(np.ceil(nviz/ncol))\n",
    "    fig = plt.figure(figsize=(4*ncol, 3*nrow))\n",
    "    for i, viz in enumerate(vizset):\n",
    "        name, data, vizcall, is3d = viz\n",
    "        ax = fig.add_subplot(nrow, ncol, i+1, projection=\"3d\" if is3d else None)\n",
    "        vizcall(data, ax)\n",
    "        ax.set_title(name, y=1.0)"
   ]
  },
  {
   "cell_type": "code",
   "execution_count": null,
   "metadata": {},
   "outputs": [],
   "source": [
    "# export\n",
    "def display_flow_galary(dataset, ncol=4):\n",
    "    vizset = []\n",
    "    for name, data in dataset:\n",
    "        vizset.append((name, data, lambda data, ax: plot_directed_3d(\n",
    "            data[0], data[1], data[2], mask_prob=0.5, ax=ax\n",
    "        ), True))\n",
    "    display_galary(vizset, ncol)"
   ]
  },
  {
   "cell_type": "code",
   "execution_count": null,
   "metadata": {},
   "outputs": [],
   "source": [
    "# export graph_datasets\n",
    "from FRED.datasets import display_galary\n",
    "import torch\n",
    "def display_heatmap_galary(dataset, ncol=4):\n",
    "    vizset = []\n",
    "    for name, data in dataset:\n",
    "        vizset.append((name, data, lambda data, ax: visualize_heatmap(\n",
    "            data.edge_index, \n",
    "            order_ind=None if data.y is None else torch.argsort(data.y[:,-1]), \n",
    "            ax=ax\n",
    "        ), False))\n",
    "    display_galary(vizset, ncol)"
   ]
  },
  {
   "cell_type": "code",
   "execution_count": null,
   "metadata": {},
   "outputs": [],
   "source": [
    "# export graph_datasets\n",
    "def display_graph_galary(dataset, ncol=4):\n",
    "    vizset = []\n",
    "    for name, data in dataset:\n",
    "        vizset.append((name, lambda ax: visualize_graph(data, ax=ax), False))\n",
    "    display_galary(vizset, ncol)"
   ]
  }
 ],
 "metadata": {
  "kernelspec": {
   "display_name": "Python 3.10.4 ('sumry-directed-graphs')",
   "language": "python",
   "name": "python3"
  }
 },
 "nbformat": 4,
 "nbformat_minor": 2
}
