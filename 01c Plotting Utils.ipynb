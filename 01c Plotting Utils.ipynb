{
 "cells": [
  {
   "cell_type": "markdown",
   "metadata": {},
   "source": [
    "# 01c Plotting Utils\n",
    "> Handy functions for visualizing our datasets, complete with the vector fields we assign to them. Mostly builds off of matplotlib, with nicer syntax for using `.quiver`."
   ]
  },
  {
   "cell_type": "code",
   "execution_count": 2,
   "metadata": {},
   "outputs": [],
   "source": [
    "# default_exp datasets\n",
    "from nbdev.showdoc import *\n",
    "import numpy as np\n",
    "import matplotlib.pyplot as plt\n",
    "import torch\n",
    "import FlowNet\n",
    "device = torch.device(\"cuda\" if torch.cuda.is_available() else \"cpu\")\n",
    "%load_ext autoreload\n",
    "%autoreload 2"
   ]
  },
  {
   "cell_type": "code",
   "execution_count": 4,
   "metadata": {},
   "outputs": [],
   "source": [
    "# export\n",
    "import matplotlib.pyplot as plt\n",
    "def plot_directed_2d(X, flows, labels, mask_prob=0.5, cmap=\"viridis\"):\n",
    "  num_nodes = X.shape[0]\n",
    "  fig = plt.figure()\n",
    "  ax = fig.add_subplot()\n",
    "  ax.scatter(X[:,0], X[:,1], marker=\".\", c=labels, cmap=cmap)\n",
    "  mask = np.random.rand(num_nodes) > mask_prob\n",
    "  ax.quiver(X[mask,0], X[mask,1], flows[mask,0], flows[mask,1], alpha=0.1)\n",
    "  ax.set_aspect(\"equal\")\n",
    "  plt.show()"
   ]
  },
  {
   "cell_type": "code",
   "execution_count": 5,
   "metadata": {},
   "outputs": [],
   "source": [
    "# export\n",
    "def plot_origin_3d(ax, xlim, ylim, zlim):\n",
    "  ax.plot(xlim,[0,0],[0,0], color=\"k\", alpha=0.5)\n",
    "  ax.plot([0,0],ylim,[0,0], color=\"k\", alpha=0.5)\n",
    "  ax.plot([0,0],[0,0],zlim, color=\"k\", alpha=0.5)\n",
    "\n",
    "def plot_directed_3d(X, flow, labels, mask_prob=0.5, cmap=\"virdis\", origin=False):\n",
    "  num_nodes = X.shape[0]\n",
    "  mask = np.random.rand(num_nodes) > mask_prob\n",
    "  fig = plt.figure()\n",
    "  ax = fig.add_subplot(projection=\"3d\")\n",
    "  if origin:\n",
    "    plot_origin_3d(ax, xlim=[X[:,0].min(),X[:,0].max()], ylim=[X[:,1].min(),X[:,1].max()], zlim=[X[:,2].min(),X[:,2].max()])\n",
    "  ax.scatter(X[:,0], X[:,1], X[:,2], marker=\".\", c=labels, cmap=cmap)\n",
    "  ax.quiver(X[mask,0], X[mask,1], X[mask,2], flow[mask,0], flow[mask,1], flow[mask,2], alpha=0.1, length=0.5)\n",
    "  plt.show()"
   ]
  },
  {
   "cell_type": "markdown",
   "metadata": {},
   "source": [
    "For general 3d manifolds (like diffusion maps), this `plot_3d` function is handy."
   ]
  },
  {
   "cell_type": "code",
   "execution_count": null,
   "metadata": {},
   "outputs": [],
   "source": [
    "#export\n",
    "# For plotting 2D and 3D graphs\n",
    "import plotly.express as px\n",
    "import pandas as pd\n",
    "import numpy as np\n",
    "import matplotlib.pyplot as plt\n",
    "\n",
    "def plot_3d(X,distribution=None, title=\"\",lim=None,use_plotly=False,colorbar = False, cmap=\"viridis\"):\n",
    "    if distribution is None:\n",
    "        distribution = np.zeros(len(X))\n",
    "    if lim is None:\n",
    "        lim = np.max(np.linalg.norm(X,axis=1))\n",
    "    if use_plotly:\n",
    "        d = {'x':X[:,0],'y':X[:,1],'z':X[:,2],'colors':distribution}\n",
    "        df = pd.DataFrame(data=d)\n",
    "        fig = px.scatter_3d(df, x='x',y='y',z='z',color='colors', title=title, range_x=[-lim,lim], range_y=[-lim,lim],range_z=[-lim,lim])\n",
    "        fig.show()\n",
    "    else:\n",
    "        fig = plt.figure(figsize=(10,10))\n",
    "        ax = fig.add_subplot(111,projection='3d')\n",
    "        ax.axes.set_xlim3d(left=-lim, right=lim)\n",
    "        ax.axes.set_ylim3d(bottom=-lim, top=lim)\n",
    "        ax.axes.set_zlim3d(bottom=-lim, top=lim)\n",
    "        im = ax.scatter(X[:,0],X[:,1],X[:,2],c=distribution,cmap=cmap)\n",
    "        ax.set_title(title)\n",
    "        if colorbar: fig.colorbar(im, ax=ax)\n",
    "        plt.show()"
   ]
  }
 ],
 "metadata": {
  "kernelspec": {
   "display_name": "Python 3.9.13 ('pyg_from_source')",
   "language": "python",
   "name": "python3"
  },
  "language_info": {
   "codemirror_mode": {
    "name": "ipython",
    "version": 3
   },
   "file_extension": ".py",
   "mimetype": "text/x-python",
   "name": "python",
   "nbconvert_exporter": "python",
   "pygments_lexer": "ipython3",
   "version": "3.9.13"
  },
  "orig_nbformat": 4,
  "vscode": {
   "interpreter": {
    "hash": "c6ea889a79d04ae11c3321f85d882527bc3513ce7270df83ac3996bcf1545016"
   }
  }
 },
 "nbformat": 4,
 "nbformat_minor": 2
}
