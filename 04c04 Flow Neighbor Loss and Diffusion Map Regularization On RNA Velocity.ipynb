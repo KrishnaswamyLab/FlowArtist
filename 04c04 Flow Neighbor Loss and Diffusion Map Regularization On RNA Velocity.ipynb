{
 "cells": [
  {
   "cell_type": "code",
   "execution_count": null,
   "id": "50e305fc",
   "metadata": {},
   "outputs": [
    {
     "ename": "",
     "evalue": "",
     "output_type": "error",
     "traceback": [
      "\u001b[1;31mFailed to start the Kernel. \n",
      "Command \"python setup.py egg_info\" failed with error code 1 in /tmp/pip-build-edg2tsdz/argon2-cffi-bindings/. \n",
      "View Jupyter <a href='command:jupyter.viewOutput'>log</a> for further details."
     ]
    }
   ],
   "source": [
    "# default_exp trainers\n",
    "from nbdev.showdoc import *\n",
    "import numpy as np\n",
    "import matplotlib.pyplot as plt\n",
    "import torch\n",
    "import FRED\n",
    "from FRED.trainers import *\n",
    "from FRED.trainers import Trainer\n",
    "device = torch.device(\"cuda\" if torch.cuda.is_available() else \"cpu\")\n",
    "print(\"Using device\", device)\n",
    "%load_ext autoreload\n",
    "%autoreload 2"
   ]
  },
  {
   "cell_type": "markdown",
   "id": "2c83c04a",
   "metadata": {},
   "source": [
    "# 04c01 Trainer: Flow Neighbor Loss and Diffusion Map Regularization\n",
    "> A copy of FRED, tailored with particular loss functions"
   ]
  },
  {
   "cell_type": "code",
   "execution_count": null,
   "id": "40eec025",
   "metadata": {},
   "outputs": [
    {
     "ename": "",
     "evalue": "",
     "output_type": "error",
     "traceback": [
      "\u001b[1;31mFailed to start the Kernel. \n",
      "Command \"python setup.py egg_info\" failed with error code 1 in /tmp/pip-build-edg2tsdz/argon2-cffi-bindings/. \n",
      "View Jupyter <a href='command:jupyter.viewOutput'>log</a> for further details."
     ]
    }
   ],
   "source": [
    "# initialize model parameters and layers\n",
    "from FRED.embed import ManifoldFlowEmbedder\n",
    "from FRED.trainers import save_embedding_visualization, visualize_points\n",
    "title = \"Flow Neighbor Loss + Diffusion Map Reg\"\n",
    "MFE = ManifoldFlowEmbedder(\n",
    "            embedding_dimension=2,\n",
    "            embedder_shape=[3, 4, 8, 4, 2],\n",
    "            device=device,\n",
    "            sigma=0.5,\n",
    "            flow_strength=0.5,\n",
    "            smoothness_grid=True,\n",
    "        )\n",
    "loss_weights = {\n",
    "            \"reconstruction\": 1,\n",
    "            \"diffusion map regularization\": 1,\n",
    "            \"kld\": 0,\n",
    "            \"smoothness\": 0,\n",
    "            \"flow neighbor loss\": 1,\n",
    "        }\n",
    "visualization_functions = [\n",
    "    save_embedding_visualization,\n",
    "    visualize_points\n",
    "]\n",
    "FREDtrainer = Trainer(FE = MFE, loss_weights=loss_weights, visualization_functions = visualization_functions, device=device, title = title)"
   ]
  },
  {
   "cell_type": "markdown",
   "id": "c827be65",
   "metadata": {},
   "source": [
    "# Testing on the Circle"
   ]
  },
  {
   "cell_type": "code",
   "execution_count": null,
   "id": "939ad7f4",
   "metadata": {},
   "outputs": [
    {
     "ename": "",
     "evalue": "",
     "output_type": "error",
     "traceback": [
      "\u001b[1;31mFailed to start the Kernel. \n",
      "Command \"python setup.py egg_info\" failed with error code 1 in /tmp/pip-build-edg2tsdz/argon2-cffi-bindings/. \n",
      "View Jupyter <a href='command:jupyter.viewOutput'>log</a> for further details."
     ]
    }
   ],
   "source": [
    "from FRED.datasets import directed_circle\n",
    "from FRED.data_processing import dataloader_from_ndarray, ManifoldWithVectorField\n",
    "from torch.utils.data import DataLoader\n",
    "X, flow, labels = directed_circle(num_nodes=2000)\n",
    "# build dataset\n",
    "ds = ManifoldWithVectorField(X, flow, labels, sigma=\"automatic\", dmap_coords_to_use=2, nbhd_strategy=\"flow neighbors\", n_neighbors=10)\n",
    "dataloader = DataLoader(ds, batch_size=None, shuffle=True)"
   ]
  },
  {
   "cell_type": "code",
   "execution_count": null,
   "id": "b56bfb3f",
   "metadata": {},
   "outputs": [
    {
     "ename": "",
     "evalue": "",
     "output_type": "error",
     "traceback": [
      "\u001b[1;31mFailed to start the Kernel. \n",
      "Command \"python setup.py egg_info\" failed with error code 1 in /tmp/pip-build-edg2tsdz/argon2-cffi-bindings/. \n",
      "View Jupyter <a href='command:jupyter.viewOutput'>log</a> for further details."
     ]
    }
   ],
   "source": [
    "FREDtrainer.fit(dataloader, n_epochs = 10)"
   ]
  },
  {
   "cell_type": "code",
   "execution_count": null,
   "id": "3ba3087a",
   "metadata": {},
   "outputs": [
    {
     "ename": "",
     "evalue": "",
     "output_type": "error",
     "traceback": [
      "\u001b[1;31mFailed to start the Kernel. \n",
      "Command \"python setup.py egg_info\" failed with error code 1 in /tmp/pip-build-edg2tsdz/argon2-cffi-bindings/. \n",
      "View Jupyter <a href='command:jupyter.viewOutput'>log</a> for further details."
     ]
    }
   ],
   "source": [
    "FREDtrainer.visualize_loss()"
   ]
  },
  {
   "cell_type": "code",
   "execution_count": null,
   "id": "02e22471",
   "metadata": {},
   "outputs": [
    {
     "ename": "",
     "evalue": "",
     "output_type": "error",
     "traceback": [
      "\u001b[1;31mFailed to start the Kernel. \n",
      "Command \"python setup.py egg_info\" failed with error code 1 in /tmp/pip-build-edg2tsdz/argon2-cffi-bindings/. \n",
      "View Jupyter <a href='command:jupyter.viewOutput'>log</a> for further details."
     ]
    }
   ],
   "source": [
    "FREDtrainer.training_gif(duration=150)"
   ]
  },
  {
   "cell_type": "code",
   "execution_count": null,
   "id": "b81fd4bd",
   "metadata": {},
   "outputs": [
    {
     "ename": "",
     "evalue": "",
     "output_type": "error",
     "traceback": [
      "\u001b[1;31mFailed to start the Kernel. \n",
      "Command \"python setup.py egg_info\" failed with error code 1 in /tmp/pip-build-edg2tsdz/argon2-cffi-bindings/. \n",
      "View Jupyter <a href='command:jupyter.viewOutput'>log</a> for further details."
     ]
    }
   ],
   "source": [
    "%load_ext snakeviz\n",
    "%prun -D fredstats.prof FREDtrainer.fit(dataloader, n_epochs = 10)"
   ]
  },
  {
   "cell_type": "markdown",
   "id": "616c634f",
   "metadata": {},
   "source": [
    "# Testing on the Swiss Roll"
   ]
  },
  {
   "cell_type": "code",
   "execution_count": null,
   "id": "7fb891cd",
   "metadata": {},
   "outputs": [
    {
     "ename": "",
     "evalue": "",
     "output_type": "error",
     "traceback": [
      "\u001b[1;31mFailed to start the Kernel. \n",
      "Command \"python setup.py egg_info\" failed with error code 1 in /tmp/pip-build-edg2tsdz/argon2-cffi-bindings/. \n",
      "View Jupyter <a href='command:jupyter.viewOutput'>log</a> for further details."
     ]
    }
   ],
   "source": [
    "# initialize model parameters and layers\n",
    "from FRED.embed import ManifoldFlowEmbedder\n",
    "from FRED.trainers import save_embedding_visualization, visualize_points\n",
    "title = \"Flow Neighbor Loss + Diffusion Map Reg\"\n",
    "MFE = ManifoldFlowEmbedder(\n",
    "            embedding_dimension=2,\n",
    "            embedder_shape=[3, 4, 8, 4, 2],\n",
    "            device=device,\n",
    "            sigma=0.5,\n",
    "            flow_strength=0.5,\n",
    "            smoothness_grid=True,\n",
    "        )\n",
    "loss_weights = {\n",
    "            \"reconstruction\": 1e-3,\n",
    "            \"diffusion map regularization\": 1,\n",
    "            \"flow neighbor loss\": 1e-4,\n",
    "            \"smoothness\": 0,\n",
    "        }\n",
    "visualization_functions = [\n",
    "    save_embedding_visualization,\n",
    "    visualize_points\n",
    "]\n",
    "FREDtrainer = Trainer(FE = MFE, loss_weights=loss_weights, visualization_functions = visualization_functions, device=device, title = title)"
   ]
  },
  {
   "cell_type": "code",
   "execution_count": null,
   "id": "c9b9c5d6",
   "metadata": {},
   "outputs": [
    {
     "ename": "",
     "evalue": "",
     "output_type": "error",
     "traceback": [
      "\u001b[1;31mFailed to start the Kernel. \n",
      "Command \"python setup.py egg_info\" failed with error code 1 in /tmp/pip-build-edg2tsdz/argon2-cffi-bindings/. \n",
      "View Jupyter <a href='command:jupyter.viewOutput'>log</a> for further details."
     ]
    }
   ],
   "source": [
    "from FRED.datasets import directed_swiss_roll_delayed\n",
    "from FRED.data_processing import dataloader_from_ndarray, ManifoldWithVectorField\n",
    "from torch.utils.data import DataLoader\n",
    "X, flow, labels = directed_swiss_roll_delayed(num_nodes=2000)\n",
    "# build dataset\n",
    "ds = ManifoldWithVectorField(X, flow, labels, sigma=1.1)\n",
    "dataloader = DataLoader(ds, batch_size=None, shuffle=True)"
   ]
  },
  {
   "cell_type": "markdown",
   "id": "d1ee5292",
   "metadata": {},
   "source": [
    "Double check that diffusion map makes sense"
   ]
  },
  {
   "cell_type": "code",
   "execution_count": null,
   "id": "ad82dee4",
   "metadata": {},
   "outputs": [
    {
     "ename": "",
     "evalue": "",
     "output_type": "error",
     "traceback": [
      "\u001b[1;31mFailed to start the Kernel. \n",
      "Command \"python setup.py egg_info\" failed with error code 1 in /tmp/pip-build-edg2tsdz/argon2-cffi-bindings/. \n",
      "View Jupyter <a href='command:jupyter.viewOutput'>log</a> for further details."
     ]
    }
   ],
   "source": [
    "DC = dataloader.dataset.diff_coords\n",
    "plt.scatter(DC[:,0],DC[:,1],c=labels)"
   ]
  },
  {
   "cell_type": "code",
   "execution_count": null,
   "id": "7687a62a",
   "metadata": {},
   "outputs": [
    {
     "ename": "",
     "evalue": "",
     "output_type": "error",
     "traceback": [
      "\u001b[1;31mFailed to start the Kernel. \n",
      "Command \"python setup.py egg_info\" failed with error code 1 in /tmp/pip-build-edg2tsdz/argon2-cffi-bindings/. \n",
      "View Jupyter <a href='command:jupyter.viewOutput'>log</a> for further details."
     ]
    }
   ],
   "source": [
    "FREDtrainer.fit(dataloader, n_epochs = 10)"
   ]
  },
  {
   "cell_type": "code",
   "execution_count": null,
   "id": "de4b4abd",
   "metadata": {},
   "outputs": [
    {
     "ename": "",
     "evalue": "",
     "output_type": "error",
     "traceback": [
      "\u001b[1;31mFailed to start the Kernel. \n",
      "Command \"python setup.py egg_info\" failed with error code 1 in /tmp/pip-build-edg2tsdz/argon2-cffi-bindings/. \n",
      "View Jupyter <a href='command:jupyter.viewOutput'>log</a> for further details."
     ]
    }
   ],
   "source": [
    "FREDtrainer.visualize_loss()"
   ]
  },
  {
   "cell_type": "markdown",
   "id": "e7975a01",
   "metadata": {},
   "source": [
    "# Double Helix"
   ]
  },
  {
   "cell_type": "code",
   "execution_count": null,
   "id": "e908f388",
   "metadata": {},
   "outputs": [
    {
     "ename": "",
     "evalue": "",
     "output_type": "error",
     "traceback": [
      "\u001b[1;31mFailed to start the Kernel. \n",
      "Command \"python setup.py egg_info\" failed with error code 1 in /tmp/pip-build-edg2tsdz/argon2-cffi-bindings/. \n",
      "View Jupyter <a href='command:jupyter.viewOutput'>log</a> for further details."
     ]
    }
   ],
   "source": [
    "# initialize model parameters and layers\n",
    "from FRED.embed import ManifoldFlowEmbedder\n",
    "from FRED.trainers import save_embedding_visualization, visualize_points\n",
    "title = \"Flow Neighbor Loss + Diffusion Map Reg\"\n",
    "MFE = ManifoldFlowEmbedder(\n",
    "            embedding_dimension=2,\n",
    "            embedder_shape=[3, 4, 8, 4, 2],\n",
    "            device=device,\n",
    "            sigma=0.5,\n",
    "            flow_strength=0.5,\n",
    "            smoothness_grid=True,\n",
    "        )\n",
    "loss_weights = {\n",
    "            \"reconstruction\": 0,\n",
    "            \"diffusion map regularization\": 1,\n",
    "            \"flow neighbor loss\": 1,\n",
    "            \"smoothness\": 0.1,\n",
    "            \"kld\": 0,\n",
    "        }\n",
    "visualization_functions = [\n",
    "    save_embedding_visualization,\n",
    "    visualize_points\n",
    "]\n",
    "FREDtrainer = Trainer(FE = MFE, loss_weights=loss_weights, visualization_functions = visualization_functions, device=device, title = title)"
   ]
  },
  {
   "cell_type": "code",
   "execution_count": null,
   "id": "38810a3a",
   "metadata": {},
   "outputs": [
    {
     "ename": "",
     "evalue": "",
     "output_type": "error",
     "traceback": [
      "\u001b[1;31mFailed to start the Kernel. \n",
      "Command \"python setup.py egg_info\" failed with error code 1 in /tmp/pip-build-edg2tsdz/argon2-cffi-bindings/. \n",
      "View Jupyter <a href='command:jupyter.viewOutput'>log</a> for further details."
     ]
    }
   ],
   "source": [
    "from FRED.datasets import double_helix\n",
    "from FRED.data_processing import dataloader_from_ndarray, ManifoldWithVectorField\n",
    "from torch.utils.data import DataLoader\n",
    "X, flow, labels = double_helix(num_nodes=2000)\n",
    "# build dataset\n",
    "ds = ManifoldWithVectorField(X, flow, labels, sigma=\"automatic\", dmap_coords_to_use=3, nbhd_strategy=\"flow neighbors\", n_neighbors=10)\n",
    "dataloader = DataLoader(ds, batch_size=None, shuffle=True)"
   ]
  },
  {
   "cell_type": "code",
   "execution_count": null,
   "id": "9e93bd2d",
   "metadata": {},
   "outputs": [
    {
     "ename": "",
     "evalue": "",
     "output_type": "error",
     "traceback": [
      "\u001b[1;31mFailed to start the Kernel. \n",
      "Command \"python setup.py egg_info\" failed with error code 1 in /tmp/pip-build-edg2tsdz/argon2-cffi-bindings/. \n",
      "View Jupyter <a href='command:jupyter.viewOutput'>log</a> for further details."
     ]
    }
   ],
   "source": [
    "from FRED.data_processing import affinity_grid_search\n",
    "affinity_grid_search(X, flow, sigmas = [0.01,0.05,0.1],flow_strengths=[0,0.1,0.5,1])"
   ]
  },
  {
   "cell_type": "code",
   "execution_count": null,
   "id": "5a23595c",
   "metadata": {},
   "outputs": [
    {
     "ename": "",
     "evalue": "",
     "output_type": "error",
     "traceback": [
      "\u001b[1;31mFailed to start the Kernel. \n",
      "Command \"python setup.py egg_info\" failed with error code 1 in /tmp/pip-build-edg2tsdz/argon2-cffi-bindings/. \n",
      "View Jupyter <a href='command:jupyter.viewOutput'>log</a> for further details."
     ]
    }
   ],
   "source": [
    "from FRED.datasets import plot_directed_3d\n",
    "plot_directed_3d(X, flow, labels)"
   ]
  },
  {
   "cell_type": "code",
   "execution_count": null,
   "id": "1c144bea",
   "metadata": {},
   "outputs": [
    {
     "ename": "",
     "evalue": "",
     "output_type": "error",
     "traceback": [
      "\u001b[1;31mFailed to start the Kernel. \n",
      "Command \"python setup.py egg_info\" failed with error code 1 in /tmp/pip-build-edg2tsdz/argon2-cffi-bindings/. \n",
      "View Jupyter <a href='command:jupyter.viewOutput'>log</a> for further details."
     ]
    }
   ],
   "source": [
    "DC = dataloader.dataset.diff_coords\n",
    "plt.scatter(DC[:,1],DC[:,2],c=labels)"
   ]
  },
  {
   "cell_type": "code",
   "execution_count": null,
   "id": "d4b0538f",
   "metadata": {},
   "outputs": [
    {
     "ename": "",
     "evalue": "",
     "output_type": "error",
     "traceback": [
      "\u001b[1;31mFailed to start the Kernel. \n",
      "Command \"python setup.py egg_info\" failed with error code 1 in /tmp/pip-build-edg2tsdz/argon2-cffi-bindings/. \n",
      "View Jupyter <a href='command:jupyter.viewOutput'>log</a> for further details."
     ]
    }
   ],
   "source": [
    "FREDtrainer.fit(dataloader, n_epochs = 100)"
   ]
  },
  {
   "cell_type": "code",
   "execution_count": null,
   "id": "9ea964b9",
   "metadata": {},
   "outputs": [
    {
     "ename": "",
     "evalue": "",
     "output_type": "error",
     "traceback": [
      "\u001b[1;31mFailed to start the Kernel. \n",
      "Command \"python setup.py egg_info\" failed with error code 1 in /tmp/pip-build-edg2tsdz/argon2-cffi-bindings/. \n",
      "View Jupyter <a href='command:jupyter.viewOutput'>log</a> for further details."
     ]
    }
   ],
   "source": [
    "FREDtrainer.visualize_loss()"
   ]
  },
  {
   "cell_type": "markdown",
   "id": "882d4903",
   "metadata": {},
   "source": []
  },
  {
   "cell_type": "code",
   "execution_count": null,
   "id": "52919d0a",
   "metadata": {},
   "outputs": [
    {
     "ename": "",
     "evalue": "",
     "output_type": "error",
     "traceback": [
      "\u001b[1;31mFailed to start the Kernel. \n",
      "Command \"python setup.py egg_info\" failed with error code 1 in /tmp/pip-build-edg2tsdz/argon2-cffi-bindings/. \n",
      "View Jupyter <a href='command:jupyter.viewOutput'>log</a> for further details."
     ]
    }
   ],
   "source": [
    "FREDtrainer.training_gif(duration=200)"
   ]
  },
  {
   "cell_type": "markdown",
   "id": "11f354c4",
   "metadata": {},
   "source": [
    "# Noisy Double Helix"
   ]
  },
  {
   "cell_type": "markdown",
   "id": "0665c860",
   "metadata": {},
   "source": []
  },
  {
   "cell_type": "code",
   "execution_count": null,
   "id": "6c957171",
   "metadata": {},
   "outputs": [
    {
     "ename": "",
     "evalue": "",
     "output_type": "error",
     "traceback": [
      "\u001b[1;31mFailed to start the Kernel. \n",
      "Command \"python setup.py egg_info\" failed with error code 1 in /tmp/pip-build-edg2tsdz/argon2-cffi-bindings/. \n",
      "View Jupyter <a href='command:jupyter.viewOutput'>log</a> for further details."
     ]
    }
   ],
   "source": [
    "from FRED.datasets import double_helix, plot_directed_3d\n",
    "from FRED.data_processing import dataloader_from_ndarray, ManifoldWithVectorField\n",
    "from torch.utils.data import DataLoader\n",
    "X, flow, labels = double_helix(num_nodes=2000, noise=0.5)\n",
    "# build dataset\n",
    "ds = ManifoldWithVectorField(X, flow, labels, sigma=\"automatic\", dmap_coords_to_use=3, nbhd_strategy=\"flow neighbors\", n_neighbors=10)\n",
    "dataloader = DataLoader(ds, batch_size=None, shuffle=True)\n",
    "plot_directed_3d(X, flow, labels)"
   ]
  },
  {
   "cell_type": "code",
   "execution_count": null,
   "id": "689779c9",
   "metadata": {},
   "outputs": [
    {
     "ename": "",
     "evalue": "",
     "output_type": "error",
     "traceback": [
      "\u001b[1;31mFailed to start the Kernel. \n",
      "Command \"python setup.py egg_info\" failed with error code 1 in /tmp/pip-build-edg2tsdz/argon2-cffi-bindings/. \n",
      "View Jupyter <a href='command:jupyter.viewOutput'>log</a> for further details."
     ]
    }
   ],
   "source": [
    "# shuffle X, flows, and labels so that the embeddings don't embed the second class last.\n",
    "idxs = np.random.randint(0,len(X),len(X))\n",
    "print(idxs)\n",
    "X = X[idxs]\n",
    "flow = flow[idxs]\n",
    "labels = labels[idxs]\n",
    "ds = ManifoldWithVectorField(X, flow, labels, sigma=\"automatic\", dmap_coords_to_use=10, nbhd_strategy=\"flow neighbors\", n_neighbors=10, )\n",
    "dataloader = DataLoader(ds, batch_size=None, shuffle=True)"
   ]
  },
  {
   "cell_type": "code",
   "execution_count": null,
   "id": "3b1de7ef",
   "metadata": {},
   "outputs": [
    {
     "ename": "",
     "evalue": "",
     "output_type": "error",
     "traceback": [
      "\u001b[1;31mFailed to start the Kernel. \n",
      "Command \"python setup.py egg_info\" failed with error code 1 in /tmp/pip-build-edg2tsdz/argon2-cffi-bindings/. \n",
      "View Jupyter <a href='command:jupyter.viewOutput'>log</a> for further details."
     ]
    }
   ],
   "source": [
    "# initialize model parameters and layers\n",
    "from FRED.embed import ManifoldFlowEmbedder\n",
    "from FRED.trainers import save_embedding_visualization, visualize_points\n",
    "title = \"Flow Neighbor Loss + Diffusion Map Reg\"\n",
    "MFE = ManifoldFlowEmbedder(\n",
    "    embedding_dimension=2,\n",
    "    embedder_shape=[3, 4, 8, 4, 2],\n",
    "    device=device,\n",
    "    sigma=0.5,\n",
    "    flow_strength=0.5,\n",
    "    smoothness_grid=True,\n",
    ")\n",
    "loss_weights = {\n",
    "    \"reconstruction\": 0,\n",
    "    \"diffusion map regularization\": 1,\n",
    "    \"flow neighbor loss\": 0,\n",
    "    \"smoothness\": 0,\n",
    "    \"kld\": 0,\n",
    "}\n",
    "visualization_functions = [\n",
    "    save_embedding_visualization,\n",
    "    visualize_points\n",
    "]\n",
    "FREDtrainer = Trainer(FE = MFE, loss_weights=loss_weights, visualization_functions = visualization_functions, device=device, title = title)"
   ]
  },
  {
   "cell_type": "code",
   "execution_count": null,
   "id": "40545c24",
   "metadata": {},
   "outputs": [
    {
     "ename": "",
     "evalue": "",
     "output_type": "error",
     "traceback": [
      "\u001b[1;31mFailed to start the Kernel. \n",
      "Command \"python setup.py egg_info\" failed with error code 1 in /tmp/pip-build-edg2tsdz/argon2-cffi-bindings/. \n",
      "View Jupyter <a href='command:jupyter.viewOutput'>log</a> for further details."
     ]
    }
   ],
   "source": [
    "FREDtrainer.fit(dataloader, n_epochs=100)"
   ]
  },
  {
   "cell_type": "code",
   "execution_count": null,
   "id": "e2db8371",
   "metadata": {},
   "outputs": [
    {
     "ename": "",
     "evalue": "",
     "output_type": "error",
     "traceback": [
      "\u001b[1;31mFailed to start the Kernel. \n",
      "Command \"python setup.py egg_info\" failed with error code 1 in /tmp/pip-build-edg2tsdz/argon2-cffi-bindings/. \n",
      "View Jupyter <a href='command:jupyter.viewOutput'>log</a> for further details."
     ]
    }
   ],
   "source": [
    "FREDtrainer.visualize_embedding()"
   ]
  },
  {
   "cell_type": "code",
   "execution_count": null,
   "id": "06429c09",
   "metadata": {},
   "outputs": [
    {
     "ename": "",
     "evalue": "",
     "output_type": "error",
     "traceback": [
      "\u001b[1;31mFailed to start the Kernel. \n",
      "Command \"python setup.py egg_info\" failed with error code 1 in /tmp/pip-build-edg2tsdz/argon2-cffi-bindings/. \n",
      "View Jupyter <a href='command:jupyter.viewOutput'>log</a> for further details."
     ]
    }
   ],
   "source": [
    "FREDtrainer.training_gif()"
   ]
  },
  {
   "cell_type": "code",
   "execution_count": null,
   "id": "07dfb2f9",
   "metadata": {},
   "outputs": [
    {
     "ename": "",
     "evalue": "",
     "output_type": "error",
     "traceback": [
      "\u001b[1;31mFailed to start the Kernel. \n",
      "Command \"python setup.py egg_info\" failed with error code 1 in /tmp/pip-build-edg2tsdz/argon2-cffi-bindings/. \n",
      "View Jupyter <a href='command:jupyter.viewOutput'>log</a> for further details."
     ]
    }
   ],
   "source": []
  },
  {
   "cell_type": "code",
   "execution_count": null,
   "id": "e5cb2868",
   "metadata": {},
   "outputs": [
    {
     "ename": "",
     "evalue": "",
     "output_type": "error",
     "traceback": [
      "\u001b[1;31mFailed to start the Kernel. \n",
      "Command \"python setup.py egg_info\" failed with error code 1 in /tmp/pip-build-edg2tsdz/argon2-cffi-bindings/. \n",
      "View Jupyter <a href='command:jupyter.viewOutput'>log</a> for further details."
     ]
    }
   ],
   "source": []
  }
 ],
 "metadata": {
  "kernelspec": {
   "display_name": "Python 3.6.8 64-bit",
   "language": "python",
   "name": "python3"
  },
  "language_info": {
   "codemirror_mode": {
    "name": "ipython",
    "version": 3
   },
   "file_extension": ".py",
   "mimetype": "text/x-python",
   "name": "python",
   "nbconvert_exporter": "python",
   "pygments_lexer": "ipython3",
   "version": "3.6.8"
  },
  "vscode": {
   "interpreter": {
    "hash": "916dbcbb3f70747c44a77c7bcd40155683ae19c65e1c03b4aa3499c5328201f1"
   }
  }
 },
 "nbformat": 4,
 "nbformat_minor": 5
}
