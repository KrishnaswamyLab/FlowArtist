{
 "cells": [
  {
   "cell_type": "code",
   "execution_count": null,
   "metadata": {},
   "outputs": [
    {
     "name": "stdout",
     "output_type": "stream",
     "text": [
      "Using device cpu\n",
      "The autoreload extension is already loaded. To reload it, use:\n",
      "  %reload_ext autoreload\n"
     ]
    }
   ],
   "source": [
    "# default_exp eeemd\n",
    "from nbdev.showdoc import *\n",
    "import numpy as np\n",
    "import matplotlib.pyplot as plt\n",
    "import torch\n",
    "import FRED\n",
    "if torch.__version__[:4] == '1.13': # If using pytorch with MPS, use Apple silicon GPU acceleration\n",
    "    device = torch.device(\"cuda\" if torch.cuda.is_available() else 'mps' if torch.has_mps else \"cpu\")\n",
    "else:\n",
    "    device = torch.device(\"cuda\" if torch.cuda.is_available() else \"cpu\")\n",
    "print(\"Using device\", device)\n",
    "%load_ext autoreload\n",
    "%autoreload 2"
   ]
  },
  {
   "cell_type": "markdown",
   "metadata": {},
   "source": [
    "# EEEMD: Edge-to-Edge Earth Mover's Distance\n",
    "> EMD between graphs with same number of nodes"
   ]
  },
  {
   "cell_type": "markdown",
   "metadata": {},
   "source": [
    "We want a distance between graphs with the same number of nodes, obeying:\n",
    "1. The cost of moving an edge from one neighbor to another neighbor is lower than the cost of moving it from a neighbor to a non-neighbor.\n",
    "2. The distance between a pair of edges having one point in common is smaller than the distance between a pair of edges having no points in common.\n",
    "3. The above differences in magnitude correspond to the geodesic (manifold) distances on the graph.\n",
    "\n",
    "Such a distance could be useful to FRED. We've previously used the KLD between adjacency matrices as a proxy for this graph-to-graph distance, but the KLD doesn't respect the graph geometry — all edges are equally far apart. As a result, gradients flowing from the KLD can't give as useful information to the model -- insofar as *which* way to tweak the edges or move the nodes -- as might the mythical EEEMD."
   ]
  },
  {
   "cell_type": "markdown",
   "metadata": {},
   "source": [
    "## City-block EEEMD\n",
    "Here's one very simple such metric satisfying the above. Let $e_{ij}$ denote the edge between $i$ and $j$. Then we define the distance as:\n",
    "\n",
    "Neighboring edges (those which share one node) have distance equal to the transport cost between the nodes that they don't share:\n",
    "$$d(e_{ij}, e_{ik}) = d_{graph}(j,k)$$\n",
    "\n",
    "By the triangle inequality, other edges have distance less than or equal to the distance obtained by moving one node to a neighboring node and then moving the other:\n",
    "$$d(e_{ij},e_{kl}) \\leq d(e_{ij}, e_{kj}) + d(e_{kj},e_{kl})$$\n",
    "\n",
    "We'll go ahead and declare this a city-block style metric, in which this distance is equal\n",
    "$$d(e_{ij},e_{kl}) = \\text{min}(d(e_{ij}, e_{kj}) + d(e_{kj},e_{jl}), d(e_{ij}, e_{il}) + d(e_{il},e_{kl}))$$\n",
    "\n",
    "This defines a distance metric between pairs of edges. Using this as a *ground* distance over the adjacency matrix, we define the City-block EEMD as the EMD between the adjacency matrices under the cityblock edge-to-edge ground distance."
   ]
  },
  {
   "cell_type": "code",
   "execution_count": null,
   "metadata": {},
   "outputs": [],
   "source": [
    "from scipy.sparse import csr_array\n",
    "def EEEMD_cityblock(A1, A2, Dgraph):\n",
    "    # Calculate edge-to-edge ground distance\n",
    "    # Support sparse matrices for more efficient computation: we only care \n",
    "    # First, calculate distances between neighbors.\n",
    "    # Get nonzero combined indices; we only care about these distances\n",
    "    nonzero_indices = np.vstack(csr_array(A1 + A2).nonzero())\n",
    "    return nonzero_indices\n"
   ]
  },
  {
   "cell_type": "code",
   "execution_count": null,
   "metadata": {},
   "outputs": [
    {
     "ename": "ModuleNotFoundError",
     "evalue": "No module named 'scvelo'",
     "output_type": "error",
     "traceback": [
      "\u001b[0;31m---------------------------------------------------------------------------\u001b[0m",
      "\u001b[0;31mModuleNotFoundError\u001b[0m                       Traceback (most recent call last)",
      "Cell \u001b[0;32mIn [4], line 2\u001b[0m\n\u001b[1;32m      1\u001b[0m \u001b[39m# test case: branch graph\u001b[39;00m\n\u001b[0;32m----> 2\u001b[0m \u001b[39mfrom\u001b[39;00m \u001b[39mFRED\u001b[39;00m\u001b[39m.\u001b[39;00m\u001b[39mgraph_datasets\u001b[39;00m \u001b[39mimport\u001b[39;00m CycleGraph\n\u001b[1;32m      3\u001b[0m A \u001b[39m=\u001b[39m CycleGraph(num_nodes\u001b[39m=\u001b[39m\u001b[39m10\u001b[39m)\n",
      "File \u001b[0;32m~/Projects/FRED/FRED/graph_datasets.py:405\u001b[0m\n\u001b[1;32m    401\u001b[0m         plt\u001b[39m.\u001b[39mshow()\n\u001b[1;32m    404\u001b[0m \u001b[39m# Comes from 01c Plotting Utils.ipynb, cell\u001b[39;00m\n\u001b[0;32m--> 405\u001b[0m \u001b[39mfrom\u001b[39;00m \u001b[39m.\u001b[39;00m\u001b[39mdatasets\u001b[39;00m \u001b[39mimport\u001b[39;00m display_galary\n\u001b[1;32m    406\u001b[0m \u001b[39mimport\u001b[39;00m \u001b[39mtorch\u001b[39;00m\n\u001b[1;32m    407\u001b[0m \u001b[39mdef\u001b[39;00m \u001b[39mdisplay_heatmap_galary\u001b[39m(dataset, ncol\u001b[39m=\u001b[39m\u001b[39m4\u001b[39m):\n",
      "File \u001b[0;32m~/Projects/FRED/FRED/datasets.py:701\u001b[0m\n\u001b[1;32m    697\u001b[0m     \u001b[39mreturn\u001b[39;00m X, flows, labels\n\u001b[1;32m    699\u001b[0m \u001b[39m# Cell\u001b[39;00m\n\u001b[0;32m--> 701\u001b[0m \u001b[39mimport\u001b[39;00m \u001b[39mscvelo\u001b[39;00m \u001b[39mas\u001b[39;00m \u001b[39mscv\u001b[39;00m\n\u001b[1;32m    702\u001b[0m \u001b[39mimport\u001b[39;00m \u001b[39mtorch\u001b[39;00m\n\u001b[1;32m    704\u001b[0m \u001b[39mdef\u001b[39;00m \u001b[39mrnavelo_find_cluster_key\u001b[39m(adata):\n",
      "\u001b[0;31mModuleNotFoundError\u001b[0m: No module named 'scvelo'"
     ]
    }
   ],
   "source": [
    "# test case: branch graph\n",
    "from FRED.graph_datasets import CycleGraph\n",
    "A = CycleGraph(num_nodes=10)"
   ]
  },
  {
   "cell_type": "code",
   "execution_count": null,
   "metadata": {},
   "outputs": [],
   "source": []
  },
  {
   "cell_type": "code",
   "execution_count": null,
   "metadata": {},
   "outputs": [],
   "source": [
    "from scipy.sparse import csr_array\n",
    "U = np.random.rand(10,10)\n",
    "Usparse = csr_array(U)"
   ]
  },
  {
   "cell_type": "code",
   "execution_count": null,
   "metadata": {},
   "outputs": [
    {
     "data": {
      "text/plain": [
       "(array([0, 0, 0, 0, 0, 0, 0, 0, 0, 0, 1, 1, 1, 1, 1, 1, 1, 1, 1, 1, 2, 2,\n",
       "        2, 2, 2, 2, 2, 2, 2, 2, 3, 3, 3, 3, 3, 3, 3, 3, 3, 3, 4, 4, 4, 4,\n",
       "        4, 4, 4, 4, 4, 4, 5, 5, 5, 5, 5, 5, 5, 5, 5, 5, 6, 6, 6, 6, 6, 6,\n",
       "        6, 6, 6, 6, 7, 7, 7, 7, 7, 7, 7, 7, 7, 7, 8, 8, 8, 8, 8, 8, 8, 8,\n",
       "        8, 8, 9, 9, 9, 9, 9, 9, 9, 9, 9, 9], dtype=int32),\n",
       " array([0, 1, 2, 3, 4, 5, 6, 7, 8, 9, 0, 1, 2, 3, 4, 5, 6, 7, 8, 9, 0, 1,\n",
       "        2, 3, 4, 5, 6, 7, 8, 9, 0, 1, 2, 3, 4, 5, 6, 7, 8, 9, 0, 1, 2, 3,\n",
       "        4, 5, 6, 7, 8, 9, 0, 1, 2, 3, 4, 5, 6, 7, 8, 9, 0, 1, 2, 3, 4, 5,\n",
       "        6, 7, 8, 9, 0, 1, 2, 3, 4, 5, 6, 7, 8, 9, 0, 1, 2, 3, 4, 5, 6, 7,\n",
       "        8, 9, 0, 1, 2, 3, 4, 5, 6, 7, 8, 9], dtype=int32))"
      ]
     },
     "execution_count": null,
     "metadata": {},
     "output_type": "execute_result"
    }
   ],
   "source": [
    "Usparse.nonzero()"
   ]
  },
  {
   "cell_type": "code",
   "execution_count": null,
   "metadata": {},
   "outputs": [
    {
     "data": {
      "text/plain": [
       "array([[0, 0, 0, 0, 0, 0, 0, 0, 0, 0, 1, 1, 1, 1, 1, 1, 1, 1, 1, 1, 2, 2,\n",
       "        2, 2, 2, 2, 2, 2, 2, 2, 3, 3, 3, 3, 3, 3, 3, 3, 3, 3, 4, 4, 4, 4,\n",
       "        4, 4, 4, 4, 4, 4, 5, 5, 5, 5, 5, 5, 5, 5, 5, 5, 6, 6, 6, 6, 6, 6,\n",
       "        6, 6, 6, 6, 7, 7, 7, 7, 7, 7, 7, 7, 7, 7, 8, 8, 8, 8, 8, 8, 8, 8,\n",
       "        8, 8, 9, 9, 9, 9, 9, 9, 9, 9, 9, 9],\n",
       "       [0, 1, 2, 3, 4, 5, 6, 7, 8, 9, 0, 1, 2, 3, 4, 5, 6, 7, 8, 9, 0, 1,\n",
       "        2, 3, 4, 5, 6, 7, 8, 9, 0, 1, 2, 3, 4, 5, 6, 7, 8, 9, 0, 1, 2, 3,\n",
       "        4, 5, 6, 7, 8, 9, 0, 1, 2, 3, 4, 5, 6, 7, 8, 9, 0, 1, 2, 3, 4, 5,\n",
       "        6, 7, 8, 9, 0, 1, 2, 3, 4, 5, 6, 7, 8, 9, 0, 1, 2, 3, 4, 5, 6, 7,\n",
       "        8, 9, 0, 1, 2, 3, 4, 5, 6, 7, 8, 9]], dtype=int32)"
      ]
     },
     "execution_count": null,
     "metadata": {},
     "output_type": "execute_result"
    }
   ],
   "source": [
    "np.vstack(Usparse.nonzero())"
   ]
  },
  {
   "cell_type": "code",
   "execution_count": null,
   "metadata": {},
   "outputs": [],
   "source": []
  }
 ],
 "metadata": {
  "kernelspec": {
   "display_name": "Python 3.9.13 ('FREDpyg')",
   "language": "python",
   "name": "python3"
  }
 },
 "nbformat": 4,
 "nbformat_minor": 2
}
