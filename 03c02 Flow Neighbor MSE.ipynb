{
 "cells": [
  {
   "cell_type": "markdown",
   "metadata": {},
   "source": [
    "# 03c02 Flow Neighbor MSE"
   ]
  },
  {
   "cell_type": "code",
   "execution_count": null,
   "metadata": {},
   "outputs": [],
   "source": [
    "# default_exp embed\n",
    "# hide\n",
    "from nbdev.showdoc import *\n",
    "import numpy as np\n",
    "import matplotlib.pyplot as plt\n",
    "import torch\n",
    "import FRED\n",
    "device = torch.device(\"cuda\" if torch.cuda.is_available() else \"cpu\")\n",
    "%load_ext autoreload\n",
    "%autoreload 2"
   ]
  },
  {
   "cell_type": "markdown",
   "metadata": {},
   "source": []
  },
  {
   "cell_type": "code",
   "execution_count": null,
   "metadata": {},
   "outputs": [],
   "source": [
    "# export\n",
    "import torch\n",
    "def directed_neighbors(num_nodes, P_graph, n_neighbors=5):\n",
    "    # remove self loop\n",
    "    P_graph = P_graph - torch.eye(num_nodes).to(P_graph.device)\n",
    "    # return k nearest neighbor indices\n",
    "    _, neighbors = torch.topk(P_graph, n_neighbors)\n",
    "    # convert to edge_index format\n",
    "    row = torch.arange(num_nodes).repeat_interleave(n_neighbors).to(P_graph.device)\n",
    "    col = neighbors.flatten().to(P_graph.device)\n",
    "    return torch.stack((row, col))"
   ]
  }
 ],
 "metadata": {
  "kernelspec": {
   "display_name": "Python 3.10.4 ('sumry-directed-graphs')",
   "language": "python",
   "name": "python3"
  }
 },
 "nbformat": 4,
 "nbformat_minor": 2
}
