{
 "cells": [
  {
   "cell_type": "markdown",
   "metadata": {},
   "source": [
    "# 03c02 Flow Neighbor MSE"
   ]
  },
  {
   "cell_type": "code",
   "execution_count": null,
   "metadata": {},
   "outputs": [],
   "source": [
    "# default_exp embed\n",
    "# hide\n",
    "from nbdev.showdoc import *\n",
    "import numpy as np\n",
    "import matplotlib.pyplot as plt\n",
    "import torch\n",
    "import FRED\n",
    "device = torch.device(\"cuda\" if torch.cuda.is_available() else 'mps' if torch.backends.mps.is_available() else \"cpu\")\n",
    "%load_ext autoreload\n",
    "%autoreload 2"
   ]
  },
  {
   "cell_type": "code",
   "execution_count": null,
   "metadata": {},
   "outputs": [],
   "source": [
    "# export\n",
    "def flow_neighbor_loss(neighbors, embedded_points, embedded_flows):\n",
    "    row, col = neighbors\n",
    "    directions = (embedded_points[col] - embedded_points[row])\n",
    "    flows = embedded_flows[row]\n",
    "    loss = torch.norm(directions - flows)**2\n",
    "    return loss"
   ]
  },
  {
   "cell_type": "code",
   "execution_count": null,
   "metadata": {},
   "outputs": [],
   "source": [
    "# export\n",
    "def contrastive_flow_loss(not_neighbors, embedded_points, embedded_flows):\n",
    "    row, col = not_neighbors\n",
    "    directions = (embedded_points[col] - embedded_points[row])\n",
    "    flows = embedded_flows[row]\n",
    "    dist_to_flow = torch.norm(directions - flows)**2\n",
    "    loss = 1/dist_to_flow\n",
    "    return loss"
   ]
  },
  {
   "cell_type": "code",
   "execution_count": null,
   "metadata": {},
   "outputs": [
    {
     "data": {
      "text/plain": [
       "tensor([8, 5, 5, 8, 7, 7, 9, 8, 5])"
      ]
     },
     "execution_count": null,
     "metadata": {},
     "output_type": "execute_result"
    }
   ],
   "source": [
    "a = torch.randint(5,10,(1,9))[0].long()\n",
    "a"
   ]
  },
  {
   "cell_type": "code",
   "execution_count": null,
   "metadata": {},
   "outputs": [],
   "source": [
    "b = torch.zeros("
   ]
  }
 ],
 "metadata": {
  "kernelspec": {
   "display_name": "FREDkernel",
   "language": "python",
   "name": "fredkernel"
  }
 },
 "nbformat": 4,
 "nbformat_minor": 4
}
