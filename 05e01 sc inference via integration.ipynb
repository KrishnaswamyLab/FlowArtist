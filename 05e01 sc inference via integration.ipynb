{
 "cells": [
  {
   "cell_type": "code",
   "execution_count": null,
   "metadata": {},
   "outputs": [
    {
     "name": "stdout",
     "output_type": "stream",
     "text": [
      "Using device mps\n",
      "The autoreload extension is already loaded. To reload it, use:\n",
      "  %reload_ext autoreload\n"
     ]
    }
   ],
   "source": [
    "# default_exp inference\n",
    "from nbdev.showdoc import *\n",
    "import numpy as np\n",
    "import matplotlib.pyplot as plt\n",
    "import torch\n",
    "import FRED\n",
    "from FRED.inference import *\n",
    "if torch.__version__[:4] == '1.13': # If using pytorch with MPS, use Apple silicon GPU acceleration\n",
    "    device = torch.device(\"cuda\" if torch.cuda.is_available() else 'mps' if torch.has_mps else \"cpu\")\n",
    "else:\n",
    "    device = torch.device(\"cuda\" if torch.cuda.is_available() else \"cpu\")\n",
    "print(\"Using device\", device)\n",
    "%load_ext autoreload\n",
    "%autoreload 2"
   ]
  },
  {
   "cell_type": "markdown",
   "metadata": {},
   "source": [
    "# 05e01 Inference via Integration Tests on Single Cell Data\n",
    "\n",
    "Given a matrix `X` of embedded points and associated velocities `V`, we can use the simple methods in 05e to create \"flow lines\" along the manifold.\n",
    "If the embedding respects the flow, you would expect the flow lines to reproduce known properties of the data. Furthermore, the better the embedding, the more faithfully the flow lines constructed within it should reproduce ground truth relationships within the data.\n",
    "\n",
    "In this notebook, we test this hypothesis using scVelo's \"latent time\" as our ground-truth. Following the flow should only ever advance time. We'll test the preservation of latent time of both FRED, a PHATE embedding, and the scVelo standard embeddings.\n",
    "\n",
    "For data, we'll use previously made embeddings of single cell datasets.\n",
    "\n",
    "This notebook is also designed to be parameterized, such that we can flip out the data and integration parameters easily, allowing efficient batch testing."
   ]
  },
  {
   "cell_type": "code",
   "execution_count": null,
   "metadata": {},
   "outputs": [],
   "source": [
    "# parameters\n",
    "dataset = \"bone marrow\"\n",
    "filename_base = \"\""
   ]
  },
  {
   "cell_type": "code",
   "execution_count": null,
   "metadata": {},
   "outputs": [],
   "source": [
    "X = np.loadtxt(\"embeddings/\" + filename_base + \" - X.txt\")\n",
    "V = np.loadtxt(\"embeddings/\" + filename_base + \" - V.txt\")"
   ]
  },
  {
   "cell_type": "code",
   "execution_count": null,
   "metadata": {},
   "outputs": [],
   "source": [
    "flowline = flow_integration(X, V, starting_index)"
   ]
  }
 ],
 "metadata": {
  "kernelspec": {
   "display_name": "Python 3.9.13 ('FRED')",
   "language": "python",
   "name": "python3"
  }
 },
 "nbformat": 4,
 "nbformat_minor": 2
}
