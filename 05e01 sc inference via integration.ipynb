{
 "cells": [
  {
   "cell_type": "code",
   "execution_count": null,
   "metadata": {},
   "outputs": [
    {
     "name": "stdout",
     "output_type": "stream",
     "text": [
      "Using device mps\n"
     ]
    }
   ],
   "source": [
    "# default_exp inference\n",
    "from nbdev.showdoc import *\n",
    "import numpy as np\n",
    "import matplotlib.pyplot as plt\n",
    "import torch\n",
    "import FRED\n",
    "from FRED.inference import *\n",
    "if torch.__version__[:4] == '1.13': # If using pytorch with MPS, use Apple silicon GPU acceleration\n",
    "    device = torch.device(\"cuda\" if torch.cuda.is_available() else 'mps' if torch.has_mps else \"cpu\")\n",
    "else:\n",
    "    device = torch.device(\"cuda\" if torch.cuda.is_available() else \"cpu\")\n",
    "print(\"Using device\", device)\n",
    "%load_ext autoreload\n",
    "%autoreload 2"
   ]
  },
  {
   "cell_type": "markdown",
   "metadata": {},
   "source": [
    "# 05e01 Inference via Integration Tests on Single Cell Data\n",
    "\n",
    "Given a matrix `X` of embedded points and associated velocities `V`, we can use the simple methods in 05e to create \"flow lines\" along the manifold.\n",
    "If the embedding respects the flow, you would expect the flow lines to reproduce known properties of the data. Furthermore, the better the embedding, the more faithfully the flow lines constructed within it should reproduce ground truth relationships within the data.\n",
    "\n",
    "In this notebook, we test this hypothesis using scVelo's \"latent time\" as our ground-truth. Following the flow should only ever advance time. We'll test the preservation of latent time of both FRED, a PHATE embedding, and the scVelo standard embeddings.\n",
    "\n",
    "For data, we'll use previously made embeddings of single cell datasets.\n",
    "\n",
    "This notebook is also designed to be parameterized, such that we can flip out the data and integration parameters easily, allowing efficient batch testing."
   ]
  },
  {
   "cell_type": "code",
   "execution_count": null,
   "metadata": {},
   "outputs": [],
   "source": [
    "# parameters\n",
    "dataset = \"bone marrow\"\n",
    "filename_base = \"05c Single Cell Dataset Benchmarker - bone marrow - q4S7SRK8MxoOiJxHBGuF\"\n",
    "# integration parameters\n",
    "starting_index = 0\n",
    "num_steps = 100"
   ]
  },
  {
   "cell_type": "code",
   "execution_count": null,
   "metadata": {},
   "outputs": [],
   "source": [
    "X = np.loadtxt(\"embeddings/\" + filename_base + \" - X.txt\")\n",
    "V = np.loadtxt(\"embeddings/\" + filename_base + \" - V.txt\")\n",
    "X = torch.tensor(X)\n",
    "V = torch.tensor(V)"
   ]
  },
  {
   "cell_type": "code",
   "execution_count": null,
   "metadata": {},
   "outputs": [
    {
     "name": "stdout",
     "output_type": "stream",
     "text": [
      "using step size  0.011642332464642944\n"
     ]
    }
   ],
   "source": [
    "flowline = flow_integration(X, V, starting_index=starting_index, num_steps = num_steps)"
   ]
  },
  {
   "cell_type": "code",
   "execution_count": null,
   "metadata": {},
   "outputs": [
    {
     "data": {
      "text/plain": [
       "[0,\n",
       " tensor(1598),\n",
       " tensor(3355),\n",
       " tensor(2891),\n",
       " tensor(3046),\n",
       " tensor(955),\n",
       " tensor(3046),\n",
       " tensor(955),\n",
       " tensor(3046),\n",
       " tensor(955),\n",
       " tensor(3046),\n",
       " tensor(955),\n",
       " tensor(3046),\n",
       " tensor(955),\n",
       " tensor(3046),\n",
       " tensor(955),\n",
       " tensor(3046),\n",
       " tensor(955),\n",
       " tensor(3046),\n",
       " tensor(955),\n",
       " tensor(3046),\n",
       " tensor(955),\n",
       " tensor(3046),\n",
       " tensor(955),\n",
       " tensor(3046),\n",
       " tensor(955),\n",
       " tensor(3046),\n",
       " tensor(955),\n",
       " tensor(3046),\n",
       " tensor(955),\n",
       " tensor(3046),\n",
       " tensor(955),\n",
       " tensor(3046),\n",
       " tensor(955),\n",
       " tensor(3046),\n",
       " tensor(955),\n",
       " tensor(3046),\n",
       " tensor(955),\n",
       " tensor(3046),\n",
       " tensor(955),\n",
       " tensor(3046),\n",
       " tensor(955),\n",
       " tensor(3046),\n",
       " tensor(955),\n",
       " tensor(3046),\n",
       " tensor(955),\n",
       " tensor(3046),\n",
       " tensor(955),\n",
       " tensor(3046),\n",
       " tensor(955),\n",
       " tensor(3046),\n",
       " tensor(955),\n",
       " tensor(3046),\n",
       " tensor(955),\n",
       " tensor(3046),\n",
       " tensor(955),\n",
       " tensor(3046),\n",
       " tensor(955),\n",
       " tensor(3046),\n",
       " tensor(955),\n",
       " tensor(3046),\n",
       " tensor(955),\n",
       " tensor(3046),\n",
       " tensor(955),\n",
       " tensor(3046),\n",
       " tensor(955),\n",
       " tensor(3046),\n",
       " tensor(955),\n",
       " tensor(3046),\n",
       " tensor(955),\n",
       " tensor(3046),\n",
       " tensor(955),\n",
       " tensor(3046),\n",
       " tensor(955),\n",
       " tensor(3046),\n",
       " tensor(955),\n",
       " tensor(3046),\n",
       " tensor(955),\n",
       " tensor(3046),\n",
       " tensor(955),\n",
       " tensor(3046),\n",
       " tensor(955),\n",
       " tensor(3046),\n",
       " tensor(955),\n",
       " tensor(3046),\n",
       " tensor(955),\n",
       " tensor(3046),\n",
       " tensor(955),\n",
       " tensor(3046),\n",
       " tensor(955),\n",
       " tensor(3046),\n",
       " tensor(955),\n",
       " tensor(3046),\n",
       " tensor(955),\n",
       " tensor(3046),\n",
       " tensor(955),\n",
       " tensor(3046),\n",
       " tensor(955),\n",
       " tensor(3046),\n",
       " tensor(955),\n",
       " tensor(3046)]"
      ]
     },
     "execution_count": null,
     "metadata": {},
     "output_type": "execute_result"
    }
   ],
   "source": [
    "flowline"
   ]
  },
  {
   "cell_type": "code",
   "execution_count": null,
   "metadata": {},
   "outputs": [
    {
     "ename": "TypeError",
     "evalue": "plot_directed_2d() got an unexpected keyword argument 'equal_aspect_ratio'",
     "output_type": "error",
     "traceback": [
      "\u001b[0;31m---------------------------------------------------------------------------\u001b[0m",
      "\u001b[0;31mTypeError\u001b[0m                                 Traceback (most recent call last)",
      "\u001b[1;32m/Users/adjourner/Projects/FRED/05e01 sc inference via integration.ipynb Cell 7\u001b[0m in \u001b[0;36m<cell line: 1>\u001b[0;34m()\u001b[0m\n\u001b[0;32m----> <a href='vscode-notebook-cell:/Users/adjourner/Projects/FRED/05e01%20sc%20inference%20via%20integration.ipynb#X11sZmlsZQ%3D%3D?line=0'>1</a>\u001b[0m plot_flow_line(X,V,flowline)\n",
      "File \u001b[0;32m~/Projects/FRED/FRED/inference.py:110\u001b[0m, in \u001b[0;36mplot_flow_line\u001b[0;34m(X, V, flowline)\u001b[0m\n\u001b[1;32m    108\u001b[0m lbs \u001b[39m=\u001b[39m np\u001b[39m.\u001b[39mzeros(\u001b[39mlen\u001b[39m(Xembedded))\n\u001b[1;32m    109\u001b[0m lbs[flowline] \u001b[39m=\u001b[39m \u001b[39m1\u001b[39m \u001b[39m#+ np.arange(len(flowline))/len(flowline)\u001b[39;00m\n\u001b[0;32m--> 110\u001b[0m plot_directed_2d(Xembedded,Vembedded,lbs, equal_aspect_ratio\u001b[39m=\u001b[39;49m\u001b[39mFalse\u001b[39;49;00m, cmap\u001b[39m=\u001b[39;49m\u001b[39m\"\u001b[39;49m\u001b[39mplasma\u001b[39;49m\u001b[39m\"\u001b[39;49m)\n",
      "\u001b[0;31mTypeError\u001b[0m: plot_directed_2d() got an unexpected keyword argument 'equal_aspect_ratio'"
     ]
    }
   ],
   "source": [
    "plot_flow_line(X,V,flowline)"
   ]
  },
  {
   "cell_type": "code",
   "execution_count": null,
   "metadata": {},
   "outputs": [],
   "source": []
  }
 ],
 "metadata": {
  "kernelspec": {
   "display_name": "Python 3.9.13 ('FRED')",
   "language": "python",
   "name": "python3"
  }
 },
 "nbformat": 4,
 "nbformat_minor": 2
}
