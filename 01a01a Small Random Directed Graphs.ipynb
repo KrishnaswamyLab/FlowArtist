{
 "cells": [
  {
   "cell_type": "markdown",
   "metadata": {},
   "source": [
    "# 01a01a Small Random Directed Graphs\n",
    "> Random graphs for random test cases"
   ]
  },
  {
   "cell_type": "code",
   "execution_count": 2,
   "metadata": {},
   "outputs": [
    {
     "name": "stdout",
     "output_type": "stream",
     "text": [
      "The autoreload extension is already loaded. To reload it, use:\n",
      "  %reload_ext autoreload\n"
     ]
    }
   ],
   "source": [
    "# default_exp datasets\n",
    "# hide\n",
    "from nbdev.showdoc import *\n",
    "%load_ext autoreload\n",
    "%autoreload 2"
   ]
  },
  {
   "cell_type": "markdown",
   "metadata": {},
   "source": [
    "# Small Random Toy Directed Graphs\n",
    "\n",
    "In this notebook, we will create several small and random toy directed graphs and visualize them directly. We will test any embedding and visualization methods on these datasets to check if the embeddings/visualization matches our intuition about the flow on the small directed graphs."
   ]
  },
  {
   "cell_type": "code",
   "execution_count": null,
   "metadata": {},
   "outputs": [],
   "source": [
    "# export\n",
    "import warnings\n",
    "import torch\n",
    "from torch_geometric.data import Data, InMemoryDataset\n",
    "from torch_sparse import SparseTensor\n",
    "from torch_geometric.utils import remove_self_loops\n",
    "\n",
    "class SmallRandom(InMemoryDataset):\n",
    "  def __init__(self, num_nodes=5, prob_edge=0.2, transform=None, pre_transform=None):\n",
    "    super().__init__(\".\", transform, pre_transform)\n",
    "\n",
    "    if num_nodes > 300:\n",
    "      num_nodes = 300\n",
    "      warnings.warn(f\"Number of nodes is too large for SmallRandom dataset. Reset num_nodes =  {num_nodes}\")\n",
    "    \n",
    "    dense_adj = (torch.rand((num_nodes, num_nodes)) < prob_edge).int()\n",
    "    sparse_adj = SparseTensor.from_dense(dense_adj)\n",
    "    row, col, _ = sparse_adj.coo()\n",
    "    edge_index, _ = remove_self_loops(torch.stack([row, col]))\n",
    "\n",
    "    x = torch.eye(num_nodes, dtype=torch.float)\n",
    "    data = Data(x=x, edge_index=edge_index)\n",
    "    if self.pre_transform is not None:\n",
    "      data = self.pre_transform(data)\n",
    "    self.data, self.slices = self.collate([data])\n"
   ]
  }
 ],
 "metadata": {
  "kernelspec": {
   "display_name": "Python 3.9.13 ('pyg_from_source')",
   "language": "python",
   "name": "python3"
  },
  "language_info": {
   "codemirror_mode": {
    "name": "ipython",
    "version": 3
   },
   "file_extension": ".py",
   "mimetype": "text/x-python",
   "name": "python",
   "nbconvert_exporter": "python",
   "pygments_lexer": "ipython3",
   "version": "3.9.13"
  },
  "orig_nbformat": 4,
  "vscode": {
   "interpreter": {
    "hash": "c6ea889a79d04ae11c3321f85d882527bc3513ce7270df83ac3996bcf1545016"
   }
  }
 },
 "nbformat": 4,
 "nbformat_minor": 2
}
