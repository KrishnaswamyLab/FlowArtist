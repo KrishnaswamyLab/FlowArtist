{
 "cells": [
  {
   "cell_type": "code",
   "execution_count": null,
   "metadata": {},
   "outputs": [
    {
     "name": "stdout",
     "output_type": "stream",
     "text": [
      "Using device mps\n"
     ]
    }
   ],
   "source": [
    "# default_exp \n",
    "from nbdev.showdoc import *\n",
    "import numpy as np\n",
    "import matplotlib.pyplot as plt\n",
    "import torch\n",
    "import FRED\n",
    "if torch.__version__[:4] == '1.13': # If using pytorch with MPS, use Apple silicon GPU acceleration\n",
    "    device = torch.device(\"cuda\" if torch.cuda.is_available() else 'mps' if torch.has_mps else \"cpu\")\n",
    "else:\n",
    "    device = torch.device(\"cuda\" if torch.cuda.is_available() else \"cpu\")\n",
    "print(\"Using device\", device)\n",
    "%load_ext autoreload\n",
    "%autoreload 2"
   ]
  },
  {
   "cell_type": "markdown",
   "metadata": {},
   "source": [
    "# 02 Data Preprocessing\n",
    "> All of the preprocessing steps for preparing data for use by our flow embedder, compiled together."
   ]
  },
  {
   "cell_type": "markdown",
   "metadata": {},
   "source": [
    "## Philosophy\n",
    "\n",
    "FRED accepts data of two types, but regardless of the data type used, data preprocessing is required. This involves some fairly mundane things (like converting the data to tensor format, wrapping it in a dataloader, etc), but also a few bespoke steps specific to FRED, such as \n",
    "1. Building a graph from the data using our flow-affinity \"flashlight\" kernel.\n",
    "2. Creating data batches which (rather like Node2vec) include a number of nearest neighbors, to enable neighbor-based loss functions to work.\n",
    "3. Performing a graph embedding on the data (like diffusion maps) to provide a reasonable embedding.\n",
    "\n",
    "Each of these functions lives within a subnotebook of the 02 series. Here, we assemble the functions into a single data processor."
   ]
  },
  {
   "cell_type": "markdown",
   "metadata": {},
   "source": []
  }
 ],
 "metadata": {
  "kernelspec": {
   "display_name": "Python 3.9.13 ('pyg_from_source')",
   "language": "python",
   "name": "python3"
  }
 },
 "nbformat": 4,
 "nbformat_minor": 2
}
