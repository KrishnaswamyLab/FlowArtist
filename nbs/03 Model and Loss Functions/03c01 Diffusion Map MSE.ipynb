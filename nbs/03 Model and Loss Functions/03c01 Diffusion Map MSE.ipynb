{
 "cells": [
  {
   "cell_type": "markdown",
   "metadata": {},
   "source": [
    "# 03c01 Diffusion Map MSE"
   ]
  },
  {
   "cell_type": "code",
   "execution_count": null,
   "metadata": {},
   "outputs": [],
   "source": [
    "# default_exp embed\n",
    "# hide\n",
    "from nbdev.showdoc import *\n",
    "import numpy as np\n",
    "import matplotlib.pyplot as plt\n",
    "import torch\n",
    "import FRED\n",
    "device = torch.device(\"cuda\" if torch.cuda.is_available() else \"cpu\")\n",
    "%load_ext autoreload\n",
    "%autoreload 2"
   ]
  },
  {
   "cell_type": "markdown",
   "metadata": {},
   "source": [
    "This is a general loss function that applies to any matrix of precomputed distances -- be they shortest path distances, or diffusion distances."
   ]
  },
  {
   "cell_type": "code",
   "execution_count": null,
   "metadata": {},
   "outputs": [],
   "source": [
    "# export\n",
    "import torch\n",
    "def precomputed_distance_loss(precomputed_distances, embedded_points):\n",
    "    D_graph = precomputed_distances\n",
    "    num_nodes = embedded_points.shape[0]\n",
    "    D_embedding = torch.cdist(embedded_points, embedded_points)\n",
    "    loss = torch.norm(D_graph - D_embedding)**2 / (num_nodes**2)\n",
    "    return loss"
   ]
  },
  {
   "cell_type": "code",
   "execution_count": null,
   "metadata": {},
   "outputs": [],
   "source": [
    "# export\n",
    "import torch\n",
    "def precomputed_distance_lossV2(precomputed_distances, embedded_points):\n",
    "    D_graph = precomputed_distances\n",
    "    num_nodes = embedded_points.shape[0]\n",
    "    D_embedding = torch.cdist(embedded_points[:len(precomputed_distances)], embedded_points[len(precomputed_distances):])\n",
    "    loss = torch.norm(D_graph - D_embedding)**2 / (num_nodes**2)\n",
    "    return loss"
   ]
  }
 ],
 "metadata": {
  "kernelspec": {
   "display_name": "FRED",
   "language": "python",
   "name": "python3"
  }
 },
 "nbformat": 4,
 "nbformat_minor": 2
}
