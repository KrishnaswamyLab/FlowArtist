{
 "cells": [
  {
   "cell_type": "markdown",
   "metadata": {},
   "source": [
    "# 03c01 Diffusion Map MSE"
   ]
  },
  {
   "cell_type": "code",
   "execution_count": null,
   "metadata": {},
   "outputs": [],
   "source": [
    "# default_exp embed\n",
    "# hide\n",
    "from nbdev.showdoc import *\n",
    "import numpy as np\n",
    "import matplotlib.pyplot as plt\n",
    "import torch\n",
    "import FRED\n",
    "device = torch.device(\"cuda\" if torch.cuda.is_available() else \"cpu\")\n",
    "%load_ext autoreload\n",
    "%autoreload 2"
   ]
  },
  {
   "cell_type": "markdown",
   "metadata": {},
   "source": [
    "This is a general loss function that applies to any matrix of precomputed distances -- be they shortest path distances, or diffusion distances."
   ]
  },
  {
   "cell_type": "code",
   "execution_count": null,
   "metadata": {},
   "outputs": [],
   "source": [
    "# export\n",
    "import torch\n",
    "def precomputed_distance_loss(precomputed_distances, embedded_points):\n",
    "    D_graph = precomputed_distances\n",
    "    num_nodes = embedded_points.shape[0]\n",
    "    D_embedding = torch.cdist(embedded_points, embedded_points)\n",
    "    loss = torch.norm(D_graph - D_embedding)**2 / (num_nodes**2)\n",
    "    return loss"
   ]
  },
  {
   "cell_type": "code",
   "execution_count": null,
   "metadata": {},
   "outputs": [],
   "source": [
    "# export\n",
    "import torch\n",
    "def precomputed_distance_lossV2(embedded_points, near_distances_precomputed, far_distances_precomputed, center_point_idxs, neighbor_idxs, farbor_idxs):\n",
    "    # compute near distance loss\n",
    "    near_dists_embedded = torch.linalg.vector_norm(embedded_points[center_point_idxs] - embedded_points[neighbor_idxs])\n",
    "    near_dist_loss = torch.linalg.vector_norm(near_dists_embedded - near_distances_precomputed)\n",
    "    # ditto for far distances\n",
    "    far_dists_embedded = torch.linalg.vector_norm(embedded_points[center_point_idxs] - embedded_points[farbor_idxs])\n",
    "    far_dist_loss = torch.linalg.vector_norm(far_dists_embedded - far_distances_precomputed)\n",
    "    return near_dist_loss + far_dist_loss"
   ]
  }
 ],
 "metadata": {
  "kernelspec": {
   "display_name": "FRED",
   "language": "python",
   "name": "python3"
  }
 },
 "nbformat": 4,
 "nbformat_minor": 2
}
