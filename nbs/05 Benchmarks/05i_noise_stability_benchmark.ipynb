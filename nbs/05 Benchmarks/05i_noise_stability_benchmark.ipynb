{
 "cells": [
  {
   "cell_type": "code",
   "execution_count": null,
   "metadata": {},
   "outputs": [
    {
     "name": "stdout",
     "output_type": "stream",
     "text": [
      "Using device mps\n"
     ]
    }
   ],
   "source": [
    "from nbdev.showdoc import *\n",
    "import numpy as np\n",
    "import matplotlib.pyplot as plt\n",
    "import torch\n",
    "import FRED\n",
    "device = torch.device(\"cuda\" if torch.cuda.is_available() else 'mps' if torch.has_mps else \"cpu\")\n",
    "print(\"Using device\", device)\n",
    "%load_ext autoreload\n",
    "%autoreload 2"
   ]
  },
  {
   "attachments": {},
   "cell_type": "markdown",
   "metadata": {},
   "source": [
    "# Noise Stability Benchmarks"
   ]
  },
  {
   "cell_type": "markdown",
   "metadata": {},
   "source": []
  },
  {
   "cell_type": "code",
   "execution_count": null,
   "metadata": {},
   "outputs": [],
   "source": [
    "# Load single cell dataset from scvelo and get associated information\n",
    "from FRED.datasets import double_helix, directed_swiss_roll_delayed, directed_sinh_branch, rnavelo, rnavelo_pcs\n",
    "from FRED.data_processing import dataloader_from_ndarray, ManifoldWithVectorField\n",
    "from torch.utils.data import DataLoader\n",
    "import scvelo as scv\n",
    "import os\n",
    "from pathlib import Path\n",
    "dataset_name = \"pancreas\"\n",
    "# choose correct dataset\n",
    "Xpath = f\"../../data/{dataset_name}/processed/X.txt\"\n",
    "if os.path.exists(Xpath):\n",
    "    X = np.loadtxt(Xpath)\n",
    "    flow = np.loadtxt(f\"../../data/{dataset_name}/processed/flow.txt\")\n",
    "    labels = np.loadtxt(f\"../../data/{dataset_name}/processed/labels.txt\")\n",
    "    latent_time = np.loadtxt(f\"../../data/{dataset_name}/processed/latent_time.txt\")\n",
    "else:\n",
    "    if dataset_name == \"bone marrow\":\n",
    "        adata = scv.datasets.bonemarrow()\n",
    "    elif dataset_name == \"dentategyrus\":\n",
    "        adata = scv.datasets.dentategyrus()\n",
    "    elif dataset_name == \"pancreas\":\n",
    "        adata = scv.datasets.pancreas()\n",
    "    elif dataset_name == \"dentategyrus_lamanno\":\n",
    "        adata = scv.datasets.dentategyrus_lamanno()\n",
    "    print(\"processing data with pcs\")\n",
    "    X, flow, labels, n_pcs = rnavelo_pcs(adata)\n",
    "    # dynamical recovery\n",
    "    scv.tl.recover_dynamics(adata, n_jobs=1)\n",
    "    scv.tl.latent_time(adata)\n",
    "    latent_time = adata.obs['latent_time'].to_numpy()\n",
    "    # save the processed data to np txt files for ready loading in the future\n",
    "    Path(f\"../../data/{dataset_name}/processed\").mkdir(parents = True,exist_ok=True)\n",
    "    np.savetxt(f\"../../data/{dataset_name}/processed/X.txt\",X)\n",
    "    np.savetxt(f\"../../data/{dataset_name}/processed/flow.txt\",flow)\n",
    "    np.savetxt(f\"../../data/{dataset_name}/processed/labels.txt\",labels)\n",
    "    np.savetxt(f\"../../data/{dataset_name}/processed/latent_time.txt\",latent_time)"
   ]
  },
  {
   "cell_type": "code",
   "execution_count": null,
   "metadata": {},
   "outputs": [],
   "source": [
    "import umap\n",
    "from FRED.data_processing import dataloader_from_ndarray_V2\n",
    "from FRED.embed import ManifoldFlowEmbedder\n",
    "from FRED.trainers import Trainer, visualize_points\n",
    "def noise_stability_test(X, flow, labels, noise_level = 0.1, method = \"FRED\"):\n",
    "    \"\"\"\n",
    "    Tests the robustness of a method against noise added to both points and flows.\n",
    "    \"\"\"\n",
    "    # add noise to points\n",
    "    X_noisy = X + torch.rand_like(X)*noise_level*max(torch.linalg.norm(X,axis=1))\n",
    "    # randomly reverse some percentage of the flow\n",
    "    flow_noisy = flow\n",
    "    chosen_idxs = torch.rand(len(flow)) > noise_level\n",
    "    flow_noisy[chosen_idxs] *= -1\n",
    "    match method:\n",
    "        case \"umap\":\n",
    "            # Fit UMAP (proxy for scvelo)\n",
    "            reducer = umap.UMAP()\n",
    "            umap_coords = torch.tensor(reducer.fit_transform(X_noisy))\n",
    "        case \"FRED\":\n",
    "            # Train FRED\n",
    "            # build dataloader and set up FRED\n",
    "            dataloader = dataloader_from_ndarray_V2(X_noisy,flow_noisy,labels,batch_size=256)\n",
    "            MFE = ManifoldFlowEmbedder(\n",
    "                        embedding_dimension=2,\n",
    "                        embedder_shape=[3, 4, 8, 8, 8, 4, 2],\n",
    "                        device=device,\n",
    "                        sigma=0.5,\n",
    "                        flow_strength=0.5,\n",
    "                    )\n",
    "            loss_weights = {\n",
    "                        \"distance regularization\": 100,\n",
    "                        \"contrastive loss v2\": 1,\n",
    "                        \"smoothness\": 0,\n",
    "                    }\n",
    "            visualization_functions = []\n",
    "            FREDtrainer = Trainer(FE = MFE, \n",
    "                    loss_weights=loss_weights, \n",
    "                    device=device, \n",
    "                    title=\"Noisy Embedding\", \n",
    "                    visualization_functions=visualization_functions, \n",
    "                    data_type=\"Contrastive Flow\",\n",
    "                    scheduler=None,\n",
    "                    learning_rate=1e-3)\n",
    "            FREDtrainer.fit(dataloader, n_epochs = 1000)\n",
    "            FREDtrainer.visualize_embedding()\n",
    "            fred_coords = FREDtrainer.embedded_points\n",
    "        case _:\n",
    "            raise NotImplementedError(\"Must Specify UMAP or FRED\")\n",
    "    # Run metrics on points\n",
    "    \n"
   ]
  },
  {
   "cell_type": "code",
   "execution_count": null,
   "metadata": {},
   "outputs": [
    {
     "data": {
      "text/plain": [
       "tensor([True, True, True,  ..., True, True, True])"
      ]
     },
     "execution_count": null,
     "metadata": {},
     "output_type": "execute_result"
    }
   ],
   "source": [
    "torch.rand(len(flow)) > 0.1"
   ]
  },
  {
   "cell_type": "code",
   "execution_count": null,
   "metadata": {},
   "outputs": [],
   "source": [
    "flow[torch.rand(len(flow)) > 0.1] *= -1"
   ]
  },
  {
   "cell_type": "code",
   "execution_count": null,
   "metadata": {},
   "outputs": [
    {
     "data": {
      "text/plain": [
       "array([[ 0.0312342 ,  0.01645556, -0.0887748 , ..., -0.01706855,\n",
       "        -0.00670738, -0.01429297],\n",
       "       [ 0.02287296, -0.00859926, -0.07289554, ..., -0.0130601 ,\n",
       "        -0.00387765, -0.00150005],\n",
       "       [ 0.00143617,  0.00117963,  0.01831046, ..., -0.00938447,\n",
       "         0.0002142 ,  0.00056758],\n",
       "       ...,\n",
       "       [ 0.02528729,  0.01144369, -0.01577021, ..., -0.01627857,\n",
       "        -0.00110882, -0.00568943],\n",
       "       [ 0.03875643, -0.03800944, -0.01107999, ...,  0.00150418,\n",
       "         0.00441471,  0.00549325],\n",
       "       [ 0.05843243, -0.08093039,  0.09355683, ..., -0.00656454,\n",
       "         0.05342222, -0.01849617]])"
      ]
     },
     "execution_count": null,
     "metadata": {},
     "output_type": "execute_result"
    }
   ],
   "source": [
    "flow[torch.rand(len(flow)) > 0.1]"
   ]
  },
  {
   "cell_type": "code",
   "execution_count": null,
   "metadata": {},
   "outputs": [],
   "source": []
  }
 ],
 "metadata": {
  "kernelspec": {
   "display_name": "flowartist",
   "language": "python",
   "name": "python3"
  }
 },
 "nbformat": 4,
 "nbformat_minor": 2
}
