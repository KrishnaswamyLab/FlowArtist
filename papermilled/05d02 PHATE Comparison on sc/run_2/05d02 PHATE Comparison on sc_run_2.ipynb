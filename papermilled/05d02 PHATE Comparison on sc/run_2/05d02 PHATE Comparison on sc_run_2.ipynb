{
 "cells": [
  {
   "cell_type": "code",
   "execution_count": null,
   "id": "01416e0a-4fdc-48b2-aa77-9162d761dc56",
   "metadata": {},
   "outputs": [
    {
     "name": "stdout",
     "output_type": "stream",
     "text": [
      "Using device cpu\n"
     ]
    }
   ],
   "source": [
    "from nbdev.showdoc import *\n",
    "import numpy as np\n",
    "import matplotlib.pyplot as plt\n",
    "import seaborn as sns\n",
    "import torch\n",
    "import FRED\n",
    "if torch.__version__[:4] == '1.14': # If using pytorch with MPS, use Apple silicon GPU acceleration\n",
    "    device = torch.device(\"cuda\" if torch.cuda.is_available() else 'mps' if torch.has_mps else \"cpu\")\n",
    "else:\n",
    "    device = torch.device(\"cuda\" if torch.cuda.is_available() else \"cpu\")\n",
    "print(\"Using device\", device)\n",
    "# sns.set_theme()\n",
    "%load_ext autoreload\n",
    "%autoreload 2"
   ]
  },
  {
   "cell_type": "markdown",
   "id": "b5f6d8b7-6aad-4099-bc65-9956aa578e90",
   "metadata": {},
   "source": [
    "# 05d01 PHATE on Single Cell Datasets\n",
    "> Run PHATE on all of our toy datasets (optionally, do so many times), and produce training gifs and loss charts for each.\n",
    "\n",
    "This is set up for the popular library `papermill`, which can parameterize and execute notebooks. \n",
    "\n",
    "First, we set the notebook-wide parameters, then run the cells. Papermill will create copies of the notebook with each parameter configuration given."
   ]
  },
  {
   "cell_type": "code",
   "execution_count": null,
   "id": "c4f7af15-4fb5-4e03-b5fd-41b2ba700142",
   "metadata": {},
   "outputs": [],
   "source": [
    "notebook = \"05d02 PHATE on Single Cell Datasets.ipynb\"\n",
    "dataset_name = \"bone marrow\""
   ]
  },
  {
   "cell_type": "code",
   "execution_count": null,
   "id": "ce2280da",
   "metadata": {},
   "outputs": [],
   "source": [
    "# Parameters\n",
    "notebook = \"05d02 PHATE Comparison on sc.ipynb\"\n",
    "dataset_name = \"dentategyrus\"\n",
    "output_label = \"run_2\"\n"
   ]
  },
  {
   "cell_type": "markdown",
   "id": "9d7d6721-0d05-496b-a9c9-350d07d051bb",
   "metadata": {},
   "source": [
    "# Set Up"
   ]
  },
  {
   "cell_type": "code",
   "execution_count": null,
   "id": "ee1fbfd6-d95c-499d-80fe-e3c553674ac2",
   "metadata": {},
   "outputs": [
    {
     "name": "stdout",
     "output_type": "stream",
     "text": [
      "processing data with pcs\n",
      "Normalized count data: X, spliced, unspliced.\n",
      "Logarithmized X.\n"
     ]
    },
    {
     "name": "stdout",
     "output_type": "stream",
     "text": [
      "computing neighbors\n"
     ]
    },
    {
     "name": "stderr",
     "output_type": "stream",
     "text": [
      "OMP: Info #276: omp_set_nested routine deprecated, please use omp_set_max_active_levels instead.\n"
     ]
    },
    {
     "name": "stdout",
     "output_type": "stream",
     "text": [
      "    finished (0:00:03) --> added \n",
      "    'distances' and 'connectivities', weighted adjacency matrices (adata.obsp)\n",
      "computing moments based on connectivities\n"
     ]
    },
    {
     "name": "stdout",
     "output_type": "stream",
     "text": [
      "    finished (0:00:00) --> added \n",
      "    'Ms' and 'Mu', moments of un/spliced abundances (adata.layers)\n",
      "computing velocities\n"
     ]
    },
    {
     "name": "stdout",
     "output_type": "stream",
     "text": [
      "    finished (0:00:01) --> added \n",
      "    'velocity', velocity vectors for each individual cell (adata.layers)\n",
      "computing velocity graph (using 1/10 cores)\n"
     ]
    },
    {
     "data": {
      "application/vnd.jupyter.widget-view+json": {
       "model_id": "a61795d16f264a19bfa0aa97478c5fc7",
       "version_major": 2,
       "version_minor": 0
      },
      "text/plain": [
       "  0%|          | 0/2930 [00:00<?, ?cells/s]"
      ]
     },
     "metadata": {},
     "output_type": "display_data"
    },
    {
     "name": "stdout",
     "output_type": "stream",
     "text": [
      "    finished (0:00:08) --> added \n",
      "    'velocity_graph', sparse matrix with cosine correlations (adata.uns)\n",
      "computing velocity embedding\n"
     ]
    },
    {
     "name": "stdout",
     "output_type": "stream",
     "text": [
      "    finished (0:00:00) --> added\n",
      "    'velocity_pca', embedded velocity vectors (adata.obsm)\n"
     ]
    }
   ],
   "source": [
    "from FRED.datasets import double_helix, directed_swiss_roll_delayed, directed_sinh_branch, rnavelo, rnavelo_pcs\n",
    "from FRED.data_processing import dataloader_from_ndarray, ManifoldWithVectorField\n",
    "from torch.utils.data import DataLoader\n",
    "import scvelo as scv\n",
    "# choose correct dataset\n",
    "if dataset_name == \"bone marrow\":\n",
    "    adata = scv.datasets.bonemarrow()\n",
    "    print(\"processing data with pcs\")\n",
    "    X, flow, labels, n_pcs = rnavelo_pcs(adata)\n",
    "elif dataset_name == \"dentategyrus\":\n",
    "    adata = scv.datasets.dentategyrus()\n",
    "    print(\"processing data with pcs\")\n",
    "    X, flow, labels, n_pcs = rnavelo_pcs(adata)\n",
    "elif dataset_name == \"pancreas\":\n",
    "    adata = scv.datasets.pancreas()\n",
    "    print(\"processing data with pcs\")\n",
    "    X, flow, labels, n_pcs = rnavelo_pcs(adata)"
   ]
  },
  {
   "cell_type": "code",
   "execution_count": null,
   "id": "5412ac92-2e2d-4d96-9ef1-6b235dc486a5",
   "metadata": {},
   "outputs": [
    {
     "data": {
      "text/plain": [
       "torch.Size([2930, 30])"
      ]
     },
     "execution_count": null,
     "metadata": {},
     "output_type": "execute_result"
    }
   ],
   "source": [
    "X.shape"
   ]
  },
  {
   "cell_type": "markdown",
   "id": "c5330298-5e59-427d-bb3b-516279b45866",
   "metadata": {},
   "source": [
    "## Set up the model"
   ]
  },
  {
   "cell_type": "code",
   "execution_count": null,
   "id": "d725f6ec-d321-4a59-a351-d83111df1beb",
   "metadata": {},
   "outputs": [],
   "source": [
    "from phate import phate\n",
    "phate_op = phate.PHATE()"
   ]
  },
  {
   "cell_type": "code",
   "execution_count": null,
   "id": "09d82a61-57ba-4e92-a279-d2efc6748199",
   "metadata": {},
   "outputs": [
    {
     "name": "stdout",
     "output_type": "stream",
     "text": [
      "Calculating PHATE...\n"
     ]
    },
    {
     "name": "stdout",
     "output_type": "stream",
     "text": [
      "  Running PHATE on 2930 observations and 30 variables.\n"
     ]
    },
    {
     "name": "stdout",
     "output_type": "stream",
     "text": [
      "  Calculating graph and diffusion operator...\n"
     ]
    },
    {
     "name": "stdout",
     "output_type": "stream",
     "text": [
      "    Calculating KNN search...\n"
     ]
    },
    {
     "name": "stdout",
     "output_type": "stream",
     "text": [
      "    Calculated KNN search in 0.16 seconds.\n"
     ]
    },
    {
     "name": "stdout",
     "output_type": "stream",
     "text": [
      "    Calculating affinities...\n"
     ]
    },
    {
     "name": "stdout",
     "output_type": "stream",
     "text": [
      "  Calculated graph and diffusion operator in 0.17 seconds.\n"
     ]
    },
    {
     "name": "stdout",
     "output_type": "stream",
     "text": [
      "  Calculating landmark operator...\n"
     ]
    },
    {
     "name": "stdout",
     "output_type": "stream",
     "text": [
      "    Calculating SVD...\n"
     ]
    },
    {
     "name": "stdout",
     "output_type": "stream",
     "text": [
      "    Calculated SVD in 0.97 seconds.\n"
     ]
    },
    {
     "name": "stdout",
     "output_type": "stream",
     "text": [
      "    Calculating KMeans...\n"
     ]
    },
    {
     "name": "stdout",
     "output_type": "stream",
     "text": [
      "    Calculated KMeans in 5.01 seconds.\n"
     ]
    },
    {
     "name": "stdout",
     "output_type": "stream",
     "text": [
      "  Calculated landmark operator in 6.28 seconds.\n"
     ]
    },
    {
     "name": "stdout",
     "output_type": "stream",
     "text": [
      "  Calculating optimal t...\n"
     ]
    },
    {
     "name": "stdout",
     "output_type": "stream",
     "text": [
      "    Automatically selected t = 30\n"
     ]
    },
    {
     "name": "stdout",
     "output_type": "stream",
     "text": [
      "  Calculated optimal t in 4.84 seconds.\n"
     ]
    },
    {
     "name": "stdout",
     "output_type": "stream",
     "text": [
      "  Calculating diffusion potential...\n"
     ]
    },
    {
     "name": "stdout",
     "output_type": "stream",
     "text": [
      "  Calculated diffusion potential in 0.59 seconds.\n"
     ]
    },
    {
     "name": "stdout",
     "output_type": "stream",
     "text": [
      "  Calculating metric MDS...\n"
     ]
    },
    {
     "name": "stdout",
     "output_type": "stream",
     "text": [
      "  Calculated metric MDS in 1.83 seconds.\n"
     ]
    },
    {
     "name": "stdout",
     "output_type": "stream",
     "text": [
      "Calculated PHATE in 13.72 seconds.\n"
     ]
    }
   ],
   "source": [
    "phate_coords = phate_op.fit_transform(X)"
   ]
  },
  {
   "cell_type": "markdown",
   "id": "1d57122f-f7a7-4246-977b-851b8fdd419e",
   "metadata": {},
   "source": [
    "# Results"
   ]
  },
  {
   "cell_type": "code",
   "execution_count": null,
   "id": "c609f46c-02cf-4096-b2e2-65121d087b4d",
   "metadata": {},
   "outputs": [
    {
     "data": {
      "image/png": "[encoded data removed]",
      "text/plain": [
       "<Figure size 432x288 with 1 Axes>"
      ]
     },
     "metadata": {
      "needs_background": "light"
     },
     "output_type": "display_data"
    }
   ],
   "source": [
    "from FRED.datasets import plot_directed_2d\n",
    "velocities = np.zeros_like(phate_coords)\n",
    "plot_directed_2d(phate_coords, velocities, labels, equal_aspect_ratio=False, title = f\"PHATE on {dataset_name}\")"
   ]
  },
  {
   "cell_type": "markdown",
   "id": "b3892ee4-f2fc-4a45-9982-0522a3605ea3",
   "metadata": {},
   "source": [
    "# Qualitative analyses"
   ]
  },
  {
   "cell_type": "markdown",
   "id": "e6837e5d-222e-4af9-8aa2-98cb509ddca5",
   "metadata": {},
   "source": [
    "We combine the embedded points with their velocities in the embedding space. "
   ]
  },
  {
   "cell_type": "code",
   "execution_count": null,
   "id": "9fad2c89-1292-479e-afd0-48f95219179c",
   "metadata": {},
   "outputs": [
    {
     "data": {
      "text/plain": [
       "(2930, 4)"
      ]
     },
     "execution_count": null,
     "metadata": {},
     "output_type": "execute_result"
    }
   ],
   "source": [
    "embedded_points = phate_coords\n",
    "embedded_velocities = velocities\n",
    "points_and_flows = np.concatenate([embedded_points, embedded_velocities], axis=1)\n",
    "points_and_flows.shape"
   ]
  },
  {
   "cell_type": "code",
   "execution_count": null,
   "id": "90bbebcf-23ff-4fd8-8ece-05cddadd8718",
   "metadata": {},
   "outputs": [],
   "source": [
    "import sklearn \n",
    "silhouette_points = sklearn.metrics.silhouette_score(embedded_points, labels)\n",
    "silhouette_points_and_flows = sklearn.metrics.silhouette_score(points_and_flows, labels)"
   ]
  },
  {
   "cell_type": "markdown",
   "id": "ff7ecbd3-ad64-4c01-a99f-f7f587e732a7",
   "metadata": {},
   "source": [
    "## Nearest Neighbors Classifier Score"
   ]
  },
  {
   "cell_type": "code",
   "execution_count": null,
   "id": "2385f25b-f487-4039-a5fe-556f9bb8333f",
   "metadata": {},
   "outputs": [],
   "source": [
    "from sklearn.model_selection import train_test_split\n",
    "X_train, X_test, y_train, y_test = train_test_split(points_and_flows, labels, test_size=0.33, random_state=42)"
   ]
  },
  {
   "cell_type": "code",
   "execution_count": null,
   "id": "63a709e7-5e30-4962-b5a9-89358cadbb4f",
   "metadata": {},
   "outputs": [],
   "source": [
    "from sklearn.neighbors import KNeighborsClassifier\n",
    "neighClass = KNeighborsClassifier(n_neighbors=3)\n",
    "neighClass.fit(X_train, y_train)\n",
    "knn_classifier_score = neighClass.score(X_test, y_test)"
   ]
  },
  {
   "cell_type": "code",
   "execution_count": null,
   "id": "7c04d8db-7373-495f-8fe7-b78279f311a3",
   "metadata": {},
   "outputs": [
    {
     "name": "stdout",
     "output_type": "stream",
     "text": [
      "## SCORES ## \n",
      " silhouette score w/o flows: 0.32474224712740307.\n",
      " silhouette score w/ flows:  0.32474224712740307 \n",
      " kNN Classifier 0.8831437435367114\n"
     ]
    }
   ],
   "source": [
    "print(f\"## SCORES ## \\n silhouette score w/o flows: {silhouette_points}.\\n silhouette score w/ flows:  {silhouette_points_and_flows} \\n kNN Classifier {knn_classifier_score}\")"
   ]
  },
  {
   "cell_type": "markdown",
   "id": "e591010b-4b74-4c92-8333-fef0c005b17d",
   "metadata": {},
   "source": [
    "# Write results to spreadsheet"
   ]
  },
  {
   "cell_type": "code",
   "execution_count": null,
   "id": "24c5884a-9ea7-4ab2-852e-6fc069279f3d",
   "metadata": {},
   "outputs": [
    {
     "data": {
      "text/plain": [
       "'AfEKJANmwiO0KRsST8JC'"
      ]
     },
     "execution_count": null,
     "metadata": {},
     "output_type": "execute_result"
    }
   ],
   "source": [
    "# create unique identifier for notebook\n",
    "import secrets\n",
    "import string\n",
    "alphabet = string.ascii_letters + string.digits\n",
    "unid = ''.join(secrets.choice(alphabet) for i in range(20))  # for a 20-character password\n",
    "unid"
   ]
  },
  {
   "cell_type": "code",
   "execution_count": null,
   "id": "efcc99e2-9f0c-4f1a-98ea-0458036d7d42",
   "metadata": {},
   "outputs": [],
   "source": [
    "import csv\n",
    "spread_name = notebook + \"_dataset_\" + dataset_name\n",
    "with open(f\"{spread_name}.csv\", 'a') as csv_file:\n",
    "    writer = csv.writer(csv_file)\n",
    "    writer.writerow(\n",
    "        [unid,\n",
    "         silhouette_points,\n",
    "         silhouette_points_and_flows,\n",
    "         knn_classifier_score\n",
    "        ]) "
   ]
  },
  {
   "cell_type": "code",
   "execution_count": null,
   "id": "2de6749a-4a5e-4112-b7f3-45f0c5c53a2e",
   "metadata": {},
   "outputs": [],
   "source": []
  }
 ],
 "metadata": {
  "kernelspec": {
   "display_name": "Python 3.9.13 ('FRED')",
   "language": "python",
   "name": "python3"
  }
 },
 "nbformat": 4,
 "nbformat_minor": 5
}
