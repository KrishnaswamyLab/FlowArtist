{
 "cells": [
  {
   "cell_type": "code",
   "execution_count": null,
   "id": "d36894ce",
   "metadata": {},
   "outputs": [],
   "source": [
    "# Parameters\n",
    "notebook = \"05b Toy Dataset Benchmarker.ipynb\"\n",
    "dataset_name = \"noisy double helix\"\n",
    "sigma = 1\n",
    "flow_strength = 1\n",
    "smoothness_weight = 0\n",
    "flow_neighbor_loss_weight = 1\n",
    "diffdist_weight = 1\n",
    "num_neighbors = 5\n",
    "output_label = \"run1_dataset_name-noisydoublehelix_sigma-1_flow_strength-1_smoothness_weight-0_flow_neighbor_loss_weight-1_diffdist_weight-1_num_neighbors-5\"\n"
   ]
  },
  {
   "cell_type": "code",
   "execution_count": null,
   "id": "f0dd065b",
   "metadata": {},
   "outputs": [],
   "source": [
    "from nbdev.showdoc import *\n",
    "import numpy as np\n",
    "import matplotlib.pyplot as plt\n",
    "import seaborn as sns\n",
    "import torch\n",
    "import FRED\n",
    "if torch.__version__[:4] == '1.14': # If using pytorch with MPS, use Apple silicon GPU acceleration\n",
    "    device = torch.device(\"cuda\" if torch.cuda.is_available() else 'mps' if torch.has_mps else \"cpu\")\n",
    "else:\n",
    "    device = torch.device(\"cuda\" if torch.cuda.is_available() else \"cpu\")\n",
    "print(\"Using device\", device)\n",
    "# sns.set_theme()\n",
    "%load_ext autoreload\n",
    "%autoreload 2"
   ]
  },
  {
   "cell_type": "markdown",
   "id": "61c232de",
   "metadata": {},
   "source": [
    "# 05b Toy Dataset Benchmarker\n",
    "> Run a given model on all of our toy datasets (optionally, do so many times), and produce training gifs and loss charts for each.\n",
    "\n",
    "This is set up for the popular library `papermill`, which can parameterize and execute notebooks. \n",
    "\n",
    "First, we set the notebook-wide parameters, then run the cells. Papermill will create copies of the notebook with each parameter configuration given."
   ]
  },
  {
   "cell_type": "code",
   "execution_count": null,
   "id": "ee00dc2d",
   "metadata": {},
   "outputs": [],
   "source": [
    "notebook = \"05b Toy Dataset Benchmarker.ipynb\"\n",
    "dataset_name = \"noisy double helix\"\n",
    "sigma = 1\n",
    "flow_strength = 1\n",
    "smoothness_weight = 0\n",
    "flow_neighbor_loss_weight = 1\n",
    "diffdist_weight = 1\n",
    "num_neighbors = 5"
   ]
  },
  {
   "cell_type": "markdown",
   "id": "4ec21066",
   "metadata": {},
   "source": [
    "# Set Up"
   ]
  },
  {
   "cell_type": "code",
   "execution_count": null,
   "id": "cd00c59a",
   "metadata": {},
   "outputs": [],
   "source": [
    "from FRED.datasets import double_helix, directed_swiss_roll_delayed, directed_sinh_branch, rnavelo\n",
    "from FRED.data_processing import dataloader_from_ndarray, ManifoldWithVectorField\n",
    "from torch.utils.data import DataLoader\n",
    "# choose correct dataset\n",
    "if dataset_name == \"double helix\":\n",
    "    X, flow, labels = double_helix(num_nodes=2000)\n",
    "elif dataset_name == \"noisy double helix\":\n",
    "    X, flow, labels = double_helix(num_nodes=2000, noise=0.5)\n",
    "elif dataset_name == \"branch\":\n",
    "    X, flow, labels = directed_sinh_branch(num_nodes=2000)\n",
    "    \n",
    "# build dataset\n",
    "ds = ManifoldWithVectorField(X, flow, labels, sigma=sigma, dmap_coords_to_use=3, nbhd_strategy=\"flow neighbors\", n_neighbors=num_neighbors, flow_strength = flow_strength)\n",
    "dataloader = DataLoader(ds, batch_size=None, shuffle=True)"
   ]
  },
  {
   "cell_type": "markdown",
   "id": "e3e83259",
   "metadata": {},
   "source": [
    "## Set up the model"
   ]
  },
  {
   "cell_type": "code",
   "execution_count": null,
   "id": "8fe35cb8",
   "metadata": {},
   "outputs": [],
   "source": [
    "# initialize model parameters and layers\n",
    "from FRED.embed import ManifoldFlowEmbedder\n",
    "from FRED.trainers import save_embedding_visualization, visualize_points, Trainer\n",
    "title = notebook.replace('.ipynb','')\n",
    "MFE = ManifoldFlowEmbedder(\n",
    "            embedding_dimension=2,\n",
    "            embedder_shape=[3, 4, 8, 4, 2],\n",
    "            device=device,\n",
    "            sigma=0.5,\n",
    "            flow_strength=5,\n",
    "            smoothness_grid=True,\n",
    "        )\n",
    "loss_weights = {\n",
    "            \"reconstruction\": 0,\n",
    "            \"distance regularization\": diffdist_weight,\n",
    "            \"kld\": 0,\n",
    "            \"smoothness\": smoothness_weight,\n",
    "            \"flow neighbor loss\": flow_neighbor_loss_weight,\n",
    "        }\n",
    "visualization_functions = [\n",
    "    save_embedding_visualization # just save these, for use in gif making. No visualizations otherwise, to keep it tidy.\n",
    "]\n",
    "FREDtrainer = Trainer(FE = MFE, loss_weights=loss_weights, visualization_functions = visualization_functions, device=device, title = title)"
   ]
  },
  {
   "cell_type": "code",
   "execution_count": null,
   "id": "f5d6e3dd",
   "metadata": {},
   "outputs": [],
   "source": [
    "#papermill_description=FittingFRED\n",
    "FREDtrainer.fit(dataloader, n_epochs=200)"
   ]
  },
  {
   "cell_type": "markdown",
   "id": "bb45cab4",
   "metadata": {},
   "source": [
    "# Results"
   ]
  },
  {
   "cell_type": "code",
   "execution_count": null,
   "id": "e6473be4",
   "metadata": {},
   "outputs": [],
   "source": [
    "FREDtrainer.visualize_embedding()"
   ]
  },
  {
   "cell_type": "code",
   "execution_count": null,
   "id": "12f07080",
   "metadata": {},
   "outputs": [],
   "source": [
    "FREDtrainer.visualize_loss()"
   ]
  },
  {
   "cell_type": "code",
   "execution_count": null,
   "id": "33b5cafc",
   "metadata": {},
   "outputs": [],
   "source": [
    "FREDtrainer.training_gif(duration=150)"
   ]
  },
  {
   "cell_type": "markdown",
   "id": "c4b55b94",
   "metadata": {},
   "source": [
    "# Qualitative analyses"
   ]
  },
  {
   "cell_type": "code",
   "execution_count": null,
   "id": "7fa9cd12",
   "metadata": {},
   "outputs": [],
   "source": [
    "import sklearn \n",
    "silhouette = sklearn.metrics.silhouette_score(X, labels)"
   ]
  },
  {
   "cell_type": "code",
   "execution_count": null,
   "id": "21f8938c",
   "metadata": {},
   "outputs": [],
   "source": [
    "print(f\"## SCORES ## \\n silhouette score: {silhouette} \\n\")"
   ]
  },
  {
   "cell_type": "markdown",
   "id": "64c16b4f",
   "metadata": {},
   "source": [
    "# Write results to spreadsheet"
   ]
  },
  {
   "cell_type": "code",
   "execution_count": null,
   "id": "e1ace7ca",
   "metadata": {},
   "outputs": [],
   "source": [
    "# create unique identifier for notebook\n",
    "import secrets\n",
    "import string\n",
    "alphabet = string.ascii_letters + string.digits\n",
    "unid = ''.join(secrets.choice(alphabet) for i in range(20))  # for a 20-character password\n",
    "unid"
   ]
  },
  {
   "cell_type": "code",
   "execution_count": null,
   "id": "533855cf",
   "metadata": {},
   "outputs": [],
   "source": [
    "import csv\n",
    "spread_name = notebook\n",
    "with open(f\"{spread_name}.csv\", 'w') as csv_file:\n",
    "    writer = csv.writer(csv_file)\n",
    "    writer.writerow([unid, sigma, flow_strength, flow_neighbor_loss_weight,smoothness_weight, diffdist_weight, silhouette]) # unique id paired with silhouette score, so we can find the top performers easily"
   ]
  },
  {
   "cell_type": "code",
   "execution_count": null,
   "id": "a852dcc6",
   "metadata": {},
   "outputs": [],
   "source": []
  }
 ],
 "metadata": {
  "kernelspec": {
   "display_name": "Python [conda env:FRED]",
   "language": "python",
   "name": "conda-env-FRED-py"
  }
 },
 "nbformat": 4,
 "nbformat_minor": 5
}
