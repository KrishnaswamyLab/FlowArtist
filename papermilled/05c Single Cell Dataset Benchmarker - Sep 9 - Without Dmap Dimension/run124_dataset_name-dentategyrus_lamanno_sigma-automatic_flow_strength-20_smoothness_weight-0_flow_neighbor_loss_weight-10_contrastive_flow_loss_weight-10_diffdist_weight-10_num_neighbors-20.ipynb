{
 "cells": [
  {
   "cell_type": "code",
   "execution_count": null,
   "id": "bd437987",
   "metadata": {},
   "outputs": [
    {
     "name": "stdout",
     "output_type": "stream",
     "text": [
      "Using device cpu\n"
     ]
    }
   ],
   "source": [
    "from nbdev.showdoc import *\n",
    "import numpy as np\n",
    "import matplotlib.pyplot as plt\n",
    "import seaborn as sns\n",
    "import torch\n",
    "import scvelo as scv\n",
    "import FRED\n",
    "if torch.__version__[:4] == '1.14': # If using pytorch with MPS, use Apple silicon GPU acceleration\n",
    "    device = torch.device(\"cuda\" if torch.cuda.is_available() else 'mps' if torch.has_mps else \"cpu\")\n",
    "else:\n",
    "    device = torch.device(\"cuda\" if torch.cuda.is_available() else \"cpu\")\n",
    "print(\"Using device\", device)\n",
    "# sns.set_theme()\n",
    "scv.set_figure_params('scvelo')  # for beautified visualization\n",
    "%load_ext autoreload\n",
    "%autoreload 2"
   ]
  },
  {
   "cell_type": "markdown",
   "id": "87cbe05e",
   "metadata": {},
   "source": [
    "# 05c Single Cell Dataset Benchmarker\n",
    "> Run FRED on a specified single cell dataset\n",
    "\n",
    "This is set up for the popular library `papermill`, which can parameterize and execute notebooks. \n",
    "\n",
    "First, we set the notebook-wide parameters, then run the cells. Papermill will create copies of the notebook with each parameter configuration given."
   ]
  },
  {
   "cell_type": "code",
   "execution_count": null,
   "id": "00b286eb",
   "metadata": {},
   "outputs": [],
   "source": [
    "notebook = \"05c Single Cell Dataset Benchmarker\"\n",
    "dataset_name = \"pancreas\"\n",
    "sigma = 'automatic'\n",
    "flow_strength = 5\n",
    "smoothness_weight = 0\n",
    "flow_neighbor_loss_weight = 1\n",
    "contrastive_flow_loss_weight = 20\n",
    "diffdist_weight = 1\n",
    "num_neighbors = 10"
   ]
  },
  {
   "cell_type": "code",
   "execution_count": null,
   "id": "cd9bccca",
   "metadata": {},
   "outputs": [],
   "source": [
    "# Parameters\n",
    "notebook = \"05c Single Cell Dataset Benchmarker.ipynb\"\n",
    "dataset_name = \"dentategyrus_lamanno\"\n",
    "sigma = \"automatic\"\n",
    "flow_strength = 20\n",
    "smoothness_weight = 0\n",
    "flow_neighbor_loss_weight = 10\n",
    "contrastive_flow_loss_weight = 10\n",
    "diffdist_weight = 10\n",
    "num_neighbors = 20\n",
    "output_label = \"run124_dataset_name-dentategyrus_lamanno_sigma-automatic_flow_strength-20_smoothness_weight-0_flow_neighbor_loss_weight-10_contrastive_flow_loss_weight-10_diffdist_weight-10_num_neighbors-20\"\n"
   ]
  },
  {
   "cell_type": "markdown",
   "id": "9bd8ec91",
   "metadata": {},
   "source": [
    "# Set Up"
   ]
  },
  {
   "cell_type": "code",
   "execution_count": null,
   "id": "a83a2b7f",
   "metadata": {},
   "outputs": [],
   "source": [
    "# Load single cell dataset from scvelo and get associated information\n",
    "from FRED.datasets import double_helix, directed_swiss_roll_delayed, directed_sinh_branch, rnavelo, rnavelo_pcs\n",
    "from FRED.data_processing import dataloader_from_ndarray, ManifoldWithVectorField\n",
    "from torch.utils.data import DataLoader\n",
    "import scvelo as scv\n",
    "import os\n",
    "from pathlib import Path\n",
    "\n",
    "# choose correct dataset\n",
    "Xpath = f\"data/{dataset_name}/processed/X.txt\"\n",
    "if os.path.exists(Xpath):\n",
    "    X = np.loadtxt(Xpath)\n",
    "    flow = np.loadtxt(f\"data/{dataset_name}/processed/flow.txt\")\n",
    "    labels = np.loadtxt(f\"data/{dataset_name}/processed/labels.txt\")\n",
    "    latent_time = np.loadtxt(f\"data/{dataset_name}/processed/latent_time.txt\")\n",
    "else:\n",
    "    if dataset_name == \"bone marrow\":\n",
    "        adata = scv.datasets.bonemarrow()\n",
    "    elif dataset_name == \"dentategyrus\":\n",
    "        adata = scv.datasets.dentategyrus()\n",
    "    elif dataset_name == \"pancreas\":\n",
    "        adata = scv.datasets.pancreas()\n",
    "    elif dataset_name == \"dentategyrus_lamanno\":\n",
    "        adata = scv.datasets.dentategyrus_lamanno()\n",
    "    print(\"processing data with pcs\")\n",
    "    X, flow, labels, n_pcs = rnavelo_pcs(adata)\n",
    "    # dynamical recovery\n",
    "    scv.tl.recover_dynamics(adata, n_jobs=1)\n",
    "    scv.tl.latent_time(adata)\n",
    "    latent_time = adata.obs['latent_time'].to_numpy()\n",
    "    # save the processed data to np txt files for ready loading in the future\n",
    "    Path(f\"data/{dataset_name}/processed\").mkdir(parents = True,exist_ok=True)\n",
    "    np.savetxt(f\"data/{dataset_name}/processed/X.txt\",X)\n",
    "    np.savetxt(f\"data/{dataset_name}/processed/flow.txt\",flow)\n",
    "    np.savetxt(f\"data/{dataset_name}/processed/labels.txt\",labels)\n",
    "    np.savetxt(f\"data/{dataset_name}/processed/latent_time.txt\",latent_time)\n"
   ]
  },
  {
   "cell_type": "code",
   "execution_count": null,
   "id": "aa884a86",
   "metadata": {},
   "outputs": [
    {
     "name": "stdout",
     "output_type": "stream",
     "text": [
      "Set sigma =  4.0083504\n"
     ]
    }
   ],
   "source": [
    "# build dataset\n",
    "ds = ManifoldWithVectorField(X, flow, labels, sigma=sigma, dmap_coords_to_use=10, nbhd_strategy=\"flow neighbors\", n_neighbors=num_neighbors, flow_strength = flow_strength)\n",
    "dataloader = DataLoader(ds, batch_size=None, shuffle=True)"
   ]
  },
  {
   "cell_type": "code",
   "execution_count": null,
   "id": "22086f22",
   "metadata": {},
   "outputs": [],
   "source": [
    "X.shape"
   ]
  },
  {
   "cell_type": "markdown",
   "id": "aecbabc4",
   "metadata": {},
   "source": [
    "## Set up the model"
   ]
  },
  {
   "cell_type": "code",
   "execution_count": null,
   "id": "cfe544f7",
   "metadata": {},
   "outputs": [],
   "source": [
    "# initialize model parameters and layers\n",
    "from FRED.embed import ManifoldFlowEmbedder\n",
    "from FRED.trainers import save_embedding_visualization, visualize_points, Trainer\n",
    "title = notebook.replace('.ipynb','')\n",
    "MFE = ManifoldFlowEmbedder(\n",
    "            embedding_dimension=2,\n",
    "            embedder_shape=[X.shape[1], 20, 10, 5, 2],\n",
    "            device=device,\n",
    "            sigma=5,\n",
    "            flow_strength=1,\n",
    "            smoothness_grid=True,\n",
    "        )\n",
    "loss_weights = {\n",
    "            \"reconstruction\": 0,\n",
    "            \"diffusion map regularization\": diffdist_weight,\n",
    "            \"kld\": 0,\n",
    "            \"smoothness\": smoothness_weight,\n",
    "            \"flow neighbor loss\": flow_neighbor_loss_weight,\n",
    "            \"contrastive flow loss\": contrastive_flow_loss_weight,\n",
    "        }\n",
    "visualization_functions = [\n",
    "    save_embedding_visualization # just save these, for use in gif making. No visualizations otherwise, to keep it tidy.\n",
    "]\n",
    "FREDtrainer = Trainer(FE = MFE, loss_weights=loss_weights, visualization_functions = visualization_functions, device=device, title = title)"
   ]
  },
  {
   "cell_type": "code",
   "execution_count": null,
   "id": "a2085233",
   "metadata": {},
   "outputs": [],
   "source": [
    "#papermill_description=FittingFRED\n",
    "FREDtrainer.fit(dataloader, n_epochs=10)"
   ]
  },
  {
   "cell_type": "markdown",
   "id": "41d28baf",
   "metadata": {},
   "source": [
    "# Results"
   ]
  },
  {
   "cell_type": "code",
   "execution_count": null,
   "id": "66aa961f",
   "metadata": {},
   "outputs": [],
   "source": [
    "FREDtrainer.visualize_embedding()"
   ]
  },
  {
   "cell_type": "code",
   "execution_count": null,
   "id": "f0127d3c",
   "metadata": {},
   "outputs": [],
   "source": [
    "FREDtrainer.visualize_loss()"
   ]
  },
  {
   "cell_type": "code",
   "execution_count": null,
   "id": "a07ca36f",
   "metadata": {},
   "outputs": [],
   "source": [
    "FREDtrainer.training_gif(duration=150)"
   ]
  },
  {
   "cell_type": "markdown",
   "id": "5d325062",
   "metadata": {},
   "source": [
    "# Qualitative analyses"
   ]
  },
  {
   "cell_type": "markdown",
   "id": "0b3d7b3f",
   "metadata": {},
   "source": [
    "We combine the embedded points with their velocities in the embedding space. "
   ]
  },
  {
   "cell_type": "code",
   "execution_count": null,
   "id": "757c5357",
   "metadata": {},
   "outputs": [],
   "source": [
    "embedded_points = FREDtrainer.embedded_points.cpu().detach().numpy()\n",
    "embedded_velocities = FREDtrainer.embedded_velocities.cpu().detach().numpy()"
   ]
  },
  {
   "cell_type": "code",
   "execution_count": null,
   "id": "4970df02",
   "metadata": {},
   "outputs": [],
   "source": [
    "# create unique identifier for notebook\n",
    "import secrets\n",
    "import string\n",
    "alphabet = string.ascii_letters + string.digits\n",
    "unid = ''.join(secrets.choice(alphabet) for i in range(20))  # for a 20-character password\n",
    "spread_name = notebook + \"_dataset_\" + dataset_name\n",
    "unid"
   ]
  },
  {
   "cell_type": "code",
   "execution_count": null,
   "id": "54e37bde",
   "metadata": {},
   "outputs": [],
   "source": [
    "from FRED.metrics import comprehensive_flow_metrics\n",
    "silhouette_score, silhouete_score_with_flow, knn_score, neighbor_score, monotone_score = comprehensive_flow_metrics(\n",
    "    X = X,\n",
    "    flows = flow,\n",
    "    labels = labels,\n",
    "    embedded_points = embedded_points,\n",
    "    embedded_velocities = embedded_velocities,\n",
    "    time_labels = latent_time,\n",
    "    spreadsheet_name=spread_name,\n",
    "    unid = unid,\n",
    ")"
   ]
  },
  {
   "cell_type": "code",
   "execution_count": null,
   "id": "a9b8e62b",
   "metadata": {},
   "outputs": [],
   "source": [
    "import csv\n",
    "with open(f\"results/{spread_name}.csv\", 'a') as csv_file:\n",
    "        writer = csv.writer(csv_file)\n",
    "        writer.writerow(\n",
    "            [unid,\n",
    "            sigma,\n",
    "            flow_strength,\n",
    "            flow_neighbor_loss_weight,\n",
    "            contrastive_flow_loss_weight,\n",
    "            num_neighbors,\n",
    "            smoothness_weight,\n",
    "            diffdist_weight,\n",
    "            silhouette_score,\n",
    "            silhouete_score_with_flow,\n",
    "            knn_score,\n",
    "            neighbor_score, \n",
    "            monotone_score,\n",
    "            ])"
   ]
  },
  {
   "cell_type": "markdown",
   "id": "78f1604e",
   "metadata": {},
   "source": [
    "# Save embeddings to txt files"
   ]
  },
  {
   "cell_type": "code",
   "execution_count": null,
   "id": "f89ac7fe",
   "metadata": {},
   "outputs": [],
   "source": [
    "filename = f\"{spread_name} - {dataset_name} - {unid}\"\n",
    "np.savetxt(f'embeddings/{filename} - X.txt',FREDtrainer.embedded_points.detach().cpu().numpy())\n",
    "np.savetxt(f'embeddings/{filename} - V.txt',FREDtrainer.embedded_velocities.detach().cpu().numpy())"
   ]
  },
  {
   "cell_type": "code",
   "execution_count": null,
   "id": "2478fcdc",
   "metadata": {},
   "outputs": [],
   "source": []
  }
 ],
 "metadata": {
  "kernelspec": {
   "display_name": "Python 3 (ipykernel)",
   "language": "python",
   "name": "python3"
  }
 },
 "nbformat": 4,
 "nbformat_minor": 5
}
