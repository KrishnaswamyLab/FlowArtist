{
 "cells": [
  {
   "cell_type": "code",
   "execution_count": null,
   "id": "fd0999d6",
   "metadata": {},
   "outputs": [
    {
     "name": "stdout",
     "output_type": "stream",
     "text": [
      "Using device cpu\n"
     ]
    }
   ],
   "source": [
    "from nbdev.showdoc import *\n",
    "import numpy as np\n",
    "import matplotlib.pyplot as plt\n",
    "import seaborn as sns\n",
    "import torch\n",
    "import scvelo as scv\n",
    "import FRED\n",
    "if torch.__version__[:4] == '1.14': # If using pytorch with MPS, use Apple silicon GPU acceleration\n",
    "    device = torch.device(\"cuda\" if torch.cuda.is_available() else 'mps' if torch.has_mps else \"cpu\")\n",
    "else:\n",
    "    device = torch.device(\"cuda\" if torch.cuda.is_available() else \"cpu\")\n",
    "print(\"Using device\", device)\n",
    "# sns.set_theme()\n",
    "scv.set_figure_params('scvelo')  # for beautified visualization\n",
    "%load_ext autoreload\n",
    "%autoreload 2"
   ]
  },
  {
   "cell_type": "markdown",
   "id": "af1af81b",
   "metadata": {},
   "source": [
    "# 05c Single Cell Dataset Benchmarker\n",
    "> Run FRED on a specified single cell dataset\n",
    "\n",
    "This is set up for the popular library `papermill`, which can parameterize and execute notebooks. \n",
    "\n",
    "First, we set the notebook-wide parameters, then run the cells. Papermill will create copies of the notebook with each parameter configuration given."
   ]
  },
  {
   "cell_type": "code",
   "execution_count": null,
   "id": "6debe489",
   "metadata": {},
   "outputs": [],
   "source": [
    "notebook = \"05c Single Cell Dataset Benchmarker\"\n",
    "dataset_name = \"pancreas\"\n",
    "sigma = 'automatic'\n",
    "flow_strength = 5\n",
    "smoothness_weight = 0\n",
    "flow_neighbor_loss_weight = 1\n",
    "contrastive_flow_loss_weight = 20\n",
    "diffdist_weight = 1\n",
    "num_neighbors = 10"
   ]
  },
  {
   "cell_type": "code",
   "execution_count": null,
   "id": "b2a13c55",
   "metadata": {},
   "outputs": [],
   "source": [
    "# Parameters\n",
    "notebook = \"05c Single Cell Dataset Benchmarker.ipynb\"\n",
    "dataset_name = \"dentategyrus_lamanno\"\n",
    "sigma = \"automatic\"\n",
    "flow_strength = 10\n",
    "smoothness_weight = 0\n",
    "flow_neighbor_loss_weight = 1\n",
    "contrastive_flow_loss_weight = 10\n",
    "diffdist_weight = 1\n",
    "num_neighbors = 10\n",
    "output_label = \"run4_dataset_name-dentategyrus_lamanno_sigma-automatic_flow_strength-10_smoothness_weight-0_flow_neighbor_loss_weight-1_contrastive_flow_loss_weight-10_diffdist_weight-1_num_neighbors-10\"\n"
   ]
  },
  {
   "cell_type": "markdown",
   "id": "bea4a2da",
   "metadata": {},
   "source": [
    "# Set Up"
   ]
  },
  {
   "cell_type": "code",
   "execution_count": null,
   "id": "1f148a2f",
   "metadata": {},
   "outputs": [
    {
     "name": "stdout",
     "output_type": "stream",
     "text": [
      "processing data with pcs\n"
     ]
    },
    {
     "name": "stdout",
     "output_type": "stream",
     "text": [
      "Normalized count data: X, spliced, unspliced.\n",
      "Logarithmized X.\n"
     ]
    },
    {
     "name": "stdout",
     "output_type": "stream",
     "text": [
      "computing neighbors\n"
     ]
    },
    {
     "name": "stdout",
     "output_type": "stream",
     "text": [
      "    finished (0:00:08) --> added \n",
      "    'distances' and 'connectivities', weighted adjacency matrices (adata.obsp)\n",
      "computing moments based on connectivities\n"
     ]
    },
    {
     "name": "stdout",
     "output_type": "stream",
     "text": [
      "    finished (0:00:10) --> added \n",
      "    'Ms' and 'Mu', moments of un/spliced abundances (adata.layers)\n",
      "computing velocities\n"
     ]
    },
    {
     "name": "stdout",
     "output_type": "stream",
     "text": [
      "    finished (0:00:36) --> added \n",
      "    'velocity', velocity vectors for each individual cell (adata.layers)\n"
     ]
    },
    {
     "name": "stdout",
     "output_type": "stream",
     "text": [
      "computing velocity graph (using 1/10 cores)\n"
     ]
    },
    {
     "data": {
      "application/vnd.jupyter.widget-view+json": {
       "model_id": "b99f57c291de415da80338dd6f21f913",
       "version_major": 2,
       "version_minor": 0
      },
      "text/plain": [
       "  0%|          | 0/18213 [00:00<?, ?cells/s]"
      ]
     },
     "metadata": {},
     "output_type": "display_data"
    },
    {
     "name": "stdout",
     "output_type": "stream",
     "text": [
      "    finished (0:02:41) --> added \n",
      "    'velocity_graph', sparse matrix with cosine correlations (adata.uns)\n",
      "computing velocity embedding\n"
     ]
    },
    {
     "name": "stdout",
     "output_type": "stream",
     "text": [
      "    finished (0:00:02) --> added\n",
      "    'velocity_pca', embedded velocity vectors (adata.obsm)\n",
      "recovering dynamics (using 6/10 cores)\n"
     ]
    },
    {
     "data": {
      "application/vnd.jupyter.widget-view+json": {
       "model_id": "842b1499584a48dab7b8457e410b2139",
       "version_major": 2,
       "version_minor": 0
      },
      "text/plain": [
       "  0%|          | 0/2793 [00:00<?, ?gene/s]"
      ]
     },
     "metadata": {},
     "output_type": "display_data"
    },
    {
     "name": "stdout",
     "output_type": "stream",
     "text": [
      "    finished (0:10:08) --> added \n",
      "    'fit_pars', fitted parameters for splicing dynamics (adata.var)\n",
      "computing terminal states\n"
     ]
    },
    {
     "name": "stdout",
     "output_type": "stream",
     "text": [
      "    identified 3 regions of root cells and 3 regions of end points .\n",
      "    finished (0:00:01) --> added\n",
      "    'root_cells', root cells of Markov diffusion process (adata.obs)\n",
      "    'end_points', end points of Markov diffusion process (adata.obs)\n"
     ]
    },
    {
     "name": "stdout",
     "output_type": "stream",
     "text": [
      "computing latent time using root_cells as prior\n"
     ]
    },
    {
     "name": "stdout",
     "output_type": "stream",
     "text": [
      "    finished (0:00:12) --> added \n",
      "    'latent_time', shared time (adata.obs)\n"
     ]
    }
   ],
   "source": [
    "# Load single cell dataset from scvelo and get associated information\n",
    "from FRED.datasets import double_helix, directed_swiss_roll_delayed, directed_sinh_branch, rnavelo, rnavelo_pcs\n",
    "from FRED.data_processing import dataloader_from_ndarray, ManifoldWithVectorField\n",
    "from torch.utils.data import DataLoader\n",
    "import scvelo as scv\n",
    "# choose correct dataset\n",
    "if dataset_name == \"bone marrow\":\n",
    "    adata = scv.datasets.bonemarrow()\n",
    "elif dataset_name == \"dentategyrus\":\n",
    "    adata = scv.datasets.dentategyrus()\n",
    "elif dataset_name == \"pancreas\":\n",
    "    adata = scv.datasets.pancreas()\n",
    "elif dataset_name == \"dentategyrus_lamanno\":\n",
    "    adata = scv.datasets.dentategyrus_lamanno()\n",
    "\n",
    "print(\"processing data with pcs\")\n",
    "X, flow, labels, n_pcs = rnavelo_pcs(adata)\n",
    "# dynamical recovery\n",
    "scv.tl.recover_dynamics(adata, n_jobs=6)\n",
    "scv.tl.latent_time(adata)\n",
    "latent_time = adata.obs['latent_time'].to_numpy()"
   ]
  },
  {
   "cell_type": "code",
   "execution_count": null,
   "id": "e008b40f",
   "metadata": {},
   "outputs": [
    {
     "name": "stdout",
     "output_type": "stream",
     "text": [
      "Set sigma =  4.008358\n"
     ]
    }
   ],
   "source": [
    "# build dataset\n",
    "ds = ManifoldWithVectorField(X, flow, labels, sigma=sigma, dmap_coords_to_use=10, nbhd_strategy=\"flow neighbors\", n_neighbors=num_neighbors, flow_strength = flow_strength)\n",
    "dataloader = DataLoader(ds, batch_size=None, shuffle=True)"
   ]
  },
  {
   "cell_type": "code",
   "execution_count": null,
   "id": "43326a8e",
   "metadata": {},
   "outputs": [],
   "source": [
    "X.shape"
   ]
  },
  {
   "cell_type": "markdown",
   "id": "d8b1f48b",
   "metadata": {},
   "source": [
    "## Set up the model"
   ]
  },
  {
   "cell_type": "code",
   "execution_count": null,
   "id": "1b0f8256",
   "metadata": {},
   "outputs": [],
   "source": [
    "# initialize model parameters and layers\n",
    "from FRED.embed import ManifoldFlowEmbedder\n",
    "from FRED.trainers import save_embedding_visualization, visualize_points, Trainer\n",
    "title = notebook.replace('.ipynb','')\n",
    "MFE = ManifoldFlowEmbedder(\n",
    "            embedding_dimension=2,\n",
    "            embedder_shape=[X.shape[1], 20, 10, 5, 2],\n",
    "            device=device,\n",
    "            sigma=5,\n",
    "            flow_strength=1,\n",
    "            smoothness_grid=True,\n",
    "        )\n",
    "loss_weights = {\n",
    "            \"reconstruction\": 0,\n",
    "            \"diffusion map regularization\": diffdist_weight,\n",
    "            \"kld\": 0,\n",
    "            \"smoothness\": smoothness_weight,\n",
    "            \"flow neighbor loss\": flow_neighbor_loss_weight,\n",
    "            \"contrastive flow loss\": contrastive_flow_loss_weight,\n",
    "        }\n",
    "visualization_functions = [\n",
    "    save_embedding_visualization # just save these, for use in gif making. No visualizations otherwise, to keep it tidy.\n",
    "]\n",
    "FREDtrainer = Trainer(FE = MFE, loss_weights=loss_weights, visualization_functions = visualization_functions, device=device, title = title)"
   ]
  },
  {
   "cell_type": "code",
   "execution_count": null,
   "id": "df62858f",
   "metadata": {},
   "outputs": [],
   "source": [
    "#papermill_description=FittingFRED\n",
    "FREDtrainer.fit(dataloader, n_epochs=10)"
   ]
  },
  {
   "cell_type": "markdown",
   "id": "afa4b74b",
   "metadata": {},
   "source": [
    "# Results"
   ]
  },
  {
   "cell_type": "code",
   "execution_count": null,
   "id": "aa3adc10",
   "metadata": {},
   "outputs": [],
   "source": [
    "FREDtrainer.visualize_embedding()"
   ]
  },
  {
   "cell_type": "code",
   "execution_count": null,
   "id": "eff03205",
   "metadata": {},
   "outputs": [],
   "source": [
    "FREDtrainer.visualize_loss()"
   ]
  },
  {
   "cell_type": "code",
   "execution_count": null,
   "id": "25a8fa97",
   "metadata": {},
   "outputs": [],
   "source": [
    "FREDtrainer.training_gif(duration=150)"
   ]
  },
  {
   "cell_type": "markdown",
   "id": "c2dc4406",
   "metadata": {},
   "source": [
    "# Qualitative analyses"
   ]
  },
  {
   "cell_type": "markdown",
   "id": "f856f6d3",
   "metadata": {},
   "source": [
    "We combine the embedded points with their velocities in the embedding space. "
   ]
  },
  {
   "cell_type": "code",
   "execution_count": null,
   "id": "b0aa3ecc",
   "metadata": {},
   "outputs": [],
   "source": [
    "embedded_points = FREDtrainer.embedded_points.cpu().detach().numpy()\n",
    "embedded_velocities = FREDtrainer.embedded_velocities.cpu().detach().numpy()"
   ]
  },
  {
   "cell_type": "code",
   "execution_count": null,
   "id": "8f757e98",
   "metadata": {},
   "outputs": [],
   "source": [
    "# create unique identifier for notebook\n",
    "import secrets\n",
    "import string\n",
    "alphabet = string.ascii_letters + string.digits\n",
    "unid = ''.join(secrets.choice(alphabet) for i in range(20))  # for a 20-character password\n",
    "spread_name = notebook + \"_dataset_\" + dataset_name\n",
    "unid"
   ]
  },
  {
   "cell_type": "code",
   "execution_count": null,
   "id": "3ba93668",
   "metadata": {},
   "outputs": [],
   "source": [
    "from FRED.metrics import comprehensive_flow_metrics\n",
    "silhouette_score, silhouete_score_with_flow, knn_score, neighbor_score, monotone_score = comprehensive_flow_metrics(\n",
    "    X = X,\n",
    "    flows = flow,\n",
    "    labels = labels,\n",
    "    embedded_points = embedded_points,\n",
    "    embedded_velocities = embedded_velocities,\n",
    "    time_labels = latent_time,\n",
    "    spreadsheet_name=spread_name,\n",
    "    unid = unid,\n",
    ")"
   ]
  },
  {
   "cell_type": "code",
   "execution_count": null,
   "id": "285adbc6",
   "metadata": {},
   "outputs": [],
   "source": [
    "import csv\n",
    "with open(f\"results/{spread_name}.csv\", 'a') as csv_file:\n",
    "        writer = csv.writer(csv_file)\n",
    "        writer.writerow(\n",
    "            [unid,\n",
    "            sigma,\n",
    "            flow_strength,\n",
    "            flow_neighbor_loss_weight,\n",
    "            contrastive_flow_loss_weight,\n",
    "            num_neighbors,\n",
    "            smoothness_weight,\n",
    "            diffdist_weight,\n",
    "            silhouette_score,\n",
    "            silhouete_score_with_flow,\n",
    "            knn_score,\n",
    "            neighbor_score, \n",
    "            monotone_score,\n",
    "            ])"
   ]
  },
  {
   "cell_type": "markdown",
   "id": "2ef129b6",
   "metadata": {},
   "source": [
    "# Save embeddings to txt files"
   ]
  },
  {
   "cell_type": "code",
   "execution_count": null,
   "id": "65b15fab",
   "metadata": {},
   "outputs": [],
   "source": [
    "filename = f\"{spread_name} - {dataset_name} - {unid}\"\n",
    "np.savetxt(f'embeddings/{filename} - X.txt',FREDtrainer.embedded_points.detach())\n",
    "np.savetxt(f'embeddings/{filename} - V.txt',FREDtrainer.embedded_velocities.detach())"
   ]
  },
  {
   "cell_type": "code",
   "execution_count": null,
   "id": "457eead0",
   "metadata": {},
   "outputs": [],
   "source": []
  }
 ],
 "metadata": {
  "kernelspec": {
   "display_name": "Python 3.9.13 ('FRED')",
   "language": "python",
   "name": "python3"
  }
 },
 "nbformat": 4,
 "nbformat_minor": 5
}
