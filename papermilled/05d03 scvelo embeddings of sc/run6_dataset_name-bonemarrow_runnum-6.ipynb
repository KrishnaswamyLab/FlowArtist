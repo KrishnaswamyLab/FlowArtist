{
 "cells": [
  {
   "cell_type": "markdown",
   "id": "6b406071",
   "metadata": {},
   "source": [
    "<span style=\"color:red; font-family:Helvetica Neue, Helvetica, Arial, sans-serif; font-size:2em;\">An Exception was encountered at '<a href=\"#papermill-error-cell\">In [3]</a>'.</span>"
   ]
  },
  {
   "cell_type": "code",
   "execution_count": null,
   "id": "01416e0a-4fdc-48b2-aa77-9162d761dc56",
   "metadata": {},
   "outputs": [
    {
     "name": "stdout",
     "output_type": "stream",
     "text": [
      "Using device cpu\n"
     ]
    }
   ],
   "source": [
    "from nbdev.showdoc import *\n",
    "import numpy as np\n",
    "import matplotlib.pyplot as plt\n",
    "import seaborn as sns\n",
    "import torch\n",
    "import umap\n",
    "import scvelo as scv\n",
    "import FRED\n",
    "if torch.__version__[:4] == '1.14': # If using pytorch with MPS, use Apple silicon GPU acceleration\n",
    "    device = torch.device(\"cuda\" if torch.cuda.is_available() else 'mps' if torch.has_mps else \"cpu\")\n",
    "else:\n",
    "    device = torch.device(\"cuda\" if torch.cuda.is_available() else \"cpu\")\n",
    "print(\"Using device\", device)\n",
    "# sns.set_theme()\n",
    "%load_ext autoreload\n",
    "%autoreload 2\n",
    "# set scvelo figures\n",
    "scv.set_figure_params()"
   ]
  },
  {
   "cell_type": "markdown",
   "id": "b5f6d8b7-6aad-4099-bc65-9956aa578e90",
   "metadata": {},
   "source": [
    "# 05d01 scVelo on Single Cell Datasets\n",
    "> Get scVelo's finest embeddings for its hallmark datasets, as baselines\n",
    "\n",
    "This is a workflow to embed scVelo's datasets using its own state-of-the-art tools -- so that we can compare them to FRED's embeddings.\n",
    "\n",
    "For each of the datasets, we'll obtain: \n",
    "1. scVelo's UMAP visualizations with projected arrows\n",
    "2. scVelo's latent time computation on the dataset\n",
    "Both of these will be saved in np txt format for future use."
   ]
  },
  {
   "cell_type": "code",
   "execution_count": null,
   "id": "c4f7af15-4fb5-4e03-b5fd-41b2ba700142",
   "metadata": {},
   "outputs": [],
   "source": [
    "notebook = \"05d03 scvelo embeddings of sc\"\n",
    "dataset_name = \"pancreas\""
   ]
  },
  {
   "cell_type": "markdown",
   "id": "d327406d",
   "metadata": {},
   "source": [
    "<span id=\"papermill-error-cell\" style=\"color:red; font-family:Helvetica Neue, Helvetica, Arial, sans-serif; font-size:2em;\">Execution using papermill encountered an exception here and stopped:</span>"
   ]
  },
  {
   "cell_type": "code",
   "execution_count": null,
   "id": "4bccffbe",
   "metadata": {},
   "outputs": [
    {
     "ename": "SyntaxError",
     "evalue": "invalid syntax (1506473811.py, line 4)",
     "output_type": "error",
     "traceback": [
      "\u001b[0;36m  Input \u001b[0;32mIn [3]\u001b[0;36m\u001b[0m\n\u001b[0;31m    run num = 6\u001b[0m\n\u001b[0m        ^\u001b[0m\n\u001b[0;31mSyntaxError\u001b[0m\u001b[0;31m:\u001b[0m invalid syntax\n"
     ]
    }
   ],
   "source": [
    "# Parameters\n",
    "notebook = \"05d03 scvelo embeddings of sc.ipynb\"\n",
    "dataset_name = \"bone marrow\"\n",
    "run num = 6\n",
    "output_label = \"run6_dataset_name-bonemarrow_runnum-6\"\n"
   ]
  },
  {
   "cell_type": "markdown",
   "id": "9d7d6721-0d05-496b-a9c9-350d07d051bb",
   "metadata": {},
   "source": [
    "# Set Up\n",
    "Adapted from scVelo's tutorials"
   ]
  },
  {
   "cell_type": "code",
   "execution_count": null,
   "id": "b5de202e",
   "metadata": {},
   "outputs": [],
   "source": [
    "scv.settings.verbosity = 3  # show errors(0), warnings(1), info(2), hints(3)\n",
    "scv.settings.presenter_view = True  # set max width size for presenter view\n",
    "scv.set_figure_params('scvelo')  # for beautified visualization"
   ]
  },
  {
   "cell_type": "code",
   "execution_count": null,
   "id": "ee1fbfd6-d95c-499d-80fe-e3c553674ac2",
   "metadata": {},
   "outputs": [],
   "source": [
    "from FRED.datasets import double_helix, directed_swiss_roll_delayed, directed_sinh_branch, rnavelo, rnavelo_pcs\n",
    "from FRED.data_processing import dataloader_from_ndarray, ManifoldWithVectorField\n",
    "from torch.utils.data import DataLoader\n",
    "import scvelo as scv\n",
    "# choose correct dataset\n",
    "if dataset_name == \"bone marrow\":\n",
    "    adata = scv.datasets.bonemarrow()\n",
    "elif dataset_name == \"dentategyrus\":\n",
    "    adata = scv.datasets.dentategyrus()\n",
    "elif dataset_name == \"pancreas\":\n",
    "    adata = scv.datasets.pancreas()\n",
    "elif dataset_name == \"dentategyrus_lamanno\":\n",
    "    adata = scv.datasets.dentategyrus_lamanno()\n",
    "else:\n",
    "    print(f\"Dataset {dataset_name} does not exist\")\n",
    "    raise NotImplementedError"
   ]
  },
  {
   "cell_type": "code",
   "execution_count": null,
   "id": "5412ac92-2e2d-4d96-9ef1-6b235dc486a5",
   "metadata": {},
   "outputs": [],
   "source": [
    "from FRED.datasets import rnavelo_preprocess, rnavelo, rnavelo_pcs, rnavelo_add_labels\n",
    "# preprocess\n",
    "scv.pp.filter_and_normalize(adata, min_shared_counts=20, n_top_genes=2000)\n",
    "scv.pp.moments(adata, n_pcs=30, n_neighbors=30)"
   ]
  },
  {
   "cell_type": "code",
   "execution_count": null,
   "id": "abb30dd3",
   "metadata": {},
   "outputs": [],
   "source": [
    "# dynamical recovery\n",
    "scv.tl.recover_dynamics(adata, n_jobs=1)\n",
    "\n",
    "scv.tl.velocity(adata, mode='dynamical')\n",
    "scv.tl.velocity_graph(adata)\n",
    "\n",
    "scv.tl.latent_time(adata)"
   ]
  },
  {
   "cell_type": "code",
   "execution_count": null,
   "id": "e9ff9375",
   "metadata": {},
   "outputs": [],
   "source": [
    "# get umap embedding of data\n",
    "scv.tl.umap(adata)"
   ]
  },
  {
   "cell_type": "code",
   "execution_count": null,
   "id": "cd9bf21f",
   "metadata": {},
   "outputs": [],
   "source": [
    "scv.pl.velocity_embedding(adata, basis='umap')"
   ]
  },
  {
   "cell_type": "code",
   "execution_count": null,
   "id": "55f7aca1",
   "metadata": {},
   "outputs": [],
   "source": [
    "scv.pl.velocity_embedding_stream(adata, basis='umap')"
   ]
  },
  {
   "cell_type": "code",
   "execution_count": null,
   "id": "a55d3b51",
   "metadata": {},
   "outputs": [],
   "source": [
    "latent_time = adata.obs['latent_time'].to_numpy()"
   ]
  },
  {
   "cell_type": "code",
   "execution_count": null,
   "id": "77929615",
   "metadata": {},
   "outputs": [],
   "source": [
    "scv.tl.velocity_embedding(adata, basis='pca', direct_pca_projection=False)"
   ]
  },
  {
   "cell_type": "code",
   "execution_count": null,
   "id": "44766412",
   "metadata": {},
   "outputs": [],
   "source": [
    "labels = rnavelo_add_labels(adata)\n",
    "X = torch.tensor(adata.obsm[\"X_pca\"].copy())\n",
    "flows = torch.tensor(adata.obsm[\"velocity_pca\"].copy())"
   ]
  },
  {
   "cell_type": "markdown",
   "id": "2c98478e",
   "metadata": {},
   "source": [
    "# Save embedding for future use"
   ]
  },
  {
   "cell_type": "code",
   "execution_count": null,
   "id": "53951713",
   "metadata": {},
   "outputs": [],
   "source": [
    "adata"
   ]
  },
  {
   "cell_type": "code",
   "execution_count": null,
   "id": "56558499",
   "metadata": {},
   "outputs": [],
   "source": [
    "embedded_points = adata.obsm['X_umap']"
   ]
  },
  {
   "cell_type": "code",
   "execution_count": null,
   "id": "fca21a5e",
   "metadata": {},
   "outputs": [],
   "source": [
    "embedded_velocities = adata.obsm['velocity_umap']"
   ]
  },
  {
   "cell_type": "markdown",
   "id": "e591010b-4b74-4c92-8333-fef0c005b17d",
   "metadata": {},
   "source": [
    "# Metric Evaluation"
   ]
  },
  {
   "cell_type": "code",
   "execution_count": null,
   "id": "24c5884a-9ea7-4ab2-852e-6fc069279f3d",
   "metadata": {},
   "outputs": [],
   "source": [
    "# create unique identifier for notebook\n",
    "import secrets\n",
    "import string\n",
    "alphabet = string.ascii_letters + string.digits\n",
    "unid = ''.join(secrets.choice(alphabet) for i in range(20))  # for a 20-character password\n",
    "spread_name = notebook + \"_dataset_\" + dataset_name\n",
    "unid"
   ]
  },
  {
   "cell_type": "code",
   "execution_count": null,
   "id": "6ec5ce69",
   "metadata": {},
   "outputs": [],
   "source": [
    "from FRED.metrics import comprehensive_flow_metrics\n",
    "silhouette_score, silhouete_score_with_flow, knn_score, neighbor_score, monotone_score = comprehensive_flow_metrics(\n",
    "    X = X,\n",
    "    flows = flows,\n",
    "    labels = labels,\n",
    "    embedded_points = embedded_points,\n",
    "    embedded_velocities = embedded_velocities,\n",
    "    time_labels = latent_time,\n",
    "    spreadsheet_name=spread_name,\n",
    "    unid = unid,\n",
    ")"
   ]
  },
  {
   "cell_type": "code",
   "execution_count": null,
   "id": "26f153de",
   "metadata": {},
   "outputs": [],
   "source": [
    "import csv\n",
    "with open(f\"results/{spread_name}.csv\", 'a') as csv_file:\n",
    "        writer = csv.writer(csv_file)\n",
    "        writer.writerow(\n",
    "            [unid,\n",
    "            silhouette_score,\n",
    "            silhouete_score_with_flow,\n",
    "            knn_score,\n",
    "            neighbor_score, \n",
    "            monotone_score,\n",
    "            ])"
   ]
  },
  {
   "cell_type": "code",
   "execution_count": null,
   "id": "78095495",
   "metadata": {},
   "outputs": [],
   "source": []
  }
 ],
 "metadata": {
  "kernelspec": {
   "display_name": "Python 3 (ipykernel)",
   "language": "python",
   "name": "python3"
  }
 },
 "nbformat": 4,
 "nbformat_minor": 5
}
