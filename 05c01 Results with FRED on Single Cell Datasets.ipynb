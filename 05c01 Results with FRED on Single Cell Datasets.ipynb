{
 "cells": [
  {
   "cell_type": "code",
   "execution_count": null,
   "id": "2993f79c-507f-4176-adbf-9bac9e3a2367",
   "metadata": {},
   "outputs": [
    {
     "name": "stdout",
     "output_type": "stream",
     "text": [
      "Using device cuda\n",
      "The autoreload extension is already loaded. To reload it, use:\n",
      "  %reload_ext autoreload\n"
     ]
    }
   ],
   "source": [
    "# default_exp testing_utils\n",
    "from nbdev.showdoc import *\n",
    "import numpy as np\n",
    "import matplotlib.pyplot as plt\n",
    "import torch\n",
    "import FRED\n",
    "if torch.__version__[:4] == '1.14': # If using pytorch with MPS, use Apple silicon GPU acceleration\n",
    "    device = torch.device(\"cuda\" if torch.cuda.is_available() else 'mps' if torch.has_mps else \"cpu\")\n",
    "else:\n",
    "    device = torch.device(\"cuda\" if torch.cuda.is_available() else \"cpu\")\n",
    "print(\"Using device\", device)\n",
    "%load_ext autoreload\n",
    "%autoreload 2"
   ]
  },
  {
   "cell_type": "markdown",
   "id": "487b27d9-0b33-4144-b6bd-50238ffc266d",
   "metadata": {},
   "source": [
    "# Comprehensive Single Cell Results with FRED"
   ]
  },
  {
   "cell_type": "markdown",
   "id": "41ceacff-409b-4075-951b-624aaad71169",
   "metadata": {},
   "source": [
    "Explanation: this notebook prepares a `papermill` powered test of the toy dataset benchmarker, using the noisy double helix as our protege.\n",
    "\n",
    "Here's what it does:\n",
    "1. Start with a dict of possible parameters, each contained in a list, like this:"
   ]
  },
  {
   "cell_type": "code",
   "execution_count": null,
   "id": "6fae9521-29c1-40c8-bbdd-d36b5c84ddeb",
   "metadata": {},
   "outputs": [],
   "source": [
    "import papermill as pm"
   ]
  },
  {
   "cell_type": "code",
   "execution_count": null,
   "id": "ffeea246-a50e-4d0f-9474-0543b3306b65",
   "metadata": {},
   "outputs": [],
   "source": [
    "parameters_dict = {\n",
    "    'notebook' : ['05c Single Cell Dataset Benchmarker.ipynb'], # the notebook we are inserting these parameters into\n",
    "    'dataset_name' : ['bone marrow', 'dentategyrus','pancreas','dentategyrus_lamanno'],\n",
    "    'sigma' : ['automatic'],\n",
    "    'flow_strength' : [10, 20],\n",
    "    'smoothness_weight' : [0],\n",
    "    'flow_neighbor_loss_weight' : [1, 10],\n",
    "    'contrastive_flow_loss_weight':[10, 20],\n",
    "    'diffdist_weight' : [1, 10],\n",
    "    'num_neighbors' : [10, 20]\n",
    "}"
   ]
  },
  {
   "cell_type": "markdown",
   "id": "fc8ad7fe-a13d-4a51-8177-5a2fca1f74e4",
   "metadata": {},
   "source": [
    "2. Use this function to create a JSON file with a dictionary for each possible combination of these parameters."
   ]
  },
  {
   "cell_type": "code",
   "execution_count": null,
   "id": "812b3b51-840b-4125-92aa-3d4a0edf1c41",
   "metadata": {},
   "outputs": [
    {
     "name": "stdout",
     "output_type": "stream",
     "text": [
      "Created 128 test scenarios.\n"
     ]
    }
   ],
   "source": [
    "from FRED.testing_utils import parameters_list_from_dict\n",
    "parameters_list_from_dict(parameters_dict, 'FRED_sc_test_dsq.txt', filetype='dsq', )"
   ]
  },
  {
   "cell_type": "code",
   "execution_count": null,
   "id": "12ec33fd-deda-4287-9dcb-b969d87a1844",
   "metadata": {},
   "outputs": [],
   "source": []
  }
 ],
 "metadata": {
  "kernelspec": {
   "display_name": "Python 3.9.13 ('FRED')",
   "language": "python",
   "name": "python3"
  }
 },
 "nbformat": 4,
 "nbformat_minor": 5
}
